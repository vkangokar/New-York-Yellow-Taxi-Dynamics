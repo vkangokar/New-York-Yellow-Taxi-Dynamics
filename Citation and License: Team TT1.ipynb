{
 "cells": [
  {
   "cell_type": "markdown",
   "metadata": {},
   "source": [
    "# Conclusion"
   ]
  },
  {
   "cell_type": "markdown",
   "metadata": {},
   "source": [
    "### Revenue forecasting"
   ]
  },
  {
   "cell_type": "markdown",
   "metadata": {},
   "source": [
    "ARIMA model is used for time series forecasting. ARIMA with (p,d,q) = (2,2,1) is chosen as the AIC value for is better than other models.\n",
    "\n",
    "Linear regression, decision tree regressor and random forest regressor are the algorithms used. Comparing these three models, random forest regressor is giving a better result as the rmse and msle value for them is least. Hence, random forest regressor is preferred"
   ]
  },
  {
   "cell_type": "markdown",
   "metadata": {},
   "source": [
    "### Demand forecasting"
   ]
  },
  {
   "cell_type": "markdown",
   "metadata": {},
   "source": [
    "Linear regression and decision tree regressor are the algorithms used. Decision tree regressor is overfitting the model. Linear regression has a better rmse and msle model when compared to decision tree regressor. Hence, linear regression is preferred"
   ]
  },
  {
   "cell_type": "markdown",
   "metadata": {},
   "source": [
    "### Cab pooling"
   ]
  },
  {
   "cell_type": "markdown",
   "metadata": {},
   "source": [
    "K-Means clustering with K=2 and K=6 was performed. The model with K=2 is giving better prediction than K=6. Hence, the model with k=2 is chosen"
   ]
  },
  {
   "cell_type": "markdown",
   "metadata": {},
   "source": [
    "# Contribution"
   ]
  },
  {
   "cell_type": "markdown",
   "metadata": {},
   "source": [
    "Source: https://www1.nyc.gov/site/tlc/about/tlc-trip-record-data.page\n",
    "\n",
    "Twelve months cab trip data of year 2018 was chosen as our dataset. The data cleaning was done and analysis on the variables was made. Each months data was merged with lookup table. Twelve month's dataset was merged to form a single dataset.\n",
    "\n",
    "1. Demand forecasting: Mahesh Kandukuri\n",
    "2. Revenue forecasting: Kelvin Julka\n",
    "3. Cab pooling: Vinay Ramesh Kangokar\n",
    "\n",
    "60% code from online resources\n",
    "40% code by team"
   ]
  },
  {
   "cell_type": "markdown",
   "metadata": {},
   "source": [
    "# Citation"
   ]
  },
  {
   "cell_type": "markdown",
   "metadata": {},
   "source": [
    "1. Datacamp: https://www.datacamp.com/community/tutorials/k-means-clustering-python\n",
    "2. github: https://www.kaggle.com/vinothkumarsubbiah/new-york-city-taxi-fare-prediction\n",
    "3. kaggle:https://www.kaggle.com/monthepp/new-york-city-taxi-fare-prediction\n",
    "4. Stackoverflow: https://stackoverflow.com/questions/15604647/k-means-clustering-algorithm\n"
   ]
  },
  {
   "cell_type": "markdown",
   "metadata": {},
   "source": [
    "# License"
   ]
  },
  {
   "cell_type": "markdown",
   "metadata": {},
   "source": [
    "Copyright 2019 Kelvin Julka, Mahesh kandukuri, Vinay Ramesh Kangokar\n",
    "\n",
    "Permission is hereby granted, free of charge, to any person obtaining a copy of this software and associated documentation files (the \"Software\"), to deal in the Software without restriction, including without limitation the rights to use, copy, modify, merge, publish, distribute, sublicense, and/or sell copies of the Software, and to permit persons to whom the Software is furnished to do so, subject to the following conditions:\n",
    "\n",
    "The above copyright notice and this permission notice shall be included in all copies or substantial portions of the Software.\n",
    "\n",
    "THE SOFTWARE IS PROVIDED \"AS IS\", WITHOUT WARRANTY OF ANY KIND, EXPRESS OR IMPLIED, INCLUDING BUT NOT LIMITED TO THE WARRANTIES OF MERCHANTABILITY, FITNESS FOR A PARTICULAR PURPOSE AND NONINFRINGEMENT. IN NO EVENT SHALL THE AUTHORS OR COPYRIGHT HOLDERS BE LIABLE FOR ANY CLAIM, DAMAGES OR OTHER LIABILITY, WHETHER IN AN ACTION OF CONTRACT, TORT OR OTHERWISE, ARISING FROM, OUT OF OR IN CONNECTION WITH THE SOFTWARE OR THE USE OR OTHER DEALINGS IN THE SOFTWARE."
   ]
  },
  {
   "cell_type": "code",
   "execution_count": null,
   "metadata": {},
   "outputs": [],
   "source": []
  }
 ],
 "metadata": {
  "kernelspec": {
   "display_name": "Python 3",
   "language": "python",
   "name": "python3"
  },
  "language_info": {
   "codemirror_mode": {
    "name": "ipython",
    "version": 3
   },
   "file_extension": ".py",
   "mimetype": "text/x-python",
   "name": "python",
   "nbconvert_exporter": "python",
   "pygments_lexer": "ipython3",
   "version": "3.7.1"
  }
 },
 "nbformat": 4,
 "nbformat_minor": 2
}
