{
 "cells": [
  {
   "cell_type": "markdown",
   "metadata": {},
   "source": [
    "# Demand prediction"
   ]
  },
  {
   "cell_type": "code",
   "execution_count": 2,
   "metadata": {},
   "outputs": [
    {
     "data": {
      "text/html": [
       "<img src=\"https://media.credencys.com/wp-content/uploads/2017/10/Taxi-App.jpg\"/>"
      ],
      "text/plain": [
       "<IPython.core.display.Image object>"
      ]
     },
     "execution_count": 2,
     "metadata": {},
     "output_type": "execute_result"
    }
   ],
   "source": [
    "from IPython.display import HTML\n",
    "from IPython.display import Image\n",
    "Image(url = \"https://media.credencys.com/wp-content/uploads/2017/10/Taxi-App.jpg\")"
   ]
  },
  {
   "cell_type": "markdown",
   "metadata": {},
   "source": [
    "## Introduction"
   ]
  },
  {
   "cell_type": "markdown",
   "metadata": {},
   "source": [
    "Yellow taxis (medallion taxis) are able to pick up passengers anywhere in the five boroughs. Taxicab vehicles, each of which must have a medallion to operate, are driven an average of 180 miles per shift. As of March 14, 2014, there were 51,398 individuals licensed to drive medallion taxicabs. There were 13,605 taxicab medallion licenses in existence. By July 2015, that number had dropped slightly to 13,587 medallions, or 18 lower than the 2014 total. Taxi patronage has declined since 2011 due to competition from rideshare services."
   ]
  },
  {
   "cell_type": "markdown",
   "metadata": {},
   "source": [
    "### Objective"
   ]
  },
  {
   "cell_type": "markdown",
   "metadata": {},
   "source": [
    "The main objective is to predict the number of pickups as accurately as possible for each region in a given interval. We will break up the whole New York City into regions."
   ]
  },
  {
   "cell_type": "markdown",
   "metadata": {},
   "source": [
    "## And here it starts..."
   ]
  },
  {
   "cell_type": "markdown",
   "metadata": {},
   "source": [
    "#### Importing the libraries"
   ]
  },
  {
   "cell_type": "code",
   "execution_count": 1,
   "metadata": {},
   "outputs": [
    {
     "data": {
      "text/html": [
       "<script type=\"text/javascript\">window.PlotlyConfig = {MathJaxConfig: 'local'};</script><script type=\"text/javascript\">if (window.MathJax) {MathJax.Hub.Config({SVG: {font: \"STIX-Web\"}});}</script><script>requirejs.config({paths: { 'plotly': ['https://cdn.plot.ly/plotly-latest.min']},});if(!window._Plotly) {require(['plotly'],function(plotly) {window._Plotly=plotly;});}</script>"
      ],
      "text/vnd.plotly.v1+html": [
       "<script type=\"text/javascript\">window.PlotlyConfig = {MathJaxConfig: 'local'};</script><script type=\"text/javascript\">if (window.MathJax) {MathJax.Hub.Config({SVG: {font: \"STIX-Web\"}});}</script><script>requirejs.config({paths: { 'plotly': ['https://cdn.plot.ly/plotly-latest.min']},});if(!window._Plotly) {require(['plotly'],function(plotly) {window._Plotly=plotly;});}</script>"
      ]
     },
     "metadata": {},
     "output_type": "display_data"
    }
   ],
   "source": [
    "%matplotlib inline\n",
    "import pandas as pd\n",
    "import matplotlib.pyplot as plt\n",
    "import numpy as np\n",
    "from scipy import stats\n",
    "import seaborn as sns\n",
    "import statsmodels.api as sm\n",
    "from sklearn import linear_model\n",
    "from statsmodels.formula.api import ols\n",
    "from sklearn.linear_model import LinearRegression, Ridge, Lasso\n",
    "from sklearn.preprocessing import PolynomialFeatures\n",
    "from sklearn.pipeline import make_pipeline\n",
    "import warnings\n",
    "warnings.filterwarnings('ignore')\n",
    "from sklearn.preprocessing import LabelEncoder\n",
    "from sklearn.model_selection import train_test_split\n",
    "from sklearn.linear_model import LinearRegression\n",
    "from sklearn.tree import DecisionTreeRegressor\n",
    "from sklearn.ensemble import RandomForestRegressor\n",
    "from sklearn.metrics import mean_squared_error, mean_squared_log_error\n",
    "from sklearn.preprocessing import scale\n",
    "from sklearn.linear_model import LogisticRegression\n",
    "from sklearn import metrics\n",
    "from sklearn import preprocessing\n",
    "from pylab import rcParams\n",
    "from scipy.stats import spearmanr\n",
    "from statsmodels.stats.outliers_influence import variance_inflation_factor\n",
    "from sklearn.metrics import accuracy_score\n",
    "import itertools\n",
    "import plotly.offline as py#visualization\n",
    "py.init_notebook_mode(connected=True)#visualization\n",
    "import plotly.graph_objs as go#visualization\n",
    "import plotly.tools as tls#visualization\n",
    "import plotly.figure_factory as ff#visualization\n",
    "import warnings\n",
    "warnings.filterwarnings(\"ignore\")\n",
    "from pandas import *"
   ]
  },
  {
   "cell_type": "markdown",
   "metadata": {},
   "source": [
    "#### Loading the dataset"
   ]
  },
  {
   "cell_type": "code",
   "execution_count": 2,
   "metadata": {},
   "outputs": [
    {
     "data": {
      "text/html": [
       "<div>\n",
       "<style scoped>\n",
       "    .dataframe tbody tr th:only-of-type {\n",
       "        vertical-align: middle;\n",
       "    }\n",
       "\n",
       "    .dataframe tbody tr th {\n",
       "        vertical-align: top;\n",
       "    }\n",
       "\n",
       "    .dataframe thead th {\n",
       "        text-align: right;\n",
       "    }\n",
       "</style>\n",
       "<table border=\"1\" class=\"dataframe\">\n",
       "  <thead>\n",
       "    <tr style=\"text-align: right;\">\n",
       "      <th></th>\n",
       "      <th>Zone</th>\n",
       "      <th>PickupTime</th>\n",
       "      <th>service_zone</th>\n",
       "      <th>CabRequest</th>\n",
       "      <th>total_amount</th>\n",
       "      <th>tip_amount</th>\n",
       "    </tr>\n",
       "  </thead>\n",
       "  <tbody>\n",
       "    <tr>\n",
       "      <th>0</th>\n",
       "      <td>Allerton/Pelham Gardens</td>\n",
       "      <td>2018-04-01 11</td>\n",
       "      <td>Boro Zone</td>\n",
       "      <td>1</td>\n",
       "      <td>41.8</td>\n",
       "      <td>0.0</td>\n",
       "    </tr>\n",
       "    <tr>\n",
       "      <th>1</th>\n",
       "      <td>Allerton/Pelham Gardens</td>\n",
       "      <td>2018-04-01 2</td>\n",
       "      <td>Boro Zone</td>\n",
       "      <td>1</td>\n",
       "      <td>23.8</td>\n",
       "      <td>0.0</td>\n",
       "    </tr>\n",
       "    <tr>\n",
       "      <th>2</th>\n",
       "      <td>Allerton/Pelham Gardens</td>\n",
       "      <td>2018-04-01 8</td>\n",
       "      <td>Boro Zone</td>\n",
       "      <td>1</td>\n",
       "      <td>44.8</td>\n",
       "      <td>0.0</td>\n",
       "    </tr>\n",
       "    <tr>\n",
       "      <th>3</th>\n",
       "      <td>Allerton/Pelham Gardens</td>\n",
       "      <td>2018-04-01 9</td>\n",
       "      <td>Boro Zone</td>\n",
       "      <td>2</td>\n",
       "      <td>69.6</td>\n",
       "      <td>0.0</td>\n",
       "    </tr>\n",
       "    <tr>\n",
       "      <th>4</th>\n",
       "      <td>Allerton/Pelham Gardens</td>\n",
       "      <td>2018-04-03 12</td>\n",
       "      <td>Boro Zone</td>\n",
       "      <td>1</td>\n",
       "      <td>11.3</td>\n",
       "      <td>0.0</td>\n",
       "    </tr>\n",
       "  </tbody>\n",
       "</table>\n",
       "</div>"
      ],
      "text/plain": [
       "                      Zone     PickupTime service_zone  CabRequest  \\\n",
       "0  Allerton/Pelham Gardens  2018-04-01 11    Boro Zone           1   \n",
       "1  Allerton/Pelham Gardens   2018-04-01 2    Boro Zone           1   \n",
       "2  Allerton/Pelham Gardens   2018-04-01 8    Boro Zone           1   \n",
       "3  Allerton/Pelham Gardens   2018-04-01 9    Boro Zone           2   \n",
       "4  Allerton/Pelham Gardens  2018-04-03 12    Boro Zone           1   \n",
       "\n",
       "   total_amount  tip_amount  \n",
       "0          41.8         0.0  \n",
       "1          23.8         0.0  \n",
       "2          44.8         0.0  \n",
       "3          69.6         0.0  \n",
       "4          11.3         0.0  "
      ]
     },
     "execution_count": 2,
     "metadata": {},
     "output_type": "execute_result"
    }
   ],
   "source": [
    "df = pd.read_csv(\"Mergedd.csv\")\n",
    "df.head()"
   ]
  },
  {
   "cell_type": "markdown",
   "metadata": {},
   "source": [
    "#### Checking for the null values"
   ]
  },
  {
   "cell_type": "code",
   "execution_count": 3,
   "metadata": {},
   "outputs": [
    {
     "data": {
      "text/plain": [
       "Zone            0\n",
       "PickupTime      0\n",
       "service_zone    0\n",
       "CabRequest      0\n",
       "total_amount    0\n",
       "tip_amount      0\n",
       "dtype: int64"
      ]
     },
     "execution_count": 3,
     "metadata": {},
     "output_type": "execute_result"
    }
   ],
   "source": [
    "df.isnull().sum()"
   ]
  },
  {
   "cell_type": "markdown",
   "metadata": {},
   "source": [
    "We can see that the data is clean and there are no null values present"
   ]
  },
  {
   "cell_type": "markdown",
   "metadata": {},
   "source": [
    "#### Generating descriptive statistics of the dataset distribution"
   ]
  },
  {
   "cell_type": "code",
   "execution_count": 4,
   "metadata": {},
   "outputs": [
    {
     "data": {
      "text/html": [
       "<div>\n",
       "<style scoped>\n",
       "    .dataframe tbody tr th:only-of-type {\n",
       "        vertical-align: middle;\n",
       "    }\n",
       "\n",
       "    .dataframe tbody tr th {\n",
       "        vertical-align: top;\n",
       "    }\n",
       "\n",
       "    .dataframe thead th {\n",
       "        text-align: right;\n",
       "    }\n",
       "</style>\n",
       "<table border=\"1\" class=\"dataframe\">\n",
       "  <thead>\n",
       "    <tr style=\"text-align: right;\">\n",
       "      <th></th>\n",
       "      <th>CabRequest</th>\n",
       "      <th>total_amount</th>\n",
       "      <th>tip_amount</th>\n",
       "    </tr>\n",
       "  </thead>\n",
       "  <tbody>\n",
       "    <tr>\n",
       "      <th>count</th>\n",
       "      <td>1.048564e+06</td>\n",
       "      <td>1.048564e+06</td>\n",
       "      <td>1.048564e+06</td>\n",
       "    </tr>\n",
       "    <tr>\n",
       "      <th>mean</th>\n",
       "      <td>8.954993e+01</td>\n",
       "      <td>1.461547e+03</td>\n",
       "      <td>1.670406e+02</td>\n",
       "    </tr>\n",
       "    <tr>\n",
       "      <th>std</th>\n",
       "      <td>1.618861e+02</td>\n",
       "      <td>3.402060e+03</td>\n",
       "      <td>3.718295e+02</td>\n",
       "    </tr>\n",
       "    <tr>\n",
       "      <th>min</th>\n",
       "      <td>1.000000e+00</td>\n",
       "      <td>0.000000e+00</td>\n",
       "      <td>0.000000e+00</td>\n",
       "    </tr>\n",
       "    <tr>\n",
       "      <th>25%</th>\n",
       "      <td>2.000000e+00</td>\n",
       "      <td>4.310000e+01</td>\n",
       "      <td>1.000000e+00</td>\n",
       "    </tr>\n",
       "    <tr>\n",
       "      <th>50%</th>\n",
       "      <td>1.000000e+01</td>\n",
       "      <td>1.789800e+02</td>\n",
       "      <td>1.597000e+01</td>\n",
       "    </tr>\n",
       "    <tr>\n",
       "      <th>75%</th>\n",
       "      <td>1.010000e+02</td>\n",
       "      <td>1.531173e+03</td>\n",
       "      <td>1.696300e+02</td>\n",
       "    </tr>\n",
       "    <tr>\n",
       "      <th>max</th>\n",
       "      <td>2.677000e+03</td>\n",
       "      <td>9.071061e+05</td>\n",
       "      <td>5.991910e+03</td>\n",
       "    </tr>\n",
       "  </tbody>\n",
       "</table>\n",
       "</div>"
      ],
      "text/plain": [
       "         CabRequest  total_amount    tip_amount\n",
       "count  1.048564e+06  1.048564e+06  1.048564e+06\n",
       "mean   8.954993e+01  1.461547e+03  1.670406e+02\n",
       "std    1.618861e+02  3.402060e+03  3.718295e+02\n",
       "min    1.000000e+00  0.000000e+00  0.000000e+00\n",
       "25%    2.000000e+00  4.310000e+01  1.000000e+00\n",
       "50%    1.000000e+01  1.789800e+02  1.597000e+01\n",
       "75%    1.010000e+02  1.531173e+03  1.696300e+02\n",
       "max    2.677000e+03  9.071061e+05  5.991910e+03"
      ]
     },
     "execution_count": 4,
     "metadata": {},
     "output_type": "execute_result"
    }
   ],
   "source": [
    "df.describe()"
   ]
  },
  {
   "cell_type": "markdown",
   "metadata": {},
   "source": [
    "#### Splitting the pickup_time column into two new columns i,e. Date and hour\n",
    "#### Retrieving the first five rows of the dataset"
   ]
  },
  {
   "cell_type": "code",
   "execution_count": 5,
   "metadata": {},
   "outputs": [
    {
     "data": {
      "text/html": [
       "<div>\n",
       "<style scoped>\n",
       "    .dataframe tbody tr th:only-of-type {\n",
       "        vertical-align: middle;\n",
       "    }\n",
       "\n",
       "    .dataframe tbody tr th {\n",
       "        vertical-align: top;\n",
       "    }\n",
       "\n",
       "    .dataframe thead th {\n",
       "        text-align: right;\n",
       "    }\n",
       "</style>\n",
       "<table border=\"1\" class=\"dataframe\">\n",
       "  <thead>\n",
       "    <tr style=\"text-align: right;\">\n",
       "      <th></th>\n",
       "      <th>Zone</th>\n",
       "      <th>PickupTime</th>\n",
       "      <th>service_zone</th>\n",
       "      <th>CabRequest</th>\n",
       "      <th>total_amount</th>\n",
       "      <th>tip_amount</th>\n",
       "      <th>Date</th>\n",
       "      <th>hour</th>\n",
       "    </tr>\n",
       "  </thead>\n",
       "  <tbody>\n",
       "    <tr>\n",
       "      <th>0</th>\n",
       "      <td>Allerton/Pelham Gardens</td>\n",
       "      <td>2018-04-01 11</td>\n",
       "      <td>Boro Zone</td>\n",
       "      <td>1</td>\n",
       "      <td>41.8</td>\n",
       "      <td>0.0</td>\n",
       "      <td>2018-04-01</td>\n",
       "      <td>11</td>\n",
       "    </tr>\n",
       "    <tr>\n",
       "      <th>1</th>\n",
       "      <td>Allerton/Pelham Gardens</td>\n",
       "      <td>2018-04-01 2</td>\n",
       "      <td>Boro Zone</td>\n",
       "      <td>1</td>\n",
       "      <td>23.8</td>\n",
       "      <td>0.0</td>\n",
       "      <td>2018-04-01</td>\n",
       "      <td>2</td>\n",
       "    </tr>\n",
       "    <tr>\n",
       "      <th>2</th>\n",
       "      <td>Allerton/Pelham Gardens</td>\n",
       "      <td>2018-04-01 8</td>\n",
       "      <td>Boro Zone</td>\n",
       "      <td>1</td>\n",
       "      <td>44.8</td>\n",
       "      <td>0.0</td>\n",
       "      <td>2018-04-01</td>\n",
       "      <td>8</td>\n",
       "    </tr>\n",
       "    <tr>\n",
       "      <th>3</th>\n",
       "      <td>Allerton/Pelham Gardens</td>\n",
       "      <td>2018-04-01 9</td>\n",
       "      <td>Boro Zone</td>\n",
       "      <td>2</td>\n",
       "      <td>69.6</td>\n",
       "      <td>0.0</td>\n",
       "      <td>2018-04-01</td>\n",
       "      <td>9</td>\n",
       "    </tr>\n",
       "    <tr>\n",
       "      <th>4</th>\n",
       "      <td>Allerton/Pelham Gardens</td>\n",
       "      <td>2018-04-03 12</td>\n",
       "      <td>Boro Zone</td>\n",
       "      <td>1</td>\n",
       "      <td>11.3</td>\n",
       "      <td>0.0</td>\n",
       "      <td>2018-04-03</td>\n",
       "      <td>12</td>\n",
       "    </tr>\n",
       "  </tbody>\n",
       "</table>\n",
       "</div>"
      ],
      "text/plain": [
       "                      Zone     PickupTime service_zone  CabRequest  \\\n",
       "0  Allerton/Pelham Gardens  2018-04-01 11    Boro Zone           1   \n",
       "1  Allerton/Pelham Gardens   2018-04-01 2    Boro Zone           1   \n",
       "2  Allerton/Pelham Gardens   2018-04-01 8    Boro Zone           1   \n",
       "3  Allerton/Pelham Gardens   2018-04-01 9    Boro Zone           2   \n",
       "4  Allerton/Pelham Gardens  2018-04-03 12    Boro Zone           1   \n",
       "\n",
       "   total_amount  tip_amount        Date hour  \n",
       "0          41.8         0.0  2018-04-01   11  \n",
       "1          23.8         0.0  2018-04-01    2  \n",
       "2          44.8         0.0  2018-04-01    8  \n",
       "3          69.6         0.0  2018-04-01    9  \n",
       "4          11.3         0.0  2018-04-03   12  "
      ]
     },
     "execution_count": 5,
     "metadata": {},
     "output_type": "execute_result"
    }
   ],
   "source": [
    "df['Date']=df.PickupTime.str.split(' ').str[0].str.strip()\n",
    "df['hour']=df.PickupTime.str.split(' ').str[1].str.strip()\n",
    "df.head()"
   ]
  },
  {
   "cell_type": "markdown",
   "metadata": {},
   "source": [
    "#### Converting column Date from \"date\" format to \"datetime\" format\n",
    "#### Creating a new column year using date column"
   ]
  },
  {
   "cell_type": "code",
   "execution_count": 6,
   "metadata": {},
   "outputs": [],
   "source": [
    "df['Date'] = pd.to_datetime(df['Date'])\n",
    "df['Year'] = df['Date'].dt.year"
   ]
  },
  {
   "cell_type": "markdown",
   "metadata": {},
   "source": [
    "#### Assigning the year as 2018 in the dataset"
   ]
  },
  {
   "cell_type": "code",
   "execution_count": 7,
   "metadata": {},
   "outputs": [],
   "source": [
    "df_Output=df[(df['Year']== 2018)]"
   ]
  },
  {
   "cell_type": "markdown",
   "metadata": {},
   "source": [
    "#### Creating new columns such as week_day, month, month_name and month_year using the existing columns in the dataset"
   ]
  },
  {
   "cell_type": "code",
   "execution_count": 8,
   "metadata": {},
   "outputs": [],
   "source": [
    "df_Output[\"week_day\"]   = df_Output[\"Date\"].dt.weekday_name\n",
    "df_Output[\"month\"] = pd.DatetimeIndex(df_Output[\"Date\"]).month\n",
    "df_Output[\"month_name\"] = df_Output[\"month\"].map({1:\"JAN\",2:\"FEB\",3:\"MAR\",\n",
    "                                                4:\"APR\",5:\"MAY\",6:\"JUN\",\n",
    "                                                7:\"JUL\",8:\"AUG\",9:\"SEP\",\n",
    "                                                10:\"OCT\",11:\"NOV\",12:\"DEC\"\n",
    "                                               })\n",
    "df_Output[\"month_year\"] = df_Output[\"Year\"].astype(str) + \" - \" + df_Output[\"month_name\"]"
   ]
  },
  {
   "cell_type": "markdown",
   "metadata": {},
   "source": [
    "#### A map function is used above to map a particular month to its corresponding number"
   ]
  },
  {
   "cell_type": "code",
   "execution_count": 9,
   "metadata": {},
   "outputs": [
    {
     "data": {
      "text/html": [
       "<div>\n",
       "<style scoped>\n",
       "    .dataframe tbody tr th:only-of-type {\n",
       "        vertical-align: middle;\n",
       "    }\n",
       "\n",
       "    .dataframe tbody tr th {\n",
       "        vertical-align: top;\n",
       "    }\n",
       "\n",
       "    .dataframe thead th {\n",
       "        text-align: right;\n",
       "    }\n",
       "</style>\n",
       "<table border=\"1\" class=\"dataframe\">\n",
       "  <thead>\n",
       "    <tr style=\"text-align: right;\">\n",
       "      <th></th>\n",
       "      <th>Zone</th>\n",
       "      <th>PickupTime</th>\n",
       "      <th>service_zone</th>\n",
       "      <th>CabRequest</th>\n",
       "      <th>total_amount</th>\n",
       "      <th>tip_amount</th>\n",
       "      <th>Date</th>\n",
       "      <th>hour</th>\n",
       "      <th>Year</th>\n",
       "      <th>week_day</th>\n",
       "      <th>month</th>\n",
       "      <th>month_name</th>\n",
       "      <th>month_year</th>\n",
       "    </tr>\n",
       "  </thead>\n",
       "  <tbody>\n",
       "    <tr>\n",
       "      <th>0</th>\n",
       "      <td>Allerton/Pelham Gardens</td>\n",
       "      <td>2018-04-01 11</td>\n",
       "      <td>Boro Zone</td>\n",
       "      <td>1</td>\n",
       "      <td>41.8</td>\n",
       "      <td>0.0</td>\n",
       "      <td>2018-04-01</td>\n",
       "      <td>11</td>\n",
       "      <td>2018</td>\n",
       "      <td>Sunday</td>\n",
       "      <td>4</td>\n",
       "      <td>APR</td>\n",
       "      <td>2018 - APR</td>\n",
       "    </tr>\n",
       "    <tr>\n",
       "      <th>1</th>\n",
       "      <td>Allerton/Pelham Gardens</td>\n",
       "      <td>2018-04-01 2</td>\n",
       "      <td>Boro Zone</td>\n",
       "      <td>1</td>\n",
       "      <td>23.8</td>\n",
       "      <td>0.0</td>\n",
       "      <td>2018-04-01</td>\n",
       "      <td>2</td>\n",
       "      <td>2018</td>\n",
       "      <td>Sunday</td>\n",
       "      <td>4</td>\n",
       "      <td>APR</td>\n",
       "      <td>2018 - APR</td>\n",
       "    </tr>\n",
       "    <tr>\n",
       "      <th>2</th>\n",
       "      <td>Allerton/Pelham Gardens</td>\n",
       "      <td>2018-04-01 8</td>\n",
       "      <td>Boro Zone</td>\n",
       "      <td>1</td>\n",
       "      <td>44.8</td>\n",
       "      <td>0.0</td>\n",
       "      <td>2018-04-01</td>\n",
       "      <td>8</td>\n",
       "      <td>2018</td>\n",
       "      <td>Sunday</td>\n",
       "      <td>4</td>\n",
       "      <td>APR</td>\n",
       "      <td>2018 - APR</td>\n",
       "    </tr>\n",
       "    <tr>\n",
       "      <th>3</th>\n",
       "      <td>Allerton/Pelham Gardens</td>\n",
       "      <td>2018-04-01 9</td>\n",
       "      <td>Boro Zone</td>\n",
       "      <td>2</td>\n",
       "      <td>69.6</td>\n",
       "      <td>0.0</td>\n",
       "      <td>2018-04-01</td>\n",
       "      <td>9</td>\n",
       "      <td>2018</td>\n",
       "      <td>Sunday</td>\n",
       "      <td>4</td>\n",
       "      <td>APR</td>\n",
       "      <td>2018 - APR</td>\n",
       "    </tr>\n",
       "    <tr>\n",
       "      <th>4</th>\n",
       "      <td>Allerton/Pelham Gardens</td>\n",
       "      <td>2018-04-03 12</td>\n",
       "      <td>Boro Zone</td>\n",
       "      <td>1</td>\n",
       "      <td>11.3</td>\n",
       "      <td>0.0</td>\n",
       "      <td>2018-04-03</td>\n",
       "      <td>12</td>\n",
       "      <td>2018</td>\n",
       "      <td>Tuesday</td>\n",
       "      <td>4</td>\n",
       "      <td>APR</td>\n",
       "      <td>2018 - APR</td>\n",
       "    </tr>\n",
       "  </tbody>\n",
       "</table>\n",
       "</div>"
      ],
      "text/plain": [
       "                      Zone     PickupTime service_zone  CabRequest  \\\n",
       "0  Allerton/Pelham Gardens  2018-04-01 11    Boro Zone           1   \n",
       "1  Allerton/Pelham Gardens   2018-04-01 2    Boro Zone           1   \n",
       "2  Allerton/Pelham Gardens   2018-04-01 8    Boro Zone           1   \n",
       "3  Allerton/Pelham Gardens   2018-04-01 9    Boro Zone           2   \n",
       "4  Allerton/Pelham Gardens  2018-04-03 12    Boro Zone           1   \n",
       "\n",
       "   total_amount  tip_amount       Date hour  Year week_day  month month_name  \\\n",
       "0          41.8         0.0 2018-04-01   11  2018   Sunday      4        APR   \n",
       "1          23.8         0.0 2018-04-01    2  2018   Sunday      4        APR   \n",
       "2          44.8         0.0 2018-04-01    8  2018   Sunday      4        APR   \n",
       "3          69.6         0.0 2018-04-01    9  2018   Sunday      4        APR   \n",
       "4          11.3         0.0 2018-04-03   12  2018  Tuesday      4        APR   \n",
       "\n",
       "   month_year  \n",
       "0  2018 - APR  \n",
       "1  2018 - APR  \n",
       "2  2018 - APR  \n",
       "3  2018 - APR  \n",
       "4  2018 - APR  "
      ]
     },
     "execution_count": 9,
     "metadata": {},
     "output_type": "execute_result"
    }
   ],
   "source": [
    "df_Output.head()"
   ]
  },
  {
   "cell_type": "markdown",
   "metadata": {},
   "source": [
    "#### Creating an array of dates having public holidays in the year 2018"
   ]
  },
  {
   "cell_type": "code",
   "execution_count": 10,
   "metadata": {},
   "outputs": [],
   "source": [
    "from array import array\n",
    "datearr = ['2018-01-01','2018-01-15','2018-02-19','2018-04-16','2018-05-13','2018-05-28','2018-06-17','2018-04-04','2018-05-07','2018-20-08','2018-11-11','2018-11-12','2018-11-22','2018-11-23','2018-12-05','2018-12-24','2018-12-25']"
   ]
  },
  {
   "cell_type": "markdown",
   "metadata": {},
   "source": [
    "#### Creating an array of dates having extreme weather conditions in the year 2018"
   ]
  },
  {
   "cell_type": "code",
   "execution_count": 11,
   "metadata": {},
   "outputs": [],
   "source": [
    "from array import array\n",
    "datearr1 = ['2018-01-04','2018-01-12','2018-01-13','2018-01-17','2018-01-30','2018-02-10','2018-02-12','2018-02-11','2018-02-18','2018-02-21','2018-02-24','2018-02-25','2018-03-02','2018-03-05','2018-02-17','2018-03-18','2018-02-02','2018-05-15','2018-09-25','2018-11-15','2018-04-01']"
   ]
  },
  {
   "cell_type": "markdown",
   "metadata": {},
   "source": [
    "#### Assigning the binary values to the public holidays corresponding to their respective dates"
   ]
  },
  {
   "cell_type": "code",
   "execution_count": 12,
   "metadata": {},
   "outputs": [],
   "source": [
    "df_Output['is_public_holidays'] = ['yes' if x.strftime('%Y-%m-%d') in datearr else 'no' for x in df_Output['Date']]\n"
   ]
  },
  {
   "cell_type": "markdown",
   "metadata": {},
   "source": [
    "#### Assigning the binary values to the extreme weather condition corresponding to their respective dates"
   ]
  },
  {
   "cell_type": "code",
   "execution_count": 13,
   "metadata": {},
   "outputs": [],
   "source": [
    "df_Output['is_extreme_cliamte'] = ['yes' if y.strftime('%Y-%m-%d') in datearr1 else 'no' for y in df_Output['Date']]"
   ]
  },
  {
   "cell_type": "markdown",
   "metadata": {},
   "source": [
    "#### Checking the dataset with all the added columns and values"
   ]
  },
  {
   "cell_type": "code",
   "execution_count": 14,
   "metadata": {},
   "outputs": [
    {
     "data": {
      "text/html": [
       "<div>\n",
       "<style scoped>\n",
       "    .dataframe tbody tr th:only-of-type {\n",
       "        vertical-align: middle;\n",
       "    }\n",
       "\n",
       "    .dataframe tbody tr th {\n",
       "        vertical-align: top;\n",
       "    }\n",
       "\n",
       "    .dataframe thead th {\n",
       "        text-align: right;\n",
       "    }\n",
       "</style>\n",
       "<table border=\"1\" class=\"dataframe\">\n",
       "  <thead>\n",
       "    <tr style=\"text-align: right;\">\n",
       "      <th></th>\n",
       "      <th>Zone</th>\n",
       "      <th>PickupTime</th>\n",
       "      <th>service_zone</th>\n",
       "      <th>CabRequest</th>\n",
       "      <th>total_amount</th>\n",
       "      <th>tip_amount</th>\n",
       "      <th>Date</th>\n",
       "      <th>hour</th>\n",
       "      <th>Year</th>\n",
       "      <th>week_day</th>\n",
       "      <th>month</th>\n",
       "      <th>month_name</th>\n",
       "      <th>month_year</th>\n",
       "      <th>is_public_holidays</th>\n",
       "      <th>is_extreme_cliamte</th>\n",
       "    </tr>\n",
       "  </thead>\n",
       "  <tbody>\n",
       "    <tr>\n",
       "      <th>0</th>\n",
       "      <td>Allerton/Pelham Gardens</td>\n",
       "      <td>2018-04-01 11</td>\n",
       "      <td>Boro Zone</td>\n",
       "      <td>1</td>\n",
       "      <td>41.8</td>\n",
       "      <td>0.0</td>\n",
       "      <td>2018-04-01</td>\n",
       "      <td>11</td>\n",
       "      <td>2018</td>\n",
       "      <td>Sunday</td>\n",
       "      <td>4</td>\n",
       "      <td>APR</td>\n",
       "      <td>2018 - APR</td>\n",
       "      <td>no</td>\n",
       "      <td>yes</td>\n",
       "    </tr>\n",
       "    <tr>\n",
       "      <th>1</th>\n",
       "      <td>Allerton/Pelham Gardens</td>\n",
       "      <td>2018-04-01 2</td>\n",
       "      <td>Boro Zone</td>\n",
       "      <td>1</td>\n",
       "      <td>23.8</td>\n",
       "      <td>0.0</td>\n",
       "      <td>2018-04-01</td>\n",
       "      <td>2</td>\n",
       "      <td>2018</td>\n",
       "      <td>Sunday</td>\n",
       "      <td>4</td>\n",
       "      <td>APR</td>\n",
       "      <td>2018 - APR</td>\n",
       "      <td>no</td>\n",
       "      <td>yes</td>\n",
       "    </tr>\n",
       "    <tr>\n",
       "      <th>2</th>\n",
       "      <td>Allerton/Pelham Gardens</td>\n",
       "      <td>2018-04-01 8</td>\n",
       "      <td>Boro Zone</td>\n",
       "      <td>1</td>\n",
       "      <td>44.8</td>\n",
       "      <td>0.0</td>\n",
       "      <td>2018-04-01</td>\n",
       "      <td>8</td>\n",
       "      <td>2018</td>\n",
       "      <td>Sunday</td>\n",
       "      <td>4</td>\n",
       "      <td>APR</td>\n",
       "      <td>2018 - APR</td>\n",
       "      <td>no</td>\n",
       "      <td>yes</td>\n",
       "    </tr>\n",
       "    <tr>\n",
       "      <th>3</th>\n",
       "      <td>Allerton/Pelham Gardens</td>\n",
       "      <td>2018-04-01 9</td>\n",
       "      <td>Boro Zone</td>\n",
       "      <td>2</td>\n",
       "      <td>69.6</td>\n",
       "      <td>0.0</td>\n",
       "      <td>2018-04-01</td>\n",
       "      <td>9</td>\n",
       "      <td>2018</td>\n",
       "      <td>Sunday</td>\n",
       "      <td>4</td>\n",
       "      <td>APR</td>\n",
       "      <td>2018 - APR</td>\n",
       "      <td>no</td>\n",
       "      <td>yes</td>\n",
       "    </tr>\n",
       "    <tr>\n",
       "      <th>4</th>\n",
       "      <td>Allerton/Pelham Gardens</td>\n",
       "      <td>2018-04-03 12</td>\n",
       "      <td>Boro Zone</td>\n",
       "      <td>1</td>\n",
       "      <td>11.3</td>\n",
       "      <td>0.0</td>\n",
       "      <td>2018-04-03</td>\n",
       "      <td>12</td>\n",
       "      <td>2018</td>\n",
       "      <td>Tuesday</td>\n",
       "      <td>4</td>\n",
       "      <td>APR</td>\n",
       "      <td>2018 - APR</td>\n",
       "      <td>no</td>\n",
       "      <td>no</td>\n",
       "    </tr>\n",
       "  </tbody>\n",
       "</table>\n",
       "</div>"
      ],
      "text/plain": [
       "                      Zone     PickupTime service_zone  CabRequest  \\\n",
       "0  Allerton/Pelham Gardens  2018-04-01 11    Boro Zone           1   \n",
       "1  Allerton/Pelham Gardens   2018-04-01 2    Boro Zone           1   \n",
       "2  Allerton/Pelham Gardens   2018-04-01 8    Boro Zone           1   \n",
       "3  Allerton/Pelham Gardens   2018-04-01 9    Boro Zone           2   \n",
       "4  Allerton/Pelham Gardens  2018-04-03 12    Boro Zone           1   \n",
       "\n",
       "   total_amount  tip_amount       Date hour  Year week_day  month month_name  \\\n",
       "0          41.8         0.0 2018-04-01   11  2018   Sunday      4        APR   \n",
       "1          23.8         0.0 2018-04-01    2  2018   Sunday      4        APR   \n",
       "2          44.8         0.0 2018-04-01    8  2018   Sunday      4        APR   \n",
       "3          69.6         0.0 2018-04-01    9  2018   Sunday      4        APR   \n",
       "4          11.3         0.0 2018-04-03   12  2018  Tuesday      4        APR   \n",
       "\n",
       "   month_year is_public_holidays is_extreme_cliamte  \n",
       "0  2018 - APR                 no                yes  \n",
       "1  2018 - APR                 no                yes  \n",
       "2  2018 - APR                 no                yes  \n",
       "3  2018 - APR                 no                yes  \n",
       "4  2018 - APR                 no                 no  "
      ]
     },
     "execution_count": 14,
     "metadata": {},
     "output_type": "execute_result"
    }
   ],
   "source": [
    "df_Output.head()"
   ]
  },
  {
   "cell_type": "markdown",
   "metadata": {},
   "source": [
    "We can observe from the dataset that the binary values are assigned to the dates that are represented in an array for public holidays and extreme_weather_condition"
   ]
  },
  {
   "cell_type": "markdown",
   "metadata": {},
   "source": [
    "#### Checking the unique values of column \"is_extreme_climate\""
   ]
  },
  {
   "cell_type": "code",
   "execution_count": 15,
   "metadata": {},
   "outputs": [
    {
     "data": {
      "text/plain": [
       "array(['yes', 'no'], dtype=object)"
      ]
     },
     "execution_count": 15,
     "metadata": {},
     "output_type": "execute_result"
    }
   ],
   "source": [
    "df_Output['is_extreme_cliamte'].unique()"
   ]
  },
  {
   "cell_type": "markdown",
   "metadata": {},
   "source": [
    "It is inferred that the column \"is_extreme_climate\" is now a binary column with only two values"
   ]
  },
  {
   "cell_type": "markdown",
   "metadata": {},
   "source": [
    "#### Creating a new dataframe, considering only few columns from the older original dataset"
   ]
  },
  {
   "cell_type": "code",
   "execution_count": 23,
   "metadata": {},
   "outputs": [
    {
     "data": {
      "text/html": [
       "<div>\n",
       "<style scoped>\n",
       "    .dataframe tbody tr th:only-of-type {\n",
       "        vertical-align: middle;\n",
       "    }\n",
       "\n",
       "    .dataframe tbody tr th {\n",
       "        vertical-align: top;\n",
       "    }\n",
       "\n",
       "    .dataframe thead th {\n",
       "        text-align: right;\n",
       "    }\n",
       "</style>\n",
       "<table border=\"1\" class=\"dataframe\">\n",
       "  <thead>\n",
       "    <tr style=\"text-align: right;\">\n",
       "      <th></th>\n",
       "      <th>CabRequest</th>\n",
       "      <th>Zone</th>\n",
       "      <th>Date</th>\n",
       "      <th>week_day</th>\n",
       "      <th>month</th>\n",
       "      <th>hour</th>\n",
       "      <th>is_public_holidays</th>\n",
       "      <th>is_extreme_cliamte</th>\n",
       "    </tr>\n",
       "  </thead>\n",
       "  <tbody>\n",
       "    <tr>\n",
       "      <th>0</th>\n",
       "      <td>1</td>\n",
       "      <td>Allerton/Pelham Gardens</td>\n",
       "      <td>2018-04-01</td>\n",
       "      <td>Sunday</td>\n",
       "      <td>4</td>\n",
       "      <td>11</td>\n",
       "      <td>no</td>\n",
       "      <td>yes</td>\n",
       "    </tr>\n",
       "    <tr>\n",
       "      <th>1</th>\n",
       "      <td>1</td>\n",
       "      <td>Allerton/Pelham Gardens</td>\n",
       "      <td>2018-04-01</td>\n",
       "      <td>Sunday</td>\n",
       "      <td>4</td>\n",
       "      <td>2</td>\n",
       "      <td>no</td>\n",
       "      <td>yes</td>\n",
       "    </tr>\n",
       "    <tr>\n",
       "      <th>2</th>\n",
       "      <td>1</td>\n",
       "      <td>Allerton/Pelham Gardens</td>\n",
       "      <td>2018-04-01</td>\n",
       "      <td>Sunday</td>\n",
       "      <td>4</td>\n",
       "      <td>8</td>\n",
       "      <td>no</td>\n",
       "      <td>yes</td>\n",
       "    </tr>\n",
       "    <tr>\n",
       "      <th>3</th>\n",
       "      <td>2</td>\n",
       "      <td>Allerton/Pelham Gardens</td>\n",
       "      <td>2018-04-01</td>\n",
       "      <td>Sunday</td>\n",
       "      <td>4</td>\n",
       "      <td>9</td>\n",
       "      <td>no</td>\n",
       "      <td>yes</td>\n",
       "    </tr>\n",
       "    <tr>\n",
       "      <th>4</th>\n",
       "      <td>1</td>\n",
       "      <td>Allerton/Pelham Gardens</td>\n",
       "      <td>2018-04-03</td>\n",
       "      <td>Tuesday</td>\n",
       "      <td>4</td>\n",
       "      <td>12</td>\n",
       "      <td>no</td>\n",
       "      <td>no</td>\n",
       "    </tr>\n",
       "  </tbody>\n",
       "</table>\n",
       "</div>"
      ],
      "text/plain": [
       "   CabRequest                     Zone       Date week_day  month hour  \\\n",
       "0           1  Allerton/Pelham Gardens 2018-04-01   Sunday      4   11   \n",
       "1           1  Allerton/Pelham Gardens 2018-04-01   Sunday      4    2   \n",
       "2           1  Allerton/Pelham Gardens 2018-04-01   Sunday      4    8   \n",
       "3           2  Allerton/Pelham Gardens 2018-04-01   Sunday      4    9   \n",
       "4           1  Allerton/Pelham Gardens 2018-04-03  Tuesday      4   12   \n",
       "\n",
       "  is_public_holidays is_extreme_cliamte  \n",
       "0                 no                yes  \n",
       "1                 no                yes  \n",
       "2                 no                yes  \n",
       "3                 no                yes  \n",
       "4                 no                 no  "
      ]
     },
     "execution_count": 23,
     "metadata": {},
     "output_type": "execute_result"
    }
   ],
   "source": [
    "df_demand = pd.DataFrame({\"CabRequest\":df_Output['CabRequest'], \"Zone\":df_Output['Zone'],\"Date\":df_Output['Date'],\"week_day\":df_Output['week_day'],\"month\":df_Output['month'],\"hour\":df_Output['hour'],\"is_public_holidays\":df_Output['is_public_holidays'],\"is_extreme_cliamte\":df_Output['is_extreme_cliamte']})\n",
    "df_demand.head()"
   ]
  },
  {
   "cell_type": "markdown",
   "metadata": {},
   "source": [
    "We can see that only the required columns are considered for the further analysis"
   ]
  },
  {
   "cell_type": "markdown",
   "metadata": {},
   "source": [
    "#### Creating a new column \"just_date\" from \"date\" column"
   ]
  },
  {
   "cell_type": "code",
   "execution_count": 24,
   "metadata": {},
   "outputs": [],
   "source": [
    "df_demand['just_date'] = df_demand['Date'].dt.date"
   ]
  },
  {
   "cell_type": "markdown",
   "metadata": {},
   "source": [
    "#### Changing the format of the \"just_date\" into date_hour by mapping date against hours"
   ]
  },
  {
   "cell_type": "code",
   "execution_count": 25,
   "metadata": {},
   "outputs": [],
   "source": [
    "df_demand['is_Date']= df_demand['just_date'].map(str) +\" \" +df_demand['hour'].map(str)"
   ]
  },
  {
   "cell_type": "markdown",
   "metadata": {},
   "source": [
    "#### Dropping the redundant columns( Date and hour) from the dataset"
   ]
  },
  {
   "cell_type": "code",
   "execution_count": 26,
   "metadata": {},
   "outputs": [],
   "source": [
    "df_demand=df_demand.drop(['Date','hour'] ,axis='columns')"
   ]
  },
  {
   "cell_type": "markdown",
   "metadata": {},
   "source": [
    "#### Checking the unique values present in the column week_day"
   ]
  },
  {
   "cell_type": "code",
   "execution_count": 27,
   "metadata": {},
   "outputs": [
    {
     "data": {
      "text/plain": [
       "array(['Sunday', 'Tuesday', 'Wednesday', 'Thursday', 'Friday', 'Monday',\n",
       "       'Saturday'], dtype=object)"
      ]
     },
     "execution_count": 27,
     "metadata": {},
     "output_type": "execute_result"
    }
   ],
   "source": [
    "df_demand.week_day.unique()"
   ]
  },
  {
   "cell_type": "code",
   "execution_count": 28,
   "metadata": {},
   "outputs": [
    {
     "data": {
      "text/html": [
       "<div>\n",
       "<style scoped>\n",
       "    .dataframe tbody tr th:only-of-type {\n",
       "        vertical-align: middle;\n",
       "    }\n",
       "\n",
       "    .dataframe tbody tr th {\n",
       "        vertical-align: top;\n",
       "    }\n",
       "\n",
       "    .dataframe thead th {\n",
       "        text-align: right;\n",
       "    }\n",
       "</style>\n",
       "<table border=\"1\" class=\"dataframe\">\n",
       "  <thead>\n",
       "    <tr style=\"text-align: right;\">\n",
       "      <th></th>\n",
       "      <th>CabRequest</th>\n",
       "      <th>Zone</th>\n",
       "      <th>week_day</th>\n",
       "      <th>month</th>\n",
       "      <th>is_public_holidays</th>\n",
       "      <th>is_extreme_cliamte</th>\n",
       "      <th>just_date</th>\n",
       "      <th>is_Date</th>\n",
       "    </tr>\n",
       "  </thead>\n",
       "  <tbody>\n",
       "    <tr>\n",
       "      <th>0</th>\n",
       "      <td>1</td>\n",
       "      <td>Allerton/Pelham Gardens</td>\n",
       "      <td>Sunday</td>\n",
       "      <td>4</td>\n",
       "      <td>no</td>\n",
       "      <td>yes</td>\n",
       "      <td>2018-04-01</td>\n",
       "      <td>2018-04-01 11</td>\n",
       "    </tr>\n",
       "    <tr>\n",
       "      <th>1</th>\n",
       "      <td>1</td>\n",
       "      <td>Allerton/Pelham Gardens</td>\n",
       "      <td>Sunday</td>\n",
       "      <td>4</td>\n",
       "      <td>no</td>\n",
       "      <td>yes</td>\n",
       "      <td>2018-04-01</td>\n",
       "      <td>2018-04-01 2</td>\n",
       "    </tr>\n",
       "    <tr>\n",
       "      <th>2</th>\n",
       "      <td>1</td>\n",
       "      <td>Allerton/Pelham Gardens</td>\n",
       "      <td>Sunday</td>\n",
       "      <td>4</td>\n",
       "      <td>no</td>\n",
       "      <td>yes</td>\n",
       "      <td>2018-04-01</td>\n",
       "      <td>2018-04-01 8</td>\n",
       "    </tr>\n",
       "    <tr>\n",
       "      <th>3</th>\n",
       "      <td>2</td>\n",
       "      <td>Allerton/Pelham Gardens</td>\n",
       "      <td>Sunday</td>\n",
       "      <td>4</td>\n",
       "      <td>no</td>\n",
       "      <td>yes</td>\n",
       "      <td>2018-04-01</td>\n",
       "      <td>2018-04-01 9</td>\n",
       "    </tr>\n",
       "    <tr>\n",
       "      <th>4</th>\n",
       "      <td>1</td>\n",
       "      <td>Allerton/Pelham Gardens</td>\n",
       "      <td>Tuesday</td>\n",
       "      <td>4</td>\n",
       "      <td>no</td>\n",
       "      <td>no</td>\n",
       "      <td>2018-04-03</td>\n",
       "      <td>2018-04-03 12</td>\n",
       "    </tr>\n",
       "  </tbody>\n",
       "</table>\n",
       "</div>"
      ],
      "text/plain": [
       "   CabRequest                     Zone week_day  month is_public_holidays  \\\n",
       "0           1  Allerton/Pelham Gardens   Sunday      4                 no   \n",
       "1           1  Allerton/Pelham Gardens   Sunday      4                 no   \n",
       "2           1  Allerton/Pelham Gardens   Sunday      4                 no   \n",
       "3           2  Allerton/Pelham Gardens   Sunday      4                 no   \n",
       "4           1  Allerton/Pelham Gardens  Tuesday      4                 no   \n",
       "\n",
       "  is_extreme_cliamte   just_date        is_Date  \n",
       "0                yes  2018-04-01  2018-04-01 11  \n",
       "1                yes  2018-04-01   2018-04-01 2  \n",
       "2                yes  2018-04-01   2018-04-01 8  \n",
       "3                yes  2018-04-01   2018-04-01 9  \n",
       "4                 no  2018-04-03  2018-04-03 12  "
      ]
     },
     "execution_count": 28,
     "metadata": {},
     "output_type": "execute_result"
    }
   ],
   "source": [
    "df_demand.head()"
   ]
  },
  {
   "cell_type": "markdown",
   "metadata": {},
   "source": [
    "#### Using lable encoder to transform binary and multi-categorical values into numerical values"
   ]
  },
  {
   "cell_type": "code",
   "execution_count": 29,
   "metadata": {},
   "outputs": [],
   "source": [
    "# Import label encoder \n",
    "from sklearn import preprocessing \n",
    "  \n",
    "# label_encoder object knows how to understand word labels. \n",
    "label_encoder = preprocessing.LabelEncoder() \n",
    "df_demand['Zone']= label_encoder.fit_transform(df_demand['Zone']) \n",
    "df_demand['is_public_holidays']= label_encoder.fit_transform(df_demand['is_public_holidays']) \n",
    "df_demand['is_extreme_cliamte']= label_encoder.fit_transform(df_demand['is_extreme_cliamte']) \n",
    "df_demand['week_day']= label_encoder.fit_transform(df_demand['week_day']) \n"
   ]
  },
  {
   "cell_type": "code",
   "execution_count": 30,
   "metadata": {},
   "outputs": [
    {
     "data": {
      "text/html": [
       "<div>\n",
       "<style scoped>\n",
       "    .dataframe tbody tr th:only-of-type {\n",
       "        vertical-align: middle;\n",
       "    }\n",
       "\n",
       "    .dataframe tbody tr th {\n",
       "        vertical-align: top;\n",
       "    }\n",
       "\n",
       "    .dataframe thead th {\n",
       "        text-align: right;\n",
       "    }\n",
       "</style>\n",
       "<table border=\"1\" class=\"dataframe\">\n",
       "  <thead>\n",
       "    <tr style=\"text-align: right;\">\n",
       "      <th></th>\n",
       "      <th>CabRequest</th>\n",
       "      <th>Zone</th>\n",
       "      <th>week_day</th>\n",
       "      <th>month</th>\n",
       "      <th>is_public_holidays</th>\n",
       "      <th>is_extreme_cliamte</th>\n",
       "      <th>just_date</th>\n",
       "      <th>is_Date</th>\n",
       "    </tr>\n",
       "  </thead>\n",
       "  <tbody>\n",
       "    <tr>\n",
       "      <th>0</th>\n",
       "      <td>1</td>\n",
       "      <td>0</td>\n",
       "      <td>3</td>\n",
       "      <td>4</td>\n",
       "      <td>0</td>\n",
       "      <td>1</td>\n",
       "      <td>2018-04-01</td>\n",
       "      <td>2018-04-01 11</td>\n",
       "    </tr>\n",
       "    <tr>\n",
       "      <th>1</th>\n",
       "      <td>1</td>\n",
       "      <td>0</td>\n",
       "      <td>3</td>\n",
       "      <td>4</td>\n",
       "      <td>0</td>\n",
       "      <td>1</td>\n",
       "      <td>2018-04-01</td>\n",
       "      <td>2018-04-01 2</td>\n",
       "    </tr>\n",
       "    <tr>\n",
       "      <th>2</th>\n",
       "      <td>1</td>\n",
       "      <td>0</td>\n",
       "      <td>3</td>\n",
       "      <td>4</td>\n",
       "      <td>0</td>\n",
       "      <td>1</td>\n",
       "      <td>2018-04-01</td>\n",
       "      <td>2018-04-01 8</td>\n",
       "    </tr>\n",
       "    <tr>\n",
       "      <th>3</th>\n",
       "      <td>2</td>\n",
       "      <td>0</td>\n",
       "      <td>3</td>\n",
       "      <td>4</td>\n",
       "      <td>0</td>\n",
       "      <td>1</td>\n",
       "      <td>2018-04-01</td>\n",
       "      <td>2018-04-01 9</td>\n",
       "    </tr>\n",
       "    <tr>\n",
       "      <th>4</th>\n",
       "      <td>1</td>\n",
       "      <td>0</td>\n",
       "      <td>5</td>\n",
       "      <td>4</td>\n",
       "      <td>0</td>\n",
       "      <td>0</td>\n",
       "      <td>2018-04-03</td>\n",
       "      <td>2018-04-03 12</td>\n",
       "    </tr>\n",
       "  </tbody>\n",
       "</table>\n",
       "</div>"
      ],
      "text/plain": [
       "   CabRequest  Zone  week_day  month  is_public_holidays  is_extreme_cliamte  \\\n",
       "0           1     0         3      4                   0                   1   \n",
       "1           1     0         3      4                   0                   1   \n",
       "2           1     0         3      4                   0                   1   \n",
       "3           2     0         3      4                   0                   1   \n",
       "4           1     0         5      4                   0                   0   \n",
       "\n",
       "    just_date        is_Date  \n",
       "0  2018-04-01  2018-04-01 11  \n",
       "1  2018-04-01   2018-04-01 2  \n",
       "2  2018-04-01   2018-04-01 8  \n",
       "3  2018-04-01   2018-04-01 9  \n",
       "4  2018-04-03  2018-04-03 12  "
      ]
     },
     "execution_count": 30,
     "metadata": {},
     "output_type": "execute_result"
    }
   ],
   "source": [
    "df_demand.head()"
   ]
  },
  {
   "cell_type": "markdown",
   "metadata": {},
   "source": [
    "#### Sorting the values of the column 'is_Date'"
   ]
  },
  {
   "cell_type": "code",
   "execution_count": 31,
   "metadata": {},
   "outputs": [],
   "source": [
    "df_demand = df_demand.sort_values(by = 'is_Date')"
   ]
  },
  {
   "cell_type": "markdown",
   "metadata": {},
   "source": [
    "#### Converting is_date to numerical values"
   ]
  },
  {
   "cell_type": "code",
   "execution_count": 32,
   "metadata": {},
   "outputs": [],
   "source": [
    "df_demand['is_Date']= label_encoder.fit_transform(df_demand['is_Date']) "
   ]
  },
  {
   "cell_type": "markdown",
   "metadata": {},
   "source": [
    "#### Checking for the number of rows and columns in the dataset df_demand"
   ]
  },
  {
   "cell_type": "code",
   "execution_count": 33,
   "metadata": {},
   "outputs": [
    {
     "data": {
      "text/plain": [
       "(1047611, 8)"
      ]
     },
     "execution_count": 33,
     "metadata": {},
     "output_type": "execute_result"
    }
   ],
   "source": [
    "df_demand.shape"
   ]
  },
  {
   "cell_type": "markdown",
   "metadata": {},
   "source": [
    "#### Checking for the unique values present in column is_date after converting it into numerical values"
   ]
  },
  {
   "cell_type": "code",
   "execution_count": 34,
   "metadata": {},
   "outputs": [
    {
     "data": {
      "text/plain": [
       "array([   0,    1,    2, ..., 8757, 8758, 8759], dtype=int64)"
      ]
     },
     "execution_count": 34,
     "metadata": {},
     "output_type": "execute_result"
    }
   ],
   "source": [
    "df_demand.is_Date.unique()"
   ]
  },
  {
   "cell_type": "markdown",
   "metadata": {},
   "source": [
    "#### Checking the unique values present in column zone after converting it into numerical values"
   ]
  },
  {
   "cell_type": "code",
   "execution_count": 35,
   "metadata": {},
   "outputs": [
    {
     "data": {
      "text/plain": [
       "array([252, 235,  85, 178, 229, 124, 193, 182, 137,  45,  39, 156, 221,\n",
       "        14, 125, 136,  96, 250, 154,  86, 128,  60, 157, 175,  65, 123,\n",
       "        19, 256,  18, 100, 158, 141, 198,  44, 233,  40, 251, 177, 225,\n",
       "        42, 242,  49,  15, 211, 239, 243, 253,  62,   4, 130,  47,  64,\n",
       "        37, 186, 147, 224, 132, 258,  79,  70, 133,  88,  89, 189, 148,\n",
       "       185, 129, 191,  78,  46,  71, 257, 135, 227, 143,  93, 209, 153,\n",
       "       207, 208, 184, 222,  91,  90, 234, 228,  28, 121,  34, 146,  21,\n",
       "       161, 163, 169,  74, 119, 139,  76,  66,  38,  10, 231, 166,  52,\n",
       "        53, 219, 140,  57, 113, 107, 226,  75, 138, 215, 232, 230, 245,\n",
       "       106,  33, 108, 259, 110, 220,  22,   1, 165, 164,  84, 216,  83,\n",
       "       101, 159,  30, 240,   0, 205, 162, 248, 238, 246, 131, 152,  31,\n",
       "       160,  48,  11,  72, 170, 212,  58, 213, 120,   6,  23,   7, 155,\n",
       "       114, 181, 117,   9, 196,  81,  17, 142, 192, 194,  87, 237,  25,\n",
       "       168,  98, 122, 188, 105, 134,  29, 214, 174, 102, 249, 190, 144,\n",
       "       255,  59, 203,  51, 171,  36, 116,  97, 197, 151,  63, 127, 254,\n",
       "         5, 150,   8,  26,  13, 176,  32,  61, 204,  56, 244, 223,  68,\n",
       "         2, 115, 187, 118,  16,  73, 201,  35,  94, 199, 145,  67,  50,\n",
       "       173, 112, 179,  77,  54, 236,  12, 206, 183,   3,  69, 202, 111,\n",
       "       149, 218, 195,  82, 210, 200,  92,  20,  43, 126, 103,  80, 247,\n",
       "       172,  27, 109, 180, 241, 217,  24,  99,  41,  55, 167, 104,  95],\n",
       "      dtype=int64)"
      ]
     },
     "execution_count": 35,
     "metadata": {},
     "output_type": "execute_result"
    }
   ],
   "source": [
    "df_demand.Zone.unique()"
   ]
  },
  {
   "cell_type": "markdown",
   "metadata": {},
   "source": [
    "#### Retrieving the rows with no public holidays and extreme weather conditions"
   ]
  },
  {
   "cell_type": "code",
   "execution_count": 29,
   "metadata": {},
   "outputs": [
    {
     "data": {
      "text/html": [
       "<div>\n",
       "<style scoped>\n",
       "    .dataframe tbody tr th:only-of-type {\n",
       "        vertical-align: middle;\n",
       "    }\n",
       "\n",
       "    .dataframe tbody tr th {\n",
       "        vertical-align: top;\n",
       "    }\n",
       "\n",
       "    .dataframe thead th {\n",
       "        text-align: right;\n",
       "    }\n",
       "</style>\n",
       "<table border=\"1\" class=\"dataframe\">\n",
       "  <thead>\n",
       "    <tr style=\"text-align: right;\">\n",
       "      <th></th>\n",
       "      <th>CabRequest</th>\n",
       "      <th>Zone</th>\n",
       "      <th>week_day</th>\n",
       "      <th>is_public_holidays</th>\n",
       "      <th>is_extreme_cliamte</th>\n",
       "      <th>just_date</th>\n",
       "      <th>is_Date</th>\n",
       "    </tr>\n",
       "  </thead>\n",
       "  <tbody>\n",
       "    <tr>\n",
       "      <th>420635</th>\n",
       "      <td>58</td>\n",
       "      <td>157</td>\n",
       "      <td>5</td>\n",
       "      <td>0</td>\n",
       "      <td>0</td>\n",
       "      <td>2018-01-02</td>\n",
       "      <td>24</td>\n",
       "    </tr>\n",
       "    <tr>\n",
       "      <th>450240</th>\n",
       "      <td>92</td>\n",
       "      <td>245</td>\n",
       "      <td>5</td>\n",
       "      <td>0</td>\n",
       "      <td>0</td>\n",
       "      <td>2018-01-02</td>\n",
       "      <td>24</td>\n",
       "    </tr>\n",
       "    <tr>\n",
       "      <th>405055</th>\n",
       "      <td>11</td>\n",
       "      <td>119</td>\n",
       "      <td>5</td>\n",
       "      <td>0</td>\n",
       "      <td>0</td>\n",
       "      <td>2018-01-02</td>\n",
       "      <td>24</td>\n",
       "    </tr>\n",
       "    <tr>\n",
       "      <th>381262</th>\n",
       "      <td>10</td>\n",
       "      <td>42</td>\n",
       "      <td>5</td>\n",
       "      <td>0</td>\n",
       "      <td>0</td>\n",
       "      <td>2018-01-02</td>\n",
       "      <td>24</td>\n",
       "    </tr>\n",
       "    <tr>\n",
       "      <th>398503</th>\n",
       "      <td>10</td>\n",
       "      <td>93</td>\n",
       "      <td>5</td>\n",
       "      <td>0</td>\n",
       "      <td>0</td>\n",
       "      <td>2018-01-02</td>\n",
       "      <td>24</td>\n",
       "    </tr>\n",
       "  </tbody>\n",
       "</table>\n",
       "</div>"
      ],
      "text/plain": [
       "        CabRequest  Zone  week_day  is_public_holidays  is_extreme_cliamte  \\\n",
       "420635          58   157         5                   0                   0   \n",
       "450240          92   245         5                   0                   0   \n",
       "405055          11   119         5                   0                   0   \n",
       "381262          10    42         5                   0                   0   \n",
       "398503          10    93         5                   0                   0   \n",
       "\n",
       "         just_date  is_Date  \n",
       "420635  2018-01-02       24  \n",
       "450240  2018-01-02       24  \n",
       "405055  2018-01-02       24  \n",
       "381262  2018-01-02       24  \n",
       "398503  2018-01-02       24  "
      ]
     },
     "execution_count": 29,
     "metadata": {},
     "output_type": "execute_result"
    }
   ],
   "source": [
    "s1i1 = df_demand.loc[(df_demand['is_public_holidays'] == 0) & (df_demand['is_extreme_cliamte'] == 0)]\n",
    "s1i1.head()"
   ]
  },
  {
   "cell_type": "markdown",
   "metadata": {},
   "source": [
    "#### Assigning the columns to be used for further predictions"
   ]
  },
  {
   "cell_type": "code",
   "execution_count": 36,
   "metadata": {},
   "outputs": [],
   "source": [
    "cols_to_use = ['Zone','week_day','month','is_public_holidays','is_extreme_cliamte','is_Date']\n",
    "X = df_demand[cols_to_use]\n",
    "y = df_demand.CabRequest"
   ]
  },
  {
   "cell_type": "markdown",
   "metadata": {},
   "source": [
    "WE can observe from the above assignment that our response variable is CabRequest and the independent variables are assigned to X "
   ]
  },
  {
   "cell_type": "markdown",
   "metadata": {},
   "source": [
    "#### A simple ordinary least squares model."
   ]
  },
  {
   "cell_type": "code",
   "execution_count": 37,
   "metadata": {},
   "outputs": [
    {
     "data": {
      "text/html": [
       "<table class=\"simpletable\">\n",
       "<caption>OLS Regression Results</caption>\n",
       "<tr>\n",
       "  <th>Dep. Variable:</th>       <td>CabRequest</td>    <th>  R-squared:         </th>  <td>   0.253</td>  \n",
       "</tr>\n",
       "<tr>\n",
       "  <th>Model:</th>                   <td>OLS</td>       <th>  Adj. R-squared:    </th>  <td>   0.253</td>  \n",
       "</tr>\n",
       "<tr>\n",
       "  <th>Method:</th>             <td>Least Squares</td>  <th>  F-statistic:       </th>  <td>5.913e+04</td> \n",
       "</tr>\n",
       "<tr>\n",
       "  <th>Date:</th>             <td>Thu, 25 Apr 2019</td> <th>  Prob (F-statistic):</th>   <td>  0.00</td>   \n",
       "</tr>\n",
       "<tr>\n",
       "  <th>Time:</th>                 <td>10:58:15</td>     <th>  Log-Likelihood:    </th> <td>-6.8031e+06</td>\n",
       "</tr>\n",
       "<tr>\n",
       "  <th>No. Observations:</th>      <td>1047611</td>     <th>  AIC:               </th>  <td>1.361e+07</td> \n",
       "</tr>\n",
       "<tr>\n",
       "  <th>Df Residuals:</th>          <td>1047605</td>     <th>  BIC:               </th>  <td>1.361e+07</td> \n",
       "</tr>\n",
       "<tr>\n",
       "  <th>Df Model:</th>              <td>     6</td>      <th>                     </th>      <td> </td>     \n",
       "</tr>\n",
       "<tr>\n",
       "  <th>Covariance Type:</th>      <td>nonrobust</td>    <th>                     </th>      <td> </td>     \n",
       "</tr>\n",
       "</table>\n",
       "<table class=\"simpletable\">\n",
       "<tr>\n",
       "           <td></td>             <th>coef</th>     <th>std err</th>      <th>t</th>      <th>P>|t|</th>  <th>[0.025</th>    <th>0.975]</th>  \n",
       "</tr>\n",
       "<tr>\n",
       "  <th>Zone</th>               <td>    0.4465</td> <td>    0.002</td> <td>  247.603</td> <td> 0.000</td> <td>    0.443</td> <td>    0.450</td>\n",
       "</tr>\n",
       "<tr>\n",
       "  <th>week_day</th>           <td>    3.4800</td> <td>    0.071</td> <td>   48.892</td> <td> 0.000</td> <td>    3.341</td> <td>    3.620</td>\n",
       "</tr>\n",
       "<tr>\n",
       "  <th>month</th>              <td>   30.6671</td> <td>    0.458</td> <td>   66.999</td> <td> 0.000</td> <td>   29.770</td> <td>   31.564</td>\n",
       "</tr>\n",
       "<tr>\n",
       "  <th>is_public_holidays</th> <td>   -9.3933</td> <td>    0.738</td> <td>  -12.720</td> <td> 0.000</td> <td>  -10.841</td> <td>   -7.946</td>\n",
       "</tr>\n",
       "<tr>\n",
       "  <th>is_extreme_cliamte</th> <td>    8.3942</td> <td>    0.690</td> <td>   12.170</td> <td> 0.000</td> <td>    7.042</td> <td>    9.746</td>\n",
       "</tr>\n",
       "<tr>\n",
       "  <th>is_Date</th>            <td>   -0.0420</td> <td>    0.001</td> <td>  -65.224</td> <td> 0.000</td> <td>   -0.043</td> <td>   -0.041</td>\n",
       "</tr>\n",
       "</table>\n",
       "<table class=\"simpletable\">\n",
       "<tr>\n",
       "  <th>Omnibus:</th>       <td>514143.934</td> <th>  Durbin-Watson:     </th>  <td>   1.878</td>  \n",
       "</tr>\n",
       "<tr>\n",
       "  <th>Prob(Omnibus):</th>   <td> 0.000</td>   <th>  Jarque-Bera (JB):  </th> <td>3017562.787</td>\n",
       "</tr>\n",
       "<tr>\n",
       "  <th>Skew:</th>            <td> 2.362</td>   <th>  Prob(JB):          </th>  <td>    0.00</td>  \n",
       "</tr>\n",
       "<tr>\n",
       "  <th>Kurtosis:</th>        <td> 9.843</td>   <th>  Cond. No.          </th>  <td>2.41e+04</td>  \n",
       "</tr>\n",
       "</table><br/><br/>Warnings:<br/>[1] Standard Errors assume that the covariance matrix of the errors is correctly specified.<br/>[2] The condition number is large, 2.41e+04. This might indicate that there are<br/>strong multicollinearity or other numerical problems."
      ],
      "text/plain": [
       "<class 'statsmodels.iolib.summary.Summary'>\n",
       "\"\"\"\n",
       "                            OLS Regression Results                            \n",
       "==============================================================================\n",
       "Dep. Variable:             CabRequest   R-squared:                       0.253\n",
       "Model:                            OLS   Adj. R-squared:                  0.253\n",
       "Method:                 Least Squares   F-statistic:                 5.913e+04\n",
       "Date:                Thu, 25 Apr 2019   Prob (F-statistic):               0.00\n",
       "Time:                        10:58:15   Log-Likelihood:            -6.8031e+06\n",
       "No. Observations:             1047611   AIC:                         1.361e+07\n",
       "Df Residuals:                 1047605   BIC:                         1.361e+07\n",
       "Df Model:                           6                                         \n",
       "Covariance Type:            nonrobust                                         \n",
       "======================================================================================\n",
       "                         coef    std err          t      P>|t|      [0.025      0.975]\n",
       "--------------------------------------------------------------------------------------\n",
       "Zone                   0.4465      0.002    247.603      0.000       0.443       0.450\n",
       "week_day               3.4800      0.071     48.892      0.000       3.341       3.620\n",
       "month                 30.6671      0.458     66.999      0.000      29.770      31.564\n",
       "is_public_holidays    -9.3933      0.738    -12.720      0.000     -10.841      -7.946\n",
       "is_extreme_cliamte     8.3942      0.690     12.170      0.000       7.042       9.746\n",
       "is_Date               -0.0420      0.001    -65.224      0.000      -0.043      -0.041\n",
       "==============================================================================\n",
       "Omnibus:                   514143.934   Durbin-Watson:                   1.878\n",
       "Prob(Omnibus):                  0.000   Jarque-Bera (JB):          3017562.787\n",
       "Skew:                           2.362   Prob(JB):                         0.00\n",
       "Kurtosis:                       9.843   Cond. No.                     2.41e+04\n",
       "==============================================================================\n",
       "\n",
       "Warnings:\n",
       "[1] Standard Errors assume that the covariance matrix of the errors is correctly specified.\n",
       "[2] The condition number is large, 2.41e+04. This might indicate that there are\n",
       "strong multicollinearity or other numerical problems.\n",
       "\"\"\""
      ]
     },
     "execution_count": 37,
     "metadata": {},
     "output_type": "execute_result"
    }
   ],
   "source": [
    "model = sm.OLS(y, X)\n",
    "results = model.fit()\n",
    "# Statsmodels gives R-like statistical output\n",
    "results.summary()\n",
    "#Ordinary Least Squares regression (OLS) is more commonly named\n",
    "#linear regression (simple or multiple depending on the number of explanatory variables)\n",
    "#The OLS method corresponds to minimizing the sum of square differences between the observed and predicted values."
   ]
  },
  {
   "cell_type": "markdown",
   "metadata": {},
   "source": [
    "#### Summary of OLS Regression : AIC, BIC and adjusted R-squared\n",
    "The AIC can be termed as a mesaure of the goodness of fit of any estimated statistical model. The BIC is a type of model selection among a class of parametric models with different numbers of parameters.\n",
    "\n",
    "R2 shows how well terms (data points) fit a curve or line. Adjusted R2 also indicates how well terms fit a curve or line, but adjusts for the number of terms in a model. If you add more and more useless variables to a model, adjusted r-squared will decrease. If you add more useful variables, adjusted r-squared will increase."
   ]
  },
  {
   "cell_type": "markdown",
   "metadata": {},
   "source": [
    "We can observe from the ols model that R squared value is pretty less. The model is not upto the mark"
   ]
  },
  {
   "cell_type": "code",
   "execution_count": 38,
   "metadata": {},
   "outputs": [
    {
     "data": {
      "text/html": [
       "<div>\n",
       "<style scoped>\n",
       "    .dataframe tbody tr th:only-of-type {\n",
       "        vertical-align: middle;\n",
       "    }\n",
       "\n",
       "    .dataframe tbody tr th {\n",
       "        vertical-align: top;\n",
       "    }\n",
       "\n",
       "    .dataframe thead th {\n",
       "        text-align: right;\n",
       "    }\n",
       "</style>\n",
       "<table border=\"1\" class=\"dataframe\">\n",
       "  <thead>\n",
       "    <tr style=\"text-align: right;\">\n",
       "      <th></th>\n",
       "      <th>CabRequest</th>\n",
       "      <th>Zone</th>\n",
       "      <th>week_day</th>\n",
       "      <th>month</th>\n",
       "      <th>is_public_holidays</th>\n",
       "      <th>is_extreme_cliamte</th>\n",
       "      <th>just_date</th>\n",
       "      <th>is_Date</th>\n",
       "    </tr>\n",
       "  </thead>\n",
       "  <tbody>\n",
       "    <tr>\n",
       "      <th>451913</th>\n",
       "      <td>32</td>\n",
       "      <td>252</td>\n",
       "      <td>1</td>\n",
       "      <td>1</td>\n",
       "      <td>1</td>\n",
       "      <td>0</td>\n",
       "      <td>2018-01-01</td>\n",
       "      <td>0</td>\n",
       "    </tr>\n",
       "    <tr>\n",
       "      <th>446598</th>\n",
       "      <td>571</td>\n",
       "      <td>235</td>\n",
       "      <td>1</td>\n",
       "      <td>1</td>\n",
       "      <td>1</td>\n",
       "      <td>0</td>\n",
       "      <td>2018-01-01</td>\n",
       "      <td>0</td>\n",
       "    </tr>\n",
       "    <tr>\n",
       "      <th>395844</th>\n",
       "      <td>2</td>\n",
       "      <td>85</td>\n",
       "      <td>1</td>\n",
       "      <td>1</td>\n",
       "      <td>1</td>\n",
       "      <td>0</td>\n",
       "      <td>2018-01-01</td>\n",
       "      <td>0</td>\n",
       "    </tr>\n",
       "    <tr>\n",
       "      <th>427945</th>\n",
       "      <td>1</td>\n",
       "      <td>178</td>\n",
       "      <td>1</td>\n",
       "      <td>1</td>\n",
       "      <td>1</td>\n",
       "      <td>0</td>\n",
       "      <td>2018-01-01</td>\n",
       "      <td>0</td>\n",
       "    </tr>\n",
       "    <tr>\n",
       "      <th>442663</th>\n",
       "      <td>172</td>\n",
       "      <td>229</td>\n",
       "      <td>1</td>\n",
       "      <td>1</td>\n",
       "      <td>1</td>\n",
       "      <td>0</td>\n",
       "      <td>2018-01-01</td>\n",
       "      <td>0</td>\n",
       "    </tr>\n",
       "  </tbody>\n",
       "</table>\n",
       "</div>"
      ],
      "text/plain": [
       "        CabRequest  Zone  week_day  month  is_public_holidays  \\\n",
       "451913          32   252         1      1                   1   \n",
       "446598         571   235         1      1                   1   \n",
       "395844           2    85         1      1                   1   \n",
       "427945           1   178         1      1                   1   \n",
       "442663         172   229         1      1                   1   \n",
       "\n",
       "        is_extreme_cliamte   just_date  is_Date  \n",
       "451913                   0  2018-01-01        0  \n",
       "446598                   0  2018-01-01        0  \n",
       "395844                   0  2018-01-01        0  \n",
       "427945                   0  2018-01-01        0  \n",
       "442663                   0  2018-01-01        0  "
      ]
     },
     "execution_count": 38,
     "metadata": {},
     "output_type": "execute_result"
    }
   ],
   "source": [
    "df_demand.head()"
   ]
  },
  {
   "cell_type": "markdown",
   "metadata": {},
   "source": [
    "#### Splitting the data and train and test data\n",
    "#### Assigning the training and testing features to train and test data"
   ]
  },
  {
   "cell_type": "code",
   "execution_count": 41,
   "metadata": {},
   "outputs": [],
   "source": [
    "train, test = train_test_split(df_demand, test_size=0.3, shuffle=False)\n",
    "training_features = ['Zone','week_day','month','is_public_holidays','is_extreme_cliamte','is_Date']\n",
    "target = 'CabRequest'\n",
    "train_X = train[training_features]\n",
    "train_Y = train[target]\n",
    "test_X = test[training_features]\n",
    "test_Y = test[target]"
   ]
  },
  {
   "cell_type": "markdown",
   "metadata": {},
   "source": [
    "## Linear Regression"
   ]
  },
  {
   "cell_type": "markdown",
   "metadata": {},
   "source": [
    "Linear regression is a linear approach to modelling the relationship between a scalar response (or dependent variable) and one or more explanatory variables (or independent variables). The case of one explanatory variable is called simple linear regression. For more than one explanatory variable, the process is called multiple linear regression."
   ]
  },
  {
   "cell_type": "code",
   "execution_count": 42,
   "metadata": {},
   "outputs": [
    {
     "name": "stdout",
     "output_type": "stream",
     "text": [
      "rmse_train: 163.16381262382555 msle_train: 6.289202100000228\n",
      "rmse_test: 150.39163246717686 msle_test: 5.795741623167363\n"
     ]
    }
   ],
   "source": [
    "model = LinearRegression()\n",
    "model.fit(train_X, train_Y)\n",
    "train_pred_Y = model.predict(train_X)\n",
    "test_pred_Y = model.predict(test_X)\n",
    "train_pred_Y = pd.Series(train_pred_Y.clip(0, train_pred_Y.max()), index=train_Y.index)\n",
    "test_pred_Y = pd.Series(test_pred_Y.clip(0, test_pred_Y.max()), index=test_Y.index)\n",
    "\n",
    "rmse_train = np.sqrt(mean_squared_error(train_pred_Y, train_Y))\n",
    "msle_train = mean_squared_log_error(train_pred_Y, train_Y)\n",
    "rmse_test = np.sqrt(mean_squared_error(test_pred_Y, test_Y))\n",
    "msle_test = mean_squared_log_error(test_pred_Y, test_Y)\n",
    "\n",
    "print('rmse_train:',rmse_train,'msle_train:',msle_train)\n",
    "print('rmse_test:',rmse_test,'msle_test:',msle_test)"
   ]
  },
  {
   "cell_type": "markdown",
   "metadata": {},
   "source": [
    "### Calucating the root mean square error and mean square log error for train and test datasets\n",
    "\n",
    "#### Linear Regression is applied on the dataset and Root mean square error and Mean Squared log error are calculated as below:\n",
    "Root-mean-square error (RMSE) (or sometimes root-mean-squared error) is a frequently used measure of the differences between values (sample or population values) predicted by a model or an estimator and the values observed. The RMSE represents the square root of the second sample moment of the differences between predicted values and observed values or the quadratic mean of these differences. These deviations are called residuals when the calculations are performed over the data sample that was used for estimation and are called errors (or prediction errors) when computed out-of-sample.\n",
    "\n",
    "Mean Squared Error is a measure of how close a fitted line is to data points. It is the sum, over all the data points, of the square of the difference between the predicted and actual target variables, divided by the number of data points. RMSE is the square root of MSE."
   ]
  },
  {
   "cell_type": "markdown",
   "metadata": {},
   "source": [
    "It is observed that the rmse and msle scores for model 1 are 150.39163246717686 and 5.795741623167363"
   ]
  },
  {
   "cell_type": "markdown",
   "metadata": {},
   "source": [
    "## Model 2"
   ]
  },
  {
   "cell_type": "markdown",
   "metadata": {},
   "source": [
    "#### Creating a new dataframe for model 2"
   ]
  },
  {
   "cell_type": "code",
   "execution_count": 43,
   "metadata": {},
   "outputs": [],
   "source": [
    "df_demand['is_Date_2'] = df_demand['is_Date']**2"
   ]
  },
  {
   "cell_type": "code",
   "execution_count": 44,
   "metadata": {},
   "outputs": [
    {
     "data": {
      "text/html": [
       "<div>\n",
       "<style scoped>\n",
       "    .dataframe tbody tr th:only-of-type {\n",
       "        vertical-align: middle;\n",
       "    }\n",
       "\n",
       "    .dataframe tbody tr th {\n",
       "        vertical-align: top;\n",
       "    }\n",
       "\n",
       "    .dataframe thead th {\n",
       "        text-align: right;\n",
       "    }\n",
       "</style>\n",
       "<table border=\"1\" class=\"dataframe\">\n",
       "  <thead>\n",
       "    <tr style=\"text-align: right;\">\n",
       "      <th></th>\n",
       "      <th>CabRequest</th>\n",
       "      <th>Zone</th>\n",
       "      <th>month</th>\n",
       "      <th>is_Date_2</th>\n",
       "      <th>is_Date</th>\n",
       "      <th>week_day</th>\n",
       "      <th>is_public_holidays</th>\n",
       "      <th>is_extreme_cliamte</th>\n",
       "    </tr>\n",
       "  </thead>\n",
       "  <tbody>\n",
       "    <tr>\n",
       "      <th>451913</th>\n",
       "      <td>32</td>\n",
       "      <td>252</td>\n",
       "      <td>1</td>\n",
       "      <td>0</td>\n",
       "      <td>0</td>\n",
       "      <td>1</td>\n",
       "      <td>1</td>\n",
       "      <td>0</td>\n",
       "    </tr>\n",
       "    <tr>\n",
       "      <th>446598</th>\n",
       "      <td>571</td>\n",
       "      <td>235</td>\n",
       "      <td>1</td>\n",
       "      <td>0</td>\n",
       "      <td>0</td>\n",
       "      <td>1</td>\n",
       "      <td>1</td>\n",
       "      <td>0</td>\n",
       "    </tr>\n",
       "    <tr>\n",
       "      <th>395844</th>\n",
       "      <td>2</td>\n",
       "      <td>85</td>\n",
       "      <td>1</td>\n",
       "      <td>0</td>\n",
       "      <td>0</td>\n",
       "      <td>1</td>\n",
       "      <td>1</td>\n",
       "      <td>0</td>\n",
       "    </tr>\n",
       "    <tr>\n",
       "      <th>427945</th>\n",
       "      <td>1</td>\n",
       "      <td>178</td>\n",
       "      <td>1</td>\n",
       "      <td>0</td>\n",
       "      <td>0</td>\n",
       "      <td>1</td>\n",
       "      <td>1</td>\n",
       "      <td>0</td>\n",
       "    </tr>\n",
       "    <tr>\n",
       "      <th>442663</th>\n",
       "      <td>172</td>\n",
       "      <td>229</td>\n",
       "      <td>1</td>\n",
       "      <td>0</td>\n",
       "      <td>0</td>\n",
       "      <td>1</td>\n",
       "      <td>1</td>\n",
       "      <td>0</td>\n",
       "    </tr>\n",
       "  </tbody>\n",
       "</table>\n",
       "</div>"
      ],
      "text/plain": [
       "        CabRequest  Zone  month  is_Date_2  is_Date  week_day  \\\n",
       "451913          32   252      1          0        0         1   \n",
       "446598         571   235      1          0        0         1   \n",
       "395844           2    85      1          0        0         1   \n",
       "427945           1   178      1          0        0         1   \n",
       "442663         172   229      1          0        0         1   \n",
       "\n",
       "        is_public_holidays  is_extreme_cliamte  \n",
       "451913                   1                   0  \n",
       "446598                   1                   0  \n",
       "395844                   1                   0  \n",
       "427945                   1                   0  \n",
       "442663                   1                   0  "
      ]
     },
     "execution_count": 44,
     "metadata": {},
     "output_type": "execute_result"
    }
   ],
   "source": [
    "df_demand1 = pd.DataFrame({\"CabRequest\":df_demand['CabRequest'], \"Zone\":df_demand['Zone'],\"month\":df_demand['month'],\"is_Date_2\":df_demand['is_Date_2'],\"is_Date\":df_demand['is_Date'],\"week_day\":df_demand['week_day'],\"is_public_holidays\":df_demand['is_public_holidays'],\"is_extreme_cliamte\":df_demand['is_extreme_cliamte']})\n",
    "df_demand1.head()"
   ]
  },
  {
   "cell_type": "markdown",
   "metadata": {},
   "source": [
    "#### Assignment of columns to be used in model 2"
   ]
  },
  {
   "cell_type": "code",
   "execution_count": 46,
   "metadata": {},
   "outputs": [],
   "source": [
    "cols_to_use = ['Zone','week_day','month','is_public_holidays','is_extreme_cliamte','is_Date_2','is_Date']\n",
    "X = df_demand1[cols_to_use]\n",
    "y = df_demand1.CabRequest"
   ]
  },
  {
   "cell_type": "code",
   "execution_count": 47,
   "metadata": {},
   "outputs": [],
   "source": [
    "train, test = train_test_split(df_demand1, test_size=0.3, shuffle=False)\n",
    "training_features = ['Zone','week_day','month','is_public_holidays','is_extreme_cliamte','is_Date_2','is_Date']\n",
    "target = 'CabRequest'\n",
    "train_X = train[training_features]\n",
    "train_Y = train[target]\n",
    "test_X = test[training_features]\n",
    "test_Y = test[target]"
   ]
  },
  {
   "cell_type": "code",
   "execution_count": 48,
   "metadata": {},
   "outputs": [
    {
     "name": "stdout",
     "output_type": "stream",
     "text": [
      "rmse_train: 163.13741034118868 msle_train: 6.287014794172203\n",
      "rmse_test: 153.60146980114249 msle_test: 4.964743551764663\n"
     ]
    }
   ],
   "source": [
    "model1 = LinearRegression()\n",
    "model1.fit(train_X, train_Y)\n",
    "train_pred_Y = model1.predict(train_X)\n",
    "test_pred_Y = model1.predict(test_X)\n",
    "train_pred_Y = pd.Series(train_pred_Y.clip(0, train_pred_Y.max()), index=train_Y.index)\n",
    "test_pred_Y = pd.Series(test_pred_Y.clip(0, test_pred_Y.max()), index=test_Y.index)\n",
    "\n",
    "rmse_train = np.sqrt(mean_squared_error(train_pred_Y, train_Y))\n",
    "msle_train = mean_squared_log_error(train_pred_Y, train_Y)\n",
    "rmse_test = np.sqrt(mean_squared_error(test_pred_Y, test_Y))\n",
    "msle_test = mean_squared_log_error(test_pred_Y, test_Y)\n",
    "\n",
    "print('rmse_train:',rmse_train,'msle_train:',msle_train)\n",
    "print('rmse_test:',rmse_test,'msle_test:',msle_test)"
   ]
  },
  {
   "cell_type": "markdown",
   "metadata": {},
   "source": [
    "It is observed from model 2 that rmse and msle score are 153.60146980114249 and 4.964743551764663"
   ]
  },
  {
   "cell_type": "markdown",
   "metadata": {},
   "source": [
    "## Decision Tree Regressor"
   ]
  },
  {
   "cell_type": "markdown",
   "metadata": {},
   "source": [
    "Decision tree builds regression or classification models in the form of a tree structure. It breaks down a dataset into smaller and smaller subsets while at the same time an associated decision tree is incrementally developed. The final result is a tree with decision nodes and leaf nodes.\n",
    "Leaf node represents a decision on the numerical target. The topmost decision node in a tree which corresponds to the best predictor called root node. Decision trees can handle both categorical and numerical data. "
   ]
  },
  {
   "cell_type": "code",
   "execution_count": 49,
   "metadata": {},
   "outputs": [
    {
     "name": "stdout",
     "output_type": "stream",
     "text": [
      "rmse_train: 15.752281011632805 msle_train: 0.04882461568590056\n",
      "rmse_test: 125.97500502340405 msle_test: 2.2486474646906824\n"
     ]
    }
   ],
   "source": [
    "regressor = DecisionTreeRegressor(random_state = 0) \n",
    "regressor.fit(train_X, train_Y)\n",
    "train_pred_Y = regressor.predict(train_X)\n",
    "test_pred_Y = regressor.predict(test_X)\n",
    "train_pred_Y = pd.Series(train_pred_Y.clip(0, train_pred_Y.max()), index=train_Y.index)\n",
    "test_pred_Y = pd.Series(test_pred_Y.clip(0, test_pred_Y.max()), index=test_Y.index)\n",
    "\n",
    "rmse_train = np.sqrt(mean_squared_error(train_pred_Y, train_Y))\n",
    "msle_train = mean_squared_log_error(train_pred_Y, train_Y)\n",
    "rmse_test = np.sqrt(mean_squared_error(test_pred_Y, test_Y))\n",
    "msle_test = mean_squared_log_error(test_pred_Y, test_Y)\n",
    "\n",
    "print('rmse_train:',rmse_train,'msle_train:',msle_train)\n",
    "print('rmse_test:',rmse_test,'msle_test:',msle_test)"
   ]
  },
  {
   "cell_type": "markdown",
   "metadata": {},
   "source": [
    "It is observed from the decision tree regressor that the rmse and msle score are 125.97500502340405 and 2.2486474646906824"
   ]
  },
  {
   "cell_type": "markdown",
   "metadata": {},
   "source": [
    "### Comapring the above models"
   ]
  },
  {
   "cell_type": "markdown",
   "metadata": {},
   "source": [
    "\n",
    "1. Model                           RMSE               MSLE\n",
    "2. Linear regression            150.3916324671768    5.79574162316736\n",
    "3. Linear regression            153.60146980114249   4.964743551764663\n",
    "4. Decision tree regressor      125.97500502340405   2.2486474646906824\n",
    "\n",
    "\n"
   ]
  },
  {
   "cell_type": "markdown",
   "metadata": {},
   "source": [
    "### Conclusion"
   ]
  },
  {
   "cell_type": "markdown",
   "metadata": {},
   "source": [
    "From the evaluation metrics of above model, we can say the decision tree regressor is overfitting.\n",
    "Hence, the model 1 of linear regression is preferred"
   ]
  },
  {
   "cell_type": "markdown",
   "metadata": {},
   "source": [
    "#### Checking the average number of CabRequest in a particular zone and sorting them in descending order"
   ]
  },
  {
   "cell_type": "code",
   "execution_count": 60,
   "metadata": {},
   "outputs": [
    {
     "data": {
      "text/html": [
       "<div>\n",
       "<style scoped>\n",
       "    .dataframe tbody tr th:only-of-type {\n",
       "        vertical-align: middle;\n",
       "    }\n",
       "\n",
       "    .dataframe tbody tr th {\n",
       "        vertical-align: top;\n",
       "    }\n",
       "\n",
       "    .dataframe thead th {\n",
       "        text-align: right;\n",
       "    }\n",
       "</style>\n",
       "<table border=\"1\" class=\"dataframe\">\n",
       "  <thead>\n",
       "    <tr style=\"text-align: right;\">\n",
       "      <th></th>\n",
       "      <th>Zone</th>\n",
       "      <th>CabRequest</th>\n",
       "    </tr>\n",
       "  </thead>\n",
       "  <tbody>\n",
       "    <tr>\n",
       "      <th>233</th>\n",
       "      <td>Upper East Side South</td>\n",
       "      <td>481.978135</td>\n",
       "    </tr>\n",
       "    <tr>\n",
       "      <th>156</th>\n",
       "      <td>Midtown Center</td>\n",
       "      <td>452.690283</td>\n",
       "    </tr>\n",
       "    <tr>\n",
       "      <th>232</th>\n",
       "      <td>Upper East Side North</td>\n",
       "      <td>435.788525</td>\n",
       "    </tr>\n",
       "    <tr>\n",
       "      <th>157</th>\n",
       "      <td>Midtown East</td>\n",
       "      <td>411.589156</td>\n",
       "    </tr>\n",
       "    <tr>\n",
       "      <th>226</th>\n",
       "      <td>Times Sq/Theatre District</td>\n",
       "      <td>396.638308</td>\n",
       "    </tr>\n",
       "    <tr>\n",
       "      <th>182</th>\n",
       "      <td>Penn Station/Madison Sq West</td>\n",
       "      <td>396.123676</td>\n",
       "    </tr>\n",
       "    <tr>\n",
       "      <th>165</th>\n",
       "      <td>Murray Hill</td>\n",
       "      <td>375.748771</td>\n",
       "    </tr>\n",
       "    <tr>\n",
       "      <th>45</th>\n",
       "      <td>Clinton East</td>\n",
       "      <td>368.655643</td>\n",
       "    </tr>\n",
       "    <tr>\n",
       "      <th>230</th>\n",
       "      <td>Union Sq</td>\n",
       "      <td>364.107503</td>\n",
       "    </tr>\n",
       "    <tr>\n",
       "      <th>137</th>\n",
       "      <td>Lincoln Square East</td>\n",
       "      <td>350.419788</td>\n",
       "    </tr>\n",
       "    <tr>\n",
       "      <th>133</th>\n",
       "      <td>LaGuardia Airport</td>\n",
       "      <td>347.921587</td>\n",
       "    </tr>\n",
       "    <tr>\n",
       "      <th>75</th>\n",
       "      <td>East Village</td>\n",
       "      <td>314.519287</td>\n",
       "    </tr>\n",
       "    <tr>\n",
       "      <th>158</th>\n",
       "      <td>Midtown North</td>\n",
       "      <td>312.158244</td>\n",
       "    </tr>\n",
       "    <tr>\n",
       "      <th>235</th>\n",
       "      <td>Upper West Side South</td>\n",
       "      <td>299.244146</td>\n",
       "    </tr>\n",
       "    <tr>\n",
       "      <th>123</th>\n",
       "      <td>JFK Airport</td>\n",
       "      <td>289.074224</td>\n",
       "    </tr>\n",
       "    <tr>\n",
       "      <th>159</th>\n",
       "      <td>Midtown South</td>\n",
       "      <td>280.456147</td>\n",
       "    </tr>\n",
       "    <tr>\n",
       "      <th>101</th>\n",
       "      <td>Gramercy</td>\n",
       "      <td>277.231925</td>\n",
       "    </tr>\n",
       "    <tr>\n",
       "      <th>136</th>\n",
       "      <td>Lenox Hill West</td>\n",
       "      <td>274.054427</td>\n",
       "    </tr>\n",
       "    <tr>\n",
       "      <th>64</th>\n",
       "      <td>East Chelsea</td>\n",
       "      <td>272.086694</td>\n",
       "    </tr>\n",
       "    <tr>\n",
       "      <th>96</th>\n",
       "      <td>Garment District</td>\n",
       "      <td>243.627315</td>\n",
       "    </tr>\n",
       "    <tr>\n",
       "      <th>245</th>\n",
       "      <td>West Village</td>\n",
       "      <td>229.656219</td>\n",
       "    </tr>\n",
       "    <tr>\n",
       "      <th>234</th>\n",
       "      <td>Upper West Side North</td>\n",
       "      <td>227.420923</td>\n",
       "    </tr>\n",
       "    <tr>\n",
       "      <th>225</th>\n",
       "      <td>Sutton Place/Turtle Bay North</td>\n",
       "      <td>221.821336</td>\n",
       "    </tr>\n",
       "    <tr>\n",
       "      <th>259</th>\n",
       "      <td>Yorkville West</td>\n",
       "      <td>216.791692</td>\n",
       "    </tr>\n",
       "    <tr>\n",
       "      <th>86</th>\n",
       "      <td>Flatiron</td>\n",
       "      <td>209.838199</td>\n",
       "    </tr>\n",
       "    <tr>\n",
       "      <th>135</th>\n",
       "      <td>Lenox Hill East</td>\n",
       "      <td>202.374087</td>\n",
       "    </tr>\n",
       "    <tr>\n",
       "      <th>227</th>\n",
       "      <td>TriBeCa/Civic Center</td>\n",
       "      <td>199.603241</td>\n",
       "    </tr>\n",
       "    <tr>\n",
       "      <th>107</th>\n",
       "      <td>Greenwich Village North</td>\n",
       "      <td>183.943683</td>\n",
       "    </tr>\n",
       "    <tr>\n",
       "      <th>40</th>\n",
       "      <td>Central Park</td>\n",
       "      <td>173.122087</td>\n",
       "    </tr>\n",
       "    <tr>\n",
       "      <th>242</th>\n",
       "      <td>West Chelsea/Hudson Yards</td>\n",
       "      <td>163.127849</td>\n",
       "    </tr>\n",
       "    <tr>\n",
       "      <th>...</th>\n",
       "      <td>...</td>\n",
       "      <td>...</td>\n",
       "    </tr>\n",
       "    <tr>\n",
       "      <th>217</th>\n",
       "      <td>Stapleton</td>\n",
       "      <td>1.092391</td>\n",
       "    </tr>\n",
       "    <tr>\n",
       "      <th>2</th>\n",
       "      <td>Arden Heights</td>\n",
       "      <td>1.091667</td>\n",
       "    </tr>\n",
       "    <tr>\n",
       "      <th>50</th>\n",
       "      <td>College Point</td>\n",
       "      <td>1.091111</td>\n",
       "    </tr>\n",
       "    <tr>\n",
       "      <th>248</th>\n",
       "      <td>Whitestone</td>\n",
       "      <td>1.090349</td>\n",
       "    </tr>\n",
       "    <tr>\n",
       "      <th>145</th>\n",
       "      <td>Manhattan Beach</td>\n",
       "      <td>1.089347</td>\n",
       "    </tr>\n",
       "    <tr>\n",
       "      <th>122</th>\n",
       "      <td>Inwood Hill Park</td>\n",
       "      <td>1.084356</td>\n",
       "    </tr>\n",
       "    <tr>\n",
       "      <th>41</th>\n",
       "      <td>Charleston/Tottenville</td>\n",
       "      <td>1.081081</td>\n",
       "    </tr>\n",
       "    <tr>\n",
       "      <th>28</th>\n",
       "      <td>Bronx Park</td>\n",
       "      <td>1.077982</td>\n",
       "    </tr>\n",
       "    <tr>\n",
       "      <th>111</th>\n",
       "      <td>Hammels/Arverne</td>\n",
       "      <td>1.076923</td>\n",
       "    </tr>\n",
       "    <tr>\n",
       "      <th>179</th>\n",
       "      <td>Pelham Bay</td>\n",
       "      <td>1.075646</td>\n",
       "    </tr>\n",
       "    <tr>\n",
       "      <th>236</th>\n",
       "      <td>Van Cortlandt Park</td>\n",
       "      <td>1.072423</td>\n",
       "    </tr>\n",
       "    <tr>\n",
       "      <th>103</th>\n",
       "      <td>Great Kills</td>\n",
       "      <td>1.071429</td>\n",
       "    </tr>\n",
       "    <tr>\n",
       "      <th>99</th>\n",
       "      <td>Governor's Island/Ellis Island/Liberty Island</td>\n",
       "      <td>1.067227</td>\n",
       "    </tr>\n",
       "    <tr>\n",
       "      <th>43</th>\n",
       "      <td>City Island</td>\n",
       "      <td>1.064935</td>\n",
       "    </tr>\n",
       "    <tr>\n",
       "      <th>3</th>\n",
       "      <td>Arrochar/Fort Wadsworth</td>\n",
       "      <td>1.062992</td>\n",
       "    </tr>\n",
       "    <tr>\n",
       "      <th>151</th>\n",
       "      <td>Mariners Harbor</td>\n",
       "      <td>1.057471</td>\n",
       "    </tr>\n",
       "    <tr>\n",
       "      <th>241</th>\n",
       "      <td>West Brighton</td>\n",
       "      <td>1.057143</td>\n",
       "    </tr>\n",
       "    <tr>\n",
       "      <th>172</th>\n",
       "      <td>Oakwood</td>\n",
       "      <td>1.057143</td>\n",
       "    </tr>\n",
       "    <tr>\n",
       "      <th>183</th>\n",
       "      <td>Port Richmond</td>\n",
       "      <td>1.056338</td>\n",
       "    </tr>\n",
       "    <tr>\n",
       "      <th>197</th>\n",
       "      <td>Rockaway Park</td>\n",
       "      <td>1.054945</td>\n",
       "    </tr>\n",
       "    <tr>\n",
       "      <th>69</th>\n",
       "      <td>East Flushing</td>\n",
       "      <td>1.044554</td>\n",
       "    </tr>\n",
       "    <tr>\n",
       "      <th>109</th>\n",
       "      <td>Grymes Hill/Clifton</td>\n",
       "      <td>1.043956</td>\n",
       "    </tr>\n",
       "    <tr>\n",
       "      <th>180</th>\n",
       "      <td>Pelham Bay Park</td>\n",
       "      <td>1.043750</td>\n",
       "    </tr>\n",
       "    <tr>\n",
       "      <th>149</th>\n",
       "      <td>Marine Park/Floyd Bennett Field</td>\n",
       "      <td>1.041009</td>\n",
       "    </tr>\n",
       "    <tr>\n",
       "      <th>167</th>\n",
       "      <td>New Dorp/Midland Beach</td>\n",
       "      <td>1.033898</td>\n",
       "    </tr>\n",
       "    <tr>\n",
       "      <th>126</th>\n",
       "      <td>Jamaica Bay</td>\n",
       "      <td>1.030769</td>\n",
       "    </tr>\n",
       "    <tr>\n",
       "      <th>54</th>\n",
       "      <td>Country Club</td>\n",
       "      <td>1.021277</td>\n",
       "    </tr>\n",
       "    <tr>\n",
       "      <th>210</th>\n",
       "      <td>South Beach/Dongan Hills</td>\n",
       "      <td>1.020000</td>\n",
       "    </tr>\n",
       "    <tr>\n",
       "      <th>55</th>\n",
       "      <td>Crotona Park</td>\n",
       "      <td>1.010753</td>\n",
       "    </tr>\n",
       "    <tr>\n",
       "      <th>104</th>\n",
       "      <td>Great Kills Park</td>\n",
       "      <td>1.000000</td>\n",
       "    </tr>\n",
       "  </tbody>\n",
       "</table>\n",
       "<p>260 rows × 2 columns</p>\n",
       "</div>"
      ],
      "text/plain": [
       "                                              Zone  CabRequest\n",
       "233                          Upper East Side South  481.978135\n",
       "156                                 Midtown Center  452.690283\n",
       "232                          Upper East Side North  435.788525\n",
       "157                                   Midtown East  411.589156\n",
       "226                      Times Sq/Theatre District  396.638308\n",
       "182                   Penn Station/Madison Sq West  396.123676\n",
       "165                                    Murray Hill  375.748771\n",
       "45                                    Clinton East  368.655643\n",
       "230                                       Union Sq  364.107503\n",
       "137                            Lincoln Square East  350.419788\n",
       "133                              LaGuardia Airport  347.921587\n",
       "75                                    East Village  314.519287\n",
       "158                                  Midtown North  312.158244\n",
       "235                          Upper West Side South  299.244146\n",
       "123                                    JFK Airport  289.074224\n",
       "159                                  Midtown South  280.456147\n",
       "101                                       Gramercy  277.231925\n",
       "136                                Lenox Hill West  274.054427\n",
       "64                                    East Chelsea  272.086694\n",
       "96                                Garment District  243.627315\n",
       "245                                   West Village  229.656219\n",
       "234                          Upper West Side North  227.420923\n",
       "225                  Sutton Place/Turtle Bay North  221.821336\n",
       "259                                 Yorkville West  216.791692\n",
       "86                                        Flatiron  209.838199\n",
       "135                                Lenox Hill East  202.374087\n",
       "227                           TriBeCa/Civic Center  199.603241\n",
       "107                        Greenwich Village North  183.943683\n",
       "40                                    Central Park  173.122087\n",
       "242                      West Chelsea/Hudson Yards  163.127849\n",
       "..                                             ...         ...\n",
       "217                                      Stapleton    1.092391\n",
       "2                                    Arden Heights    1.091667\n",
       "50                                   College Point    1.091111\n",
       "248                                     Whitestone    1.090349\n",
       "145                                Manhattan Beach    1.089347\n",
       "122                               Inwood Hill Park    1.084356\n",
       "41                          Charleston/Tottenville    1.081081\n",
       "28                                      Bronx Park    1.077982\n",
       "111                                Hammels/Arverne    1.076923\n",
       "179                                     Pelham Bay    1.075646\n",
       "236                             Van Cortlandt Park    1.072423\n",
       "103                                    Great Kills    1.071429\n",
       "99   Governor's Island/Ellis Island/Liberty Island    1.067227\n",
       "43                                     City Island    1.064935\n",
       "3                          Arrochar/Fort Wadsworth    1.062992\n",
       "151                                Mariners Harbor    1.057471\n",
       "241                                  West Brighton    1.057143\n",
       "172                                        Oakwood    1.057143\n",
       "183                                  Port Richmond    1.056338\n",
       "197                                  Rockaway Park    1.054945\n",
       "69                                   East Flushing    1.044554\n",
       "109                            Grymes Hill/Clifton    1.043956\n",
       "180                                Pelham Bay Park    1.043750\n",
       "149                Marine Park/Floyd Bennett Field    1.041009\n",
       "167                         New Dorp/Midland Beach    1.033898\n",
       "126                                    Jamaica Bay    1.030769\n",
       "54                                    Country Club    1.021277\n",
       "210                       South Beach/Dongan Hills    1.020000\n",
       "55                                    Crotona Park    1.010753\n",
       "104                               Great Kills Park    1.000000\n",
       "\n",
       "[260 rows x 2 columns]"
      ]
     },
     "execution_count": 60,
     "metadata": {},
     "output_type": "execute_result"
    }
   ],
   "source": [
    "df_Output[[\"Zone\", \"CabRequest\"]].groupby(['Zone'], as_index=False).mean().sort_values(by='CabRequest', ascending=False)"
   ]
  },
  {
   "cell_type": "markdown",
   "metadata": {},
   "source": [
    " We can observe from the above table that Upper East Side South has the highest number of cab requests"
   ]
  },
  {
   "cell_type": "markdown",
   "metadata": {},
   "source": [
    "## Summary"
   ]
  },
  {
   "cell_type": "markdown",
   "metadata": {},
   "source": [
    "A public dataset was chosen and the data cleaning part was done. Data analysis has been implemented to uncover interesting insights from the data. Data transformation was carried out for better analysis.Linear regression and decision tree regressor are the models used. The data models were trained and tested using the estimators and the respected results were noted down. The three models had different rmse and msle results and the model with the least rmse and msle score is chosen. Decision tree regressor has the least msle value which states that the uncertainity of prediction is least for this model."
   ]
  }
 ],
 "metadata": {
  "kernelspec": {
   "display_name": "Python 3",
   "language": "python",
   "name": "python3"
  },
  "language_info": {
   "codemirror_mode": {
    "name": "ipython",
    "version": 3
   },
   "file_extension": ".py",
   "mimetype": "text/x-python",
   "name": "python",
   "nbconvert_exporter": "python",
   "pygments_lexer": "ipython3",
   "version": "3.7.1"
  }
 },
 "nbformat": 4,
 "nbformat_minor": 2
}
