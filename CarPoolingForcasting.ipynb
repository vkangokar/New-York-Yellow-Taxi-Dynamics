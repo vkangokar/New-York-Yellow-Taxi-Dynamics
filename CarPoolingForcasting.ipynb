{
 "cells": [
  {
   "cell_type": "markdown",
   "metadata": {},
   "source": [
    "# Cab pooling"
   ]
  },
  {
   "cell_type": "markdown",
   "metadata": {},
   "source": [
    "## Introduction"
   ]
  },
  {
   "cell_type": "markdown",
   "metadata": {},
   "source": [
    "Cab pooling is as easy as it sounds – it's  sharing a ride with other travelers or commuters who have similar start and end locations.Not only does carpooling save you money, but during a transportation or weather related emergency it may be the only way to get to work."
   ]
  },
  {
   "cell_type": "code",
   "execution_count": 83,
   "metadata": {},
   "outputs": [
    {
     "data": {
      "text/html": [
       "<img src=\"https://media.gettyimages.com/photos/-picture-id10176439?s=1024x1024\"/>"
      ],
      "text/plain": [
       "<IPython.core.display.Image object>"
      ]
     },
     "execution_count": 83,
     "metadata": {},
     "output_type": "execute_result"
    }
   ],
   "source": [
    "from IPython.display import HTML\n",
    "from IPython.display import Image\n",
    "Image(url=\"https://media.gettyimages.com/photos/-picture-id10176439?s=1024x1024\")"
   ]
  },
  {
   "cell_type": "markdown",
   "metadata": {},
   "source": [
    "## Objective"
   ]
  },
  {
   "cell_type": "markdown",
   "metadata": {},
   "source": [
    "The main objective of car pooling is to:\n",
    "1. Reduce peak hour congestion\n",
    "2. Save money by sharing the cost of driving one car."
   ]
  },
  {
   "cell_type": "markdown",
   "metadata": {},
   "source": [
    "#### Importing the libraries"
   ]
  },
  {
   "cell_type": "code",
   "execution_count": 2,
   "metadata": {},
   "outputs": [
    {
     "data": {
      "text/html": [
       "        <script type=\"text/javascript\">\n",
       "        window.PlotlyConfig = {MathJaxConfig: 'local'};\n",
       "        if (window.MathJax) {MathJax.Hub.Config({SVG: {font: \"STIX-Web\"}});}\n",
       "        if (typeof require !== 'undefined') {\n",
       "        require.undef(\"plotly\");\n",
       "        requirejs.config({\n",
       "            paths: {\n",
       "                'plotly': ['https://cdn.plot.ly/plotly-latest.min']\n",
       "            }\n",
       "        });\n",
       "        require(['plotly'], function(Plotly) {\n",
       "            window._Plotly = Plotly;\n",
       "        });\n",
       "        }\n",
       "        </script>\n",
       "        "
      ]
     },
     "metadata": {},
     "output_type": "display_data"
    }
   ],
   "source": [
    "%matplotlib inline\n",
    "import pandas as pd\n",
    "import matplotlib.pyplot as plt\n",
    "import numpy as np\n",
    "from scipy import stats\n",
    "import seaborn as sns\n",
    "import statsmodels.api as sm\n",
    "from sklearn import linear_model\n",
    "from statsmodels.formula.api import ols\n",
    "from sklearn.linear_model import LinearRegression, Ridge, Lasso\n",
    "from sklearn.preprocessing import PolynomialFeatures\n",
    "from sklearn.pipeline import make_pipeline\n",
    "import warnings\n",
    "warnings.filterwarnings('ignore')\n",
    "from sklearn.preprocessing import LabelEncoder\n",
    "from sklearn.model_selection import train_test_split\n",
    "from sklearn.linear_model import LinearRegression\n",
    "from sklearn.tree import DecisionTreeRegressor\n",
    "from sklearn.ensemble import RandomForestRegressor\n",
    "from sklearn.metrics import mean_squared_error, mean_squared_log_error\n",
    "from sklearn.preprocessing import scale\n",
    "from sklearn.linear_model import LogisticRegression\n",
    "from sklearn import metrics\n",
    "from sklearn import preprocessing\n",
    "from pylab import rcParams\n",
    "from scipy.stats import spearmanr\n",
    "from statsmodels.stats.outliers_influence import variance_inflation_factor\n",
    "import itertools\n",
    "import plotly.offline as py#visualization\n",
    "py.init_notebook_mode(connected=True)#visualization\n",
    "import plotly.graph_objs as go#visualization\n",
    "import plotly.tools as tls#visualization\n",
    "import plotly.figure_factory as ff#visualization\n",
    "from sklearn.cluster import KMeans\n",
    "import warnings\n",
    "warnings.filterwarnings(\"ignore\")\n",
    "from pandas import *"
   ]
  },
  {
   "cell_type": "markdown",
   "metadata": {},
   "source": [
    "#### Loading the dataset"
   ]
  },
  {
   "cell_type": "code",
   "execution_count": 3,
   "metadata": {},
   "outputs": [
    {
     "data": {
      "text/html": [
       "<div>\n",
       "<style scoped>\n",
       "    .dataframe tbody tr th:only-of-type {\n",
       "        vertical-align: middle;\n",
       "    }\n",
       "\n",
       "    .dataframe tbody tr th {\n",
       "        vertical-align: top;\n",
       "    }\n",
       "\n",
       "    .dataframe thead th {\n",
       "        text-align: right;\n",
       "    }\n",
       "</style>\n",
       "<table border=\"1\" class=\"dataframe\">\n",
       "  <thead>\n",
       "    <tr style=\"text-align: right;\">\n",
       "      <th></th>\n",
       "      <th>Zone</th>\n",
       "      <th>PickupTime</th>\n",
       "      <th>service_zone</th>\n",
       "      <th>CabRequest</th>\n",
       "      <th>total_amount</th>\n",
       "      <th>tip_amount</th>\n",
       "    </tr>\n",
       "  </thead>\n",
       "  <tbody>\n",
       "    <tr>\n",
       "      <th>0</th>\n",
       "      <td>Allerton/Pelham Gardens</td>\n",
       "      <td>2018-04-01 11</td>\n",
       "      <td>Boro Zone</td>\n",
       "      <td>1</td>\n",
       "      <td>41.8</td>\n",
       "      <td>0.0</td>\n",
       "    </tr>\n",
       "    <tr>\n",
       "      <th>1</th>\n",
       "      <td>Allerton/Pelham Gardens</td>\n",
       "      <td>2018-04-01 2</td>\n",
       "      <td>Boro Zone</td>\n",
       "      <td>1</td>\n",
       "      <td>23.8</td>\n",
       "      <td>0.0</td>\n",
       "    </tr>\n",
       "    <tr>\n",
       "      <th>2</th>\n",
       "      <td>Allerton/Pelham Gardens</td>\n",
       "      <td>2018-04-01 8</td>\n",
       "      <td>Boro Zone</td>\n",
       "      <td>1</td>\n",
       "      <td>44.8</td>\n",
       "      <td>0.0</td>\n",
       "    </tr>\n",
       "    <tr>\n",
       "      <th>3</th>\n",
       "      <td>Allerton/Pelham Gardens</td>\n",
       "      <td>2018-04-01 9</td>\n",
       "      <td>Boro Zone</td>\n",
       "      <td>2</td>\n",
       "      <td>69.6</td>\n",
       "      <td>0.0</td>\n",
       "    </tr>\n",
       "    <tr>\n",
       "      <th>4</th>\n",
       "      <td>Allerton/Pelham Gardens</td>\n",
       "      <td>2018-04-03 12</td>\n",
       "      <td>Boro Zone</td>\n",
       "      <td>1</td>\n",
       "      <td>11.3</td>\n",
       "      <td>0.0</td>\n",
       "    </tr>\n",
       "  </tbody>\n",
       "</table>\n",
       "</div>"
      ],
      "text/plain": [
       "                      Zone     PickupTime service_zone  CabRequest  \\\n",
       "0  Allerton/Pelham Gardens  2018-04-01 11    Boro Zone           1   \n",
       "1  Allerton/Pelham Gardens   2018-04-01 2    Boro Zone           1   \n",
       "2  Allerton/Pelham Gardens   2018-04-01 8    Boro Zone           1   \n",
       "3  Allerton/Pelham Gardens   2018-04-01 9    Boro Zone           2   \n",
       "4  Allerton/Pelham Gardens  2018-04-03 12    Boro Zone           1   \n",
       "\n",
       "   total_amount  tip_amount  \n",
       "0          41.8         0.0  \n",
       "1          23.8         0.0  \n",
       "2          44.8         0.0  \n",
       "3          69.6         0.0  \n",
       "4          11.3         0.0  "
      ]
     },
     "execution_count": 3,
     "metadata": {},
     "output_type": "execute_result"
    }
   ],
   "source": [
    "df = pd.read_csv(\"Mergedd.csv\")\n",
    "df.head()"
   ]
  },
  {
   "cell_type": "markdown",
   "metadata": {},
   "source": [
    "#### Checking for the null values"
   ]
  },
  {
   "cell_type": "code",
   "execution_count": 4,
   "metadata": {},
   "outputs": [
    {
     "data": {
      "text/plain": [
       "Zone            0\n",
       "PickupTime      0\n",
       "service_zone    0\n",
       "CabRequest      0\n",
       "total_amount    0\n",
       "tip_amount      0\n",
       "dtype: int64"
      ]
     },
     "execution_count": 4,
     "metadata": {},
     "output_type": "execute_result"
    }
   ],
   "source": [
    "df.isnull().sum()"
   ]
  },
  {
   "cell_type": "markdown",
   "metadata": {},
   "source": [
    "We can see that the data is clean and there are no null values present"
   ]
  },
  {
   "cell_type": "markdown",
   "metadata": {},
   "source": [
    "#### Generating descriptive statistics of the dataset distribution"
   ]
  },
  {
   "cell_type": "code",
   "execution_count": 5,
   "metadata": {},
   "outputs": [
    {
     "data": {
      "text/html": [
       "<div>\n",
       "<style scoped>\n",
       "    .dataframe tbody tr th:only-of-type {\n",
       "        vertical-align: middle;\n",
       "    }\n",
       "\n",
       "    .dataframe tbody tr th {\n",
       "        vertical-align: top;\n",
       "    }\n",
       "\n",
       "    .dataframe thead th {\n",
       "        text-align: right;\n",
       "    }\n",
       "</style>\n",
       "<table border=\"1\" class=\"dataframe\">\n",
       "  <thead>\n",
       "    <tr style=\"text-align: right;\">\n",
       "      <th></th>\n",
       "      <th>CabRequest</th>\n",
       "      <th>total_amount</th>\n",
       "      <th>tip_amount</th>\n",
       "    </tr>\n",
       "  </thead>\n",
       "  <tbody>\n",
       "    <tr>\n",
       "      <th>count</th>\n",
       "      <td>1.048564e+06</td>\n",
       "      <td>1.048564e+06</td>\n",
       "      <td>1.048564e+06</td>\n",
       "    </tr>\n",
       "    <tr>\n",
       "      <th>mean</th>\n",
       "      <td>8.954993e+01</td>\n",
       "      <td>1.461547e+03</td>\n",
       "      <td>1.670406e+02</td>\n",
       "    </tr>\n",
       "    <tr>\n",
       "      <th>std</th>\n",
       "      <td>1.618861e+02</td>\n",
       "      <td>3.402060e+03</td>\n",
       "      <td>3.718295e+02</td>\n",
       "    </tr>\n",
       "    <tr>\n",
       "      <th>min</th>\n",
       "      <td>1.000000e+00</td>\n",
       "      <td>0.000000e+00</td>\n",
       "      <td>0.000000e+00</td>\n",
       "    </tr>\n",
       "    <tr>\n",
       "      <th>25%</th>\n",
       "      <td>2.000000e+00</td>\n",
       "      <td>4.310000e+01</td>\n",
       "      <td>1.000000e+00</td>\n",
       "    </tr>\n",
       "    <tr>\n",
       "      <th>50%</th>\n",
       "      <td>1.000000e+01</td>\n",
       "      <td>1.789800e+02</td>\n",
       "      <td>1.597000e+01</td>\n",
       "    </tr>\n",
       "    <tr>\n",
       "      <th>75%</th>\n",
       "      <td>1.010000e+02</td>\n",
       "      <td>1.531173e+03</td>\n",
       "      <td>1.696300e+02</td>\n",
       "    </tr>\n",
       "    <tr>\n",
       "      <th>max</th>\n",
       "      <td>2.677000e+03</td>\n",
       "      <td>9.071061e+05</td>\n",
       "      <td>5.991910e+03</td>\n",
       "    </tr>\n",
       "  </tbody>\n",
       "</table>\n",
       "</div>"
      ],
      "text/plain": [
       "         CabRequest  total_amount    tip_amount\n",
       "count  1.048564e+06  1.048564e+06  1.048564e+06\n",
       "mean   8.954993e+01  1.461547e+03  1.670406e+02\n",
       "std    1.618861e+02  3.402060e+03  3.718295e+02\n",
       "min    1.000000e+00  0.000000e+00  0.000000e+00\n",
       "25%    2.000000e+00  4.310000e+01  1.000000e+00\n",
       "50%    1.000000e+01  1.789800e+02  1.597000e+01\n",
       "75%    1.010000e+02  1.531173e+03  1.696300e+02\n",
       "max    2.677000e+03  9.071061e+05  5.991910e+03"
      ]
     },
     "execution_count": 5,
     "metadata": {},
     "output_type": "execute_result"
    }
   ],
   "source": [
    "df.describe()"
   ]
  },
  {
   "cell_type": "markdown",
   "metadata": {},
   "source": [
    "#### Converting column Date from \"date\" format to \"datetime\" format\n",
    "#### Creating a new column year using date column"
   ]
  },
  {
   "cell_type": "code",
   "execution_count": 7,
   "metadata": {},
   "outputs": [
    {
     "data": {
      "text/html": [
       "<div>\n",
       "<style scoped>\n",
       "    .dataframe tbody tr th:only-of-type {\n",
       "        vertical-align: middle;\n",
       "    }\n",
       "\n",
       "    .dataframe tbody tr th {\n",
       "        vertical-align: top;\n",
       "    }\n",
       "\n",
       "    .dataframe thead th {\n",
       "        text-align: right;\n",
       "    }\n",
       "</style>\n",
       "<table border=\"1\" class=\"dataframe\">\n",
       "  <thead>\n",
       "    <tr style=\"text-align: right;\">\n",
       "      <th></th>\n",
       "      <th>Zone</th>\n",
       "      <th>PickupTime</th>\n",
       "      <th>service_zone</th>\n",
       "      <th>CabRequest</th>\n",
       "      <th>total_amount</th>\n",
       "      <th>tip_amount</th>\n",
       "      <th>Date</th>\n",
       "      <th>hour</th>\n",
       "    </tr>\n",
       "  </thead>\n",
       "  <tbody>\n",
       "    <tr>\n",
       "      <th>0</th>\n",
       "      <td>Allerton/Pelham Gardens</td>\n",
       "      <td>2018-04-01 11</td>\n",
       "      <td>Boro Zone</td>\n",
       "      <td>1</td>\n",
       "      <td>41.8</td>\n",
       "      <td>0.0</td>\n",
       "      <td>2018-04-01</td>\n",
       "      <td>11</td>\n",
       "    </tr>\n",
       "    <tr>\n",
       "      <th>1</th>\n",
       "      <td>Allerton/Pelham Gardens</td>\n",
       "      <td>2018-04-01 2</td>\n",
       "      <td>Boro Zone</td>\n",
       "      <td>1</td>\n",
       "      <td>23.8</td>\n",
       "      <td>0.0</td>\n",
       "      <td>2018-04-01</td>\n",
       "      <td>2</td>\n",
       "    </tr>\n",
       "    <tr>\n",
       "      <th>2</th>\n",
       "      <td>Allerton/Pelham Gardens</td>\n",
       "      <td>2018-04-01 8</td>\n",
       "      <td>Boro Zone</td>\n",
       "      <td>1</td>\n",
       "      <td>44.8</td>\n",
       "      <td>0.0</td>\n",
       "      <td>2018-04-01</td>\n",
       "      <td>8</td>\n",
       "    </tr>\n",
       "    <tr>\n",
       "      <th>3</th>\n",
       "      <td>Allerton/Pelham Gardens</td>\n",
       "      <td>2018-04-01 9</td>\n",
       "      <td>Boro Zone</td>\n",
       "      <td>2</td>\n",
       "      <td>69.6</td>\n",
       "      <td>0.0</td>\n",
       "      <td>2018-04-01</td>\n",
       "      <td>9</td>\n",
       "    </tr>\n",
       "    <tr>\n",
       "      <th>4</th>\n",
       "      <td>Allerton/Pelham Gardens</td>\n",
       "      <td>2018-04-03 12</td>\n",
       "      <td>Boro Zone</td>\n",
       "      <td>1</td>\n",
       "      <td>11.3</td>\n",
       "      <td>0.0</td>\n",
       "      <td>2018-04-03</td>\n",
       "      <td>12</td>\n",
       "    </tr>\n",
       "  </tbody>\n",
       "</table>\n",
       "</div>"
      ],
      "text/plain": [
       "                      Zone     PickupTime service_zone  CabRequest  \\\n",
       "0  Allerton/Pelham Gardens  2018-04-01 11    Boro Zone           1   \n",
       "1  Allerton/Pelham Gardens   2018-04-01 2    Boro Zone           1   \n",
       "2  Allerton/Pelham Gardens   2018-04-01 8    Boro Zone           1   \n",
       "3  Allerton/Pelham Gardens   2018-04-01 9    Boro Zone           2   \n",
       "4  Allerton/Pelham Gardens  2018-04-03 12    Boro Zone           1   \n",
       "\n",
       "   total_amount  tip_amount        Date hour  \n",
       "0          41.8         0.0  2018-04-01   11  \n",
       "1          23.8         0.0  2018-04-01    2  \n",
       "2          44.8         0.0  2018-04-01    8  \n",
       "3          69.6         0.0  2018-04-01    9  \n",
       "4          11.3         0.0  2018-04-03   12  "
      ]
     },
     "execution_count": 7,
     "metadata": {},
     "output_type": "execute_result"
    }
   ],
   "source": [
    "df['Date']=df.PickupTime.str.split(' ').str[0].str.strip()\n",
    "df['hour']=df.PickupTime.str.split(' ').str[1].str.strip()\n",
    "df.head()"
   ]
  },
  {
   "cell_type": "markdown",
   "metadata": {},
   "source": [
    "#### Converting column Date from \"date\" format to \"datetime\" format\n",
    "#### Creating a new column year using date column"
   ]
  },
  {
   "cell_type": "code",
   "execution_count": 8,
   "metadata": {},
   "outputs": [],
   "source": [
    "df['Date'] = pd.to_datetime(df['Date'])\n",
    "df['Year'] = df['Date'].dt.year"
   ]
  },
  {
   "cell_type": "markdown",
   "metadata": {},
   "source": [
    "#### Assigning the year as 2018 in the dataset"
   ]
  },
  {
   "cell_type": "code",
   "execution_count": 9,
   "metadata": {},
   "outputs": [],
   "source": [
    "df_Output=df[(df['Year']== 2018)]"
   ]
  },
  {
   "cell_type": "markdown",
   "metadata": {},
   "source": [
    "#### Creating new columns such as week_day, month, month_name and month_year using the existing columns in the dataset"
   ]
  },
  {
   "cell_type": "code",
   "execution_count": 10,
   "metadata": {},
   "outputs": [],
   "source": [
    "df_Output[\"week_day\"]   = df_Output[\"Date\"].dt.weekday_name\n",
    "df_Output[\"month\"] = pd.DatetimeIndex(df_Output[\"Date\"]).month\n",
    "df_Output[\"month_name\"] = df_Output[\"month\"].map({1:\"JAN\",2:\"FEB\",3:\"MAR\",\n",
    "                                                4:\"APR\",5:\"MAY\",6:\"JUN\",\n",
    "                                                7:\"JUL\",8:\"AUG\",9:\"SEP\",\n",
    "                                                10:\"OCT\",11:\"NOV\",12:\"DEC\"\n",
    "                                               })\n",
    "df_Output[\"month_year\"] = df_Output[\"Year\"].astype(str) + \" - \" + df_Output[\"month_name\"]"
   ]
  },
  {
   "cell_type": "markdown",
   "metadata": {},
   "source": [
    "#### A map function is used above to map a particular month to its corresponding number"
   ]
  },
  {
   "cell_type": "code",
   "execution_count": 11,
   "metadata": {},
   "outputs": [
    {
     "data": {
      "text/html": [
       "<div>\n",
       "<style scoped>\n",
       "    .dataframe tbody tr th:only-of-type {\n",
       "        vertical-align: middle;\n",
       "    }\n",
       "\n",
       "    .dataframe tbody tr th {\n",
       "        vertical-align: top;\n",
       "    }\n",
       "\n",
       "    .dataframe thead th {\n",
       "        text-align: right;\n",
       "    }\n",
       "</style>\n",
       "<table border=\"1\" class=\"dataframe\">\n",
       "  <thead>\n",
       "    <tr style=\"text-align: right;\">\n",
       "      <th></th>\n",
       "      <th>Zone</th>\n",
       "      <th>PickupTime</th>\n",
       "      <th>service_zone</th>\n",
       "      <th>CabRequest</th>\n",
       "      <th>total_amount</th>\n",
       "      <th>tip_amount</th>\n",
       "      <th>Date</th>\n",
       "      <th>hour</th>\n",
       "      <th>Year</th>\n",
       "      <th>week_day</th>\n",
       "      <th>month</th>\n",
       "      <th>month_name</th>\n",
       "      <th>month_year</th>\n",
       "    </tr>\n",
       "  </thead>\n",
       "  <tbody>\n",
       "    <tr>\n",
       "      <th>0</th>\n",
       "      <td>Allerton/Pelham Gardens</td>\n",
       "      <td>2018-04-01 11</td>\n",
       "      <td>Boro Zone</td>\n",
       "      <td>1</td>\n",
       "      <td>41.8</td>\n",
       "      <td>0.0</td>\n",
       "      <td>2018-04-01</td>\n",
       "      <td>11</td>\n",
       "      <td>2018</td>\n",
       "      <td>Sunday</td>\n",
       "      <td>4</td>\n",
       "      <td>APR</td>\n",
       "      <td>2018 - APR</td>\n",
       "    </tr>\n",
       "    <tr>\n",
       "      <th>1</th>\n",
       "      <td>Allerton/Pelham Gardens</td>\n",
       "      <td>2018-04-01 2</td>\n",
       "      <td>Boro Zone</td>\n",
       "      <td>1</td>\n",
       "      <td>23.8</td>\n",
       "      <td>0.0</td>\n",
       "      <td>2018-04-01</td>\n",
       "      <td>2</td>\n",
       "      <td>2018</td>\n",
       "      <td>Sunday</td>\n",
       "      <td>4</td>\n",
       "      <td>APR</td>\n",
       "      <td>2018 - APR</td>\n",
       "    </tr>\n",
       "    <tr>\n",
       "      <th>2</th>\n",
       "      <td>Allerton/Pelham Gardens</td>\n",
       "      <td>2018-04-01 8</td>\n",
       "      <td>Boro Zone</td>\n",
       "      <td>1</td>\n",
       "      <td>44.8</td>\n",
       "      <td>0.0</td>\n",
       "      <td>2018-04-01</td>\n",
       "      <td>8</td>\n",
       "      <td>2018</td>\n",
       "      <td>Sunday</td>\n",
       "      <td>4</td>\n",
       "      <td>APR</td>\n",
       "      <td>2018 - APR</td>\n",
       "    </tr>\n",
       "    <tr>\n",
       "      <th>3</th>\n",
       "      <td>Allerton/Pelham Gardens</td>\n",
       "      <td>2018-04-01 9</td>\n",
       "      <td>Boro Zone</td>\n",
       "      <td>2</td>\n",
       "      <td>69.6</td>\n",
       "      <td>0.0</td>\n",
       "      <td>2018-04-01</td>\n",
       "      <td>9</td>\n",
       "      <td>2018</td>\n",
       "      <td>Sunday</td>\n",
       "      <td>4</td>\n",
       "      <td>APR</td>\n",
       "      <td>2018 - APR</td>\n",
       "    </tr>\n",
       "    <tr>\n",
       "      <th>4</th>\n",
       "      <td>Allerton/Pelham Gardens</td>\n",
       "      <td>2018-04-03 12</td>\n",
       "      <td>Boro Zone</td>\n",
       "      <td>1</td>\n",
       "      <td>11.3</td>\n",
       "      <td>0.0</td>\n",
       "      <td>2018-04-03</td>\n",
       "      <td>12</td>\n",
       "      <td>2018</td>\n",
       "      <td>Tuesday</td>\n",
       "      <td>4</td>\n",
       "      <td>APR</td>\n",
       "      <td>2018 - APR</td>\n",
       "    </tr>\n",
       "  </tbody>\n",
       "</table>\n",
       "</div>"
      ],
      "text/plain": [
       "                      Zone     PickupTime service_zone  CabRequest  \\\n",
       "0  Allerton/Pelham Gardens  2018-04-01 11    Boro Zone           1   \n",
       "1  Allerton/Pelham Gardens   2018-04-01 2    Boro Zone           1   \n",
       "2  Allerton/Pelham Gardens   2018-04-01 8    Boro Zone           1   \n",
       "3  Allerton/Pelham Gardens   2018-04-01 9    Boro Zone           2   \n",
       "4  Allerton/Pelham Gardens  2018-04-03 12    Boro Zone           1   \n",
       "\n",
       "   total_amount  tip_amount       Date hour  Year week_day  month month_name  \\\n",
       "0          41.8         0.0 2018-04-01   11  2018   Sunday      4        APR   \n",
       "1          23.8         0.0 2018-04-01    2  2018   Sunday      4        APR   \n",
       "2          44.8         0.0 2018-04-01    8  2018   Sunday      4        APR   \n",
       "3          69.6         0.0 2018-04-01    9  2018   Sunday      4        APR   \n",
       "4          11.3         0.0 2018-04-03   12  2018  Tuesday      4        APR   \n",
       "\n",
       "   month_year  \n",
       "0  2018 - APR  \n",
       "1  2018 - APR  \n",
       "2  2018 - APR  \n",
       "3  2018 - APR  \n",
       "4  2018 - APR  "
      ]
     },
     "execution_count": 11,
     "metadata": {},
     "output_type": "execute_result"
    }
   ],
   "source": [
    "df_Output.head()"
   ]
  },
  {
   "cell_type": "markdown",
   "metadata": {},
   "source": [
    "#### Checking the unique values present in \"hour\" column"
   ]
  },
  {
   "cell_type": "code",
   "execution_count": 12,
   "metadata": {},
   "outputs": [
    {
     "data": {
      "text/plain": [
       "array(['11', '2', '8', '9', '12', '13', '10', '3', '5', '17', '21', '7',\n",
       "       '18', '20', '23', '0', '16', '15', '6', '19', '1', '14', '22', '4'],\n",
       "      dtype=object)"
      ]
     },
     "execution_count": 12,
     "metadata": {},
     "output_type": "execute_result"
    }
   ],
   "source": [
    "df_Output.hour.unique()"
   ]
  },
  {
   "cell_type": "markdown",
   "metadata": {},
   "source": [
    "#### Defining a function to create time intervals of a based on hours"
   ]
  },
  {
   "cell_type": "code",
   "execution_count": 13,
   "metadata": {},
   "outputs": [],
   "source": [
    "def interval1(a):\n",
    "    if a>=0 and a<=4:\n",
    "        return 'late_night'\n",
    "    elif a>4 and a<=8:\n",
    "        return 'early_morning'\n",
    "    elif a>8 and a<=12:\n",
    "        return 'morning'\n",
    "    elif a>12 and a<=16:\n",
    "        return 'afternoon'\n",
    "    elif a>16 and a<=20:\n",
    "        return 'evening'\n",
    "    else:\n",
    "        return 'night'"
   ]
  },
  {
   "cell_type": "markdown",
   "metadata": {},
   "source": [
    "#### Creating a new column \"is_hour\" based on time intervals"
   ]
  },
  {
   "cell_type": "code",
   "execution_count": 14,
   "metadata": {},
   "outputs": [],
   "source": [
    "df_Output['is_hour'] = df_Output.hour.astype(int).apply(interval1)"
   ]
  },
  {
   "cell_type": "code",
   "execution_count": 15,
   "metadata": {},
   "outputs": [
    {
     "data": {
      "text/html": [
       "<div>\n",
       "<style scoped>\n",
       "    .dataframe tbody tr th:only-of-type {\n",
       "        vertical-align: middle;\n",
       "    }\n",
       "\n",
       "    .dataframe tbody tr th {\n",
       "        vertical-align: top;\n",
       "    }\n",
       "\n",
       "    .dataframe thead th {\n",
       "        text-align: right;\n",
       "    }\n",
       "</style>\n",
       "<table border=\"1\" class=\"dataframe\">\n",
       "  <thead>\n",
       "    <tr style=\"text-align: right;\">\n",
       "      <th></th>\n",
       "      <th>Zone</th>\n",
       "      <th>PickupTime</th>\n",
       "      <th>service_zone</th>\n",
       "      <th>CabRequest</th>\n",
       "      <th>total_amount</th>\n",
       "      <th>tip_amount</th>\n",
       "      <th>Date</th>\n",
       "      <th>hour</th>\n",
       "      <th>Year</th>\n",
       "      <th>week_day</th>\n",
       "      <th>month</th>\n",
       "      <th>month_name</th>\n",
       "      <th>month_year</th>\n",
       "      <th>is_hour</th>\n",
       "    </tr>\n",
       "  </thead>\n",
       "  <tbody>\n",
       "    <tr>\n",
       "      <th>0</th>\n",
       "      <td>Allerton/Pelham Gardens</td>\n",
       "      <td>2018-04-01 11</td>\n",
       "      <td>Boro Zone</td>\n",
       "      <td>1</td>\n",
       "      <td>41.8</td>\n",
       "      <td>0.0</td>\n",
       "      <td>2018-04-01</td>\n",
       "      <td>11</td>\n",
       "      <td>2018</td>\n",
       "      <td>Sunday</td>\n",
       "      <td>4</td>\n",
       "      <td>APR</td>\n",
       "      <td>2018 - APR</td>\n",
       "      <td>morning</td>\n",
       "    </tr>\n",
       "    <tr>\n",
       "      <th>1</th>\n",
       "      <td>Allerton/Pelham Gardens</td>\n",
       "      <td>2018-04-01 2</td>\n",
       "      <td>Boro Zone</td>\n",
       "      <td>1</td>\n",
       "      <td>23.8</td>\n",
       "      <td>0.0</td>\n",
       "      <td>2018-04-01</td>\n",
       "      <td>2</td>\n",
       "      <td>2018</td>\n",
       "      <td>Sunday</td>\n",
       "      <td>4</td>\n",
       "      <td>APR</td>\n",
       "      <td>2018 - APR</td>\n",
       "      <td>late_night</td>\n",
       "    </tr>\n",
       "    <tr>\n",
       "      <th>2</th>\n",
       "      <td>Allerton/Pelham Gardens</td>\n",
       "      <td>2018-04-01 8</td>\n",
       "      <td>Boro Zone</td>\n",
       "      <td>1</td>\n",
       "      <td>44.8</td>\n",
       "      <td>0.0</td>\n",
       "      <td>2018-04-01</td>\n",
       "      <td>8</td>\n",
       "      <td>2018</td>\n",
       "      <td>Sunday</td>\n",
       "      <td>4</td>\n",
       "      <td>APR</td>\n",
       "      <td>2018 - APR</td>\n",
       "      <td>early_morning</td>\n",
       "    </tr>\n",
       "    <tr>\n",
       "      <th>3</th>\n",
       "      <td>Allerton/Pelham Gardens</td>\n",
       "      <td>2018-04-01 9</td>\n",
       "      <td>Boro Zone</td>\n",
       "      <td>2</td>\n",
       "      <td>69.6</td>\n",
       "      <td>0.0</td>\n",
       "      <td>2018-04-01</td>\n",
       "      <td>9</td>\n",
       "      <td>2018</td>\n",
       "      <td>Sunday</td>\n",
       "      <td>4</td>\n",
       "      <td>APR</td>\n",
       "      <td>2018 - APR</td>\n",
       "      <td>morning</td>\n",
       "    </tr>\n",
       "    <tr>\n",
       "      <th>4</th>\n",
       "      <td>Allerton/Pelham Gardens</td>\n",
       "      <td>2018-04-03 12</td>\n",
       "      <td>Boro Zone</td>\n",
       "      <td>1</td>\n",
       "      <td>11.3</td>\n",
       "      <td>0.0</td>\n",
       "      <td>2018-04-03</td>\n",
       "      <td>12</td>\n",
       "      <td>2018</td>\n",
       "      <td>Tuesday</td>\n",
       "      <td>4</td>\n",
       "      <td>APR</td>\n",
       "      <td>2018 - APR</td>\n",
       "      <td>morning</td>\n",
       "    </tr>\n",
       "  </tbody>\n",
       "</table>\n",
       "</div>"
      ],
      "text/plain": [
       "                      Zone     PickupTime service_zone  CabRequest  \\\n",
       "0  Allerton/Pelham Gardens  2018-04-01 11    Boro Zone           1   \n",
       "1  Allerton/Pelham Gardens   2018-04-01 2    Boro Zone           1   \n",
       "2  Allerton/Pelham Gardens   2018-04-01 8    Boro Zone           1   \n",
       "3  Allerton/Pelham Gardens   2018-04-01 9    Boro Zone           2   \n",
       "4  Allerton/Pelham Gardens  2018-04-03 12    Boro Zone           1   \n",
       "\n",
       "   total_amount  tip_amount       Date hour  Year week_day  month month_name  \\\n",
       "0          41.8         0.0 2018-04-01   11  2018   Sunday      4        APR   \n",
       "1          23.8         0.0 2018-04-01    2  2018   Sunday      4        APR   \n",
       "2          44.8         0.0 2018-04-01    8  2018   Sunday      4        APR   \n",
       "3          69.6         0.0 2018-04-01    9  2018   Sunday      4        APR   \n",
       "4          11.3         0.0 2018-04-03   12  2018  Tuesday      4        APR   \n",
       "\n",
       "   month_year        is_hour  \n",
       "0  2018 - APR        morning  \n",
       "1  2018 - APR     late_night  \n",
       "2  2018 - APR  early_morning  \n",
       "3  2018 - APR        morning  \n",
       "4  2018 - APR        morning  "
      ]
     },
     "execution_count": 15,
     "metadata": {},
     "output_type": "execute_result"
    }
   ],
   "source": [
    "df_Output.head()"
   ]
  },
  {
   "cell_type": "markdown",
   "metadata": {},
   "source": [
    "#### Converting the categorical values into numerical values using lable encoder"
   ]
  },
  {
   "cell_type": "code",
   "execution_count": 16,
   "metadata": {},
   "outputs": [],
   "source": [
    "# Import label encoder \n",
    "from sklearn import preprocessing \n",
    "  \n",
    "# label_encoder object knows how to understand word labels. \n",
    "label_encoder = preprocessing.LabelEncoder() \n",
    "df_Output['is_hour']= label_encoder.fit_transform(df_Output['is_hour'])\n",
    "df_Output['Zone']= label_encoder.fit_transform(df_Output['Zone'])\n",
    "df_Output['total_amount']= label_encoder.fit_transform(df_Output['total_amount'])"
   ]
  },
  {
   "cell_type": "code",
   "execution_count": 17,
   "metadata": {},
   "outputs": [
    {
     "data": {
      "text/html": [
       "<div>\n",
       "<style scoped>\n",
       "    .dataframe tbody tr th:only-of-type {\n",
       "        vertical-align: middle;\n",
       "    }\n",
       "\n",
       "    .dataframe tbody tr th {\n",
       "        vertical-align: top;\n",
       "    }\n",
       "\n",
       "    .dataframe thead th {\n",
       "        text-align: right;\n",
       "    }\n",
       "</style>\n",
       "<table border=\"1\" class=\"dataframe\">\n",
       "  <thead>\n",
       "    <tr style=\"text-align: right;\">\n",
       "      <th></th>\n",
       "      <th>Zone</th>\n",
       "      <th>PickupTime</th>\n",
       "      <th>service_zone</th>\n",
       "      <th>CabRequest</th>\n",
       "      <th>total_amount</th>\n",
       "      <th>tip_amount</th>\n",
       "      <th>Date</th>\n",
       "      <th>hour</th>\n",
       "      <th>Year</th>\n",
       "      <th>week_day</th>\n",
       "      <th>month</th>\n",
       "      <th>month_name</th>\n",
       "      <th>month_year</th>\n",
       "      <th>is_hour</th>\n",
       "    </tr>\n",
       "  </thead>\n",
       "  <tbody>\n",
       "    <tr>\n",
       "      <th>0</th>\n",
       "      <td>0</td>\n",
       "      <td>2018-04-01 11</td>\n",
       "      <td>Boro Zone</td>\n",
       "      <td>1</td>\n",
       "      <td>3432</td>\n",
       "      <td>0.0</td>\n",
       "      <td>2018-04-01</td>\n",
       "      <td>11</td>\n",
       "      <td>2018</td>\n",
       "      <td>Sunday</td>\n",
       "      <td>4</td>\n",
       "      <td>APR</td>\n",
       "      <td>2018 - APR</td>\n",
       "      <td>4</td>\n",
       "    </tr>\n",
       "    <tr>\n",
       "      <th>1</th>\n",
       "      <td>0</td>\n",
       "      <td>2018-04-01 2</td>\n",
       "      <td>Boro Zone</td>\n",
       "      <td>1</td>\n",
       "      <td>1633</td>\n",
       "      <td>0.0</td>\n",
       "      <td>2018-04-01</td>\n",
       "      <td>2</td>\n",
       "      <td>2018</td>\n",
       "      <td>Sunday</td>\n",
       "      <td>4</td>\n",
       "      <td>APR</td>\n",
       "      <td>2018 - APR</td>\n",
       "      <td>3</td>\n",
       "    </tr>\n",
       "    <tr>\n",
       "      <th>2</th>\n",
       "      <td>0</td>\n",
       "      <td>2018-04-01 8</td>\n",
       "      <td>Boro Zone</td>\n",
       "      <td>1</td>\n",
       "      <td>3732</td>\n",
       "      <td>0.0</td>\n",
       "      <td>2018-04-01</td>\n",
       "      <td>8</td>\n",
       "      <td>2018</td>\n",
       "      <td>Sunday</td>\n",
       "      <td>4</td>\n",
       "      <td>APR</td>\n",
       "      <td>2018 - APR</td>\n",
       "      <td>1</td>\n",
       "    </tr>\n",
       "    <tr>\n",
       "      <th>3</th>\n",
       "      <td>0</td>\n",
       "      <td>2018-04-01 9</td>\n",
       "      <td>Boro Zone</td>\n",
       "      <td>2</td>\n",
       "      <td>6212</td>\n",
       "      <td>0.0</td>\n",
       "      <td>2018-04-01</td>\n",
       "      <td>9</td>\n",
       "      <td>2018</td>\n",
       "      <td>Sunday</td>\n",
       "      <td>4</td>\n",
       "      <td>APR</td>\n",
       "      <td>2018 - APR</td>\n",
       "      <td>4</td>\n",
       "    </tr>\n",
       "    <tr>\n",
       "      <th>4</th>\n",
       "      <td>0</td>\n",
       "      <td>2018-04-03 12</td>\n",
       "      <td>Boro Zone</td>\n",
       "      <td>1</td>\n",
       "      <td>456</td>\n",
       "      <td>0.0</td>\n",
       "      <td>2018-04-03</td>\n",
       "      <td>12</td>\n",
       "      <td>2018</td>\n",
       "      <td>Tuesday</td>\n",
       "      <td>4</td>\n",
       "      <td>APR</td>\n",
       "      <td>2018 - APR</td>\n",
       "      <td>4</td>\n",
       "    </tr>\n",
       "  </tbody>\n",
       "</table>\n",
       "</div>"
      ],
      "text/plain": [
       "   Zone     PickupTime service_zone  CabRequest  total_amount  tip_amount  \\\n",
       "0     0  2018-04-01 11    Boro Zone           1          3432         0.0   \n",
       "1     0   2018-04-01 2    Boro Zone           1          1633         0.0   \n",
       "2     0   2018-04-01 8    Boro Zone           1          3732         0.0   \n",
       "3     0   2018-04-01 9    Boro Zone           2          6212         0.0   \n",
       "4     0  2018-04-03 12    Boro Zone           1           456         0.0   \n",
       "\n",
       "        Date hour  Year week_day  month month_name  month_year  is_hour  \n",
       "0 2018-04-01   11  2018   Sunday      4        APR  2018 - APR        4  \n",
       "1 2018-04-01    2  2018   Sunday      4        APR  2018 - APR        3  \n",
       "2 2018-04-01    8  2018   Sunday      4        APR  2018 - APR        1  \n",
       "3 2018-04-01    9  2018   Sunday      4        APR  2018 - APR        4  \n",
       "4 2018-04-03   12  2018  Tuesday      4        APR  2018 - APR        4  "
      ]
     },
     "execution_count": 17,
     "metadata": {},
     "output_type": "execute_result"
    }
   ],
   "source": [
    "df_Output.head()"
   ]
  },
  {
   "cell_type": "markdown",
   "metadata": {},
   "source": [
    "#### Checking for the unique values in column is hour"
   ]
  },
  {
   "cell_type": "code",
   "execution_count": 18,
   "metadata": {},
   "outputs": [
    {
     "data": {
      "text/plain": [
       "array([4, 3, 1, 0, 2, 5])"
      ]
     },
     "execution_count": 18,
     "metadata": {},
     "output_type": "execute_result"
    }
   ],
   "source": [
    "df_Output.is_hour.unique()"
   ]
  },
  {
   "cell_type": "markdown",
   "metadata": {},
   "source": [
    "We can observe that the hours is converted into 6 time intervals"
   ]
  },
  {
   "cell_type": "markdown",
   "metadata": {},
   "source": [
    "#### Creating an array of dates having public holidays in the year 2018"
   ]
  },
  {
   "cell_type": "code",
   "execution_count": 19,
   "metadata": {},
   "outputs": [],
   "source": [
    "from array import array\n",
    "datearr = ['2018-01-01','2018-01-15','2018-02-19','2018-04-16','2018-05-13','2018-05-28','2018-06-17','2018-04-04','2018-05-07','2018-20-08','2018-11-11','2018-11-12','2018-11-22','2018-11-23','2018-12-05','2018-12-24','2018-12-25']"
   ]
  },
  {
   "cell_type": "markdown",
   "metadata": {},
   "source": [
    "#### Creating an array of dates having extreme weather condition in the year 2018"
   ]
  },
  {
   "cell_type": "code",
   "execution_count": 20,
   "metadata": {},
   "outputs": [],
   "source": [
    "from array import array\n",
    "datearr1 = ['2018-01-04','2018-01-12','2018-01-13','2018-01-17','2018-01-30','2018-02-10','2018-02-12','2018-02-11','2018-02-18','2018-02-21','2018-02-24','2018-02-25','2018-03-02','2018-03-05','2018-02-17','2018-03-18','2018-02-02','2018-05-15','2018-09-25','2018-11-15','2018-04-01']"
   ]
  },
  {
   "cell_type": "markdown",
   "metadata": {},
   "source": [
    "#### Assigning the binary values to the public holidays corresponding to their respective dates"
   ]
  },
  {
   "cell_type": "code",
   "execution_count": 21,
   "metadata": {},
   "outputs": [],
   "source": [
    "df_Output['is_public_holidays'] = ['yes' if x.strftime('%Y-%m-%d') in datearr else 'no' for x in df_Output['Date']]"
   ]
  },
  {
   "cell_type": "markdown",
   "metadata": {},
   "source": [
    "#### Assigning the binary values to the extreme weather condition corresponding to their respective dates"
   ]
  },
  {
   "cell_type": "code",
   "execution_count": 22,
   "metadata": {},
   "outputs": [],
   "source": [
    "df_Output['is_extreme_cliamte'] = ['yes' if y.strftime('%Y-%m-%d') in datearr1 else 'no' for y in df_Output['Date']]\n",
    "#yes--1\n",
    "#No--0"
   ]
  },
  {
   "cell_type": "markdown",
   "metadata": {},
   "source": [
    "#### Checking the dataset with all the added columns and values"
   ]
  },
  {
   "cell_type": "code",
   "execution_count": 23,
   "metadata": {},
   "outputs": [
    {
     "data": {
      "text/html": [
       "<div>\n",
       "<style scoped>\n",
       "    .dataframe tbody tr th:only-of-type {\n",
       "        vertical-align: middle;\n",
       "    }\n",
       "\n",
       "    .dataframe tbody tr th {\n",
       "        vertical-align: top;\n",
       "    }\n",
       "\n",
       "    .dataframe thead th {\n",
       "        text-align: right;\n",
       "    }\n",
       "</style>\n",
       "<table border=\"1\" class=\"dataframe\">\n",
       "  <thead>\n",
       "    <tr style=\"text-align: right;\">\n",
       "      <th></th>\n",
       "      <th>Zone</th>\n",
       "      <th>PickupTime</th>\n",
       "      <th>service_zone</th>\n",
       "      <th>CabRequest</th>\n",
       "      <th>total_amount</th>\n",
       "      <th>tip_amount</th>\n",
       "      <th>Date</th>\n",
       "      <th>hour</th>\n",
       "      <th>Year</th>\n",
       "      <th>week_day</th>\n",
       "      <th>month</th>\n",
       "      <th>month_name</th>\n",
       "      <th>month_year</th>\n",
       "      <th>is_hour</th>\n",
       "      <th>is_public_holidays</th>\n",
       "      <th>is_extreme_cliamte</th>\n",
       "    </tr>\n",
       "  </thead>\n",
       "  <tbody>\n",
       "    <tr>\n",
       "      <th>0</th>\n",
       "      <td>0</td>\n",
       "      <td>2018-04-01 11</td>\n",
       "      <td>Boro Zone</td>\n",
       "      <td>1</td>\n",
       "      <td>3432</td>\n",
       "      <td>0.0</td>\n",
       "      <td>2018-04-01</td>\n",
       "      <td>11</td>\n",
       "      <td>2018</td>\n",
       "      <td>Sunday</td>\n",
       "      <td>4</td>\n",
       "      <td>APR</td>\n",
       "      <td>2018 - APR</td>\n",
       "      <td>4</td>\n",
       "      <td>no</td>\n",
       "      <td>yes</td>\n",
       "    </tr>\n",
       "    <tr>\n",
       "      <th>1</th>\n",
       "      <td>0</td>\n",
       "      <td>2018-04-01 2</td>\n",
       "      <td>Boro Zone</td>\n",
       "      <td>1</td>\n",
       "      <td>1633</td>\n",
       "      <td>0.0</td>\n",
       "      <td>2018-04-01</td>\n",
       "      <td>2</td>\n",
       "      <td>2018</td>\n",
       "      <td>Sunday</td>\n",
       "      <td>4</td>\n",
       "      <td>APR</td>\n",
       "      <td>2018 - APR</td>\n",
       "      <td>3</td>\n",
       "      <td>no</td>\n",
       "      <td>yes</td>\n",
       "    </tr>\n",
       "    <tr>\n",
       "      <th>2</th>\n",
       "      <td>0</td>\n",
       "      <td>2018-04-01 8</td>\n",
       "      <td>Boro Zone</td>\n",
       "      <td>1</td>\n",
       "      <td>3732</td>\n",
       "      <td>0.0</td>\n",
       "      <td>2018-04-01</td>\n",
       "      <td>8</td>\n",
       "      <td>2018</td>\n",
       "      <td>Sunday</td>\n",
       "      <td>4</td>\n",
       "      <td>APR</td>\n",
       "      <td>2018 - APR</td>\n",
       "      <td>1</td>\n",
       "      <td>no</td>\n",
       "      <td>yes</td>\n",
       "    </tr>\n",
       "    <tr>\n",
       "      <th>3</th>\n",
       "      <td>0</td>\n",
       "      <td>2018-04-01 9</td>\n",
       "      <td>Boro Zone</td>\n",
       "      <td>2</td>\n",
       "      <td>6212</td>\n",
       "      <td>0.0</td>\n",
       "      <td>2018-04-01</td>\n",
       "      <td>9</td>\n",
       "      <td>2018</td>\n",
       "      <td>Sunday</td>\n",
       "      <td>4</td>\n",
       "      <td>APR</td>\n",
       "      <td>2018 - APR</td>\n",
       "      <td>4</td>\n",
       "      <td>no</td>\n",
       "      <td>yes</td>\n",
       "    </tr>\n",
       "    <tr>\n",
       "      <th>4</th>\n",
       "      <td>0</td>\n",
       "      <td>2018-04-03 12</td>\n",
       "      <td>Boro Zone</td>\n",
       "      <td>1</td>\n",
       "      <td>456</td>\n",
       "      <td>0.0</td>\n",
       "      <td>2018-04-03</td>\n",
       "      <td>12</td>\n",
       "      <td>2018</td>\n",
       "      <td>Tuesday</td>\n",
       "      <td>4</td>\n",
       "      <td>APR</td>\n",
       "      <td>2018 - APR</td>\n",
       "      <td>4</td>\n",
       "      <td>no</td>\n",
       "      <td>no</td>\n",
       "    </tr>\n",
       "  </tbody>\n",
       "</table>\n",
       "</div>"
      ],
      "text/plain": [
       "   Zone     PickupTime service_zone  CabRequest  total_amount  tip_amount  \\\n",
       "0     0  2018-04-01 11    Boro Zone           1          3432         0.0   \n",
       "1     0   2018-04-01 2    Boro Zone           1          1633         0.0   \n",
       "2     0   2018-04-01 8    Boro Zone           1          3732         0.0   \n",
       "3     0   2018-04-01 9    Boro Zone           2          6212         0.0   \n",
       "4     0  2018-04-03 12    Boro Zone           1           456         0.0   \n",
       "\n",
       "        Date hour  Year week_day  month month_name  month_year  is_hour  \\\n",
       "0 2018-04-01   11  2018   Sunday      4        APR  2018 - APR        4   \n",
       "1 2018-04-01    2  2018   Sunday      4        APR  2018 - APR        3   \n",
       "2 2018-04-01    8  2018   Sunday      4        APR  2018 - APR        1   \n",
       "3 2018-04-01    9  2018   Sunday      4        APR  2018 - APR        4   \n",
       "4 2018-04-03   12  2018  Tuesday      4        APR  2018 - APR        4   \n",
       "\n",
       "  is_public_holidays is_extreme_cliamte  \n",
       "0                 no                yes  \n",
       "1                 no                yes  \n",
       "2                 no                yes  \n",
       "3                 no                yes  \n",
       "4                 no                 no  "
      ]
     },
     "execution_count": 23,
     "metadata": {},
     "output_type": "execute_result"
    }
   ],
   "source": [
    "df_Output.head()"
   ]
  },
  {
   "cell_type": "markdown",
   "metadata": {},
   "source": [
    "We can observe from the dataset that the binary values are assigned to the dates that are represented in an array for public holidays and extreme_weather_condition"
   ]
  },
  {
   "cell_type": "markdown",
   "metadata": {},
   "source": [
    "#### Converting the categorical values into numerical values"
   ]
  },
  {
   "cell_type": "code",
   "execution_count": 24,
   "metadata": {},
   "outputs": [],
   "source": [
    "df_Output['is_public_holidays']= label_encoder.fit_transform(df_Output['is_public_holidays']) \n",
    "df_Output['is_extreme_cliamte']= label_encoder.fit_transform(df_Output['is_extreme_cliamte']) \n",
    "df_Output['week_day']= label_encoder.fit_transform(df_Output['week_day']) "
   ]
  },
  {
   "cell_type": "markdown",
   "metadata": {},
   "source": [
    "#### Creating a new dataframe, considering only few columns from the older original dataset"
   ]
  },
  {
   "cell_type": "code",
   "execution_count": 52,
   "metadata": {},
   "outputs": [
    {
     "data": {
      "text/html": [
       "<div>\n",
       "<style scoped>\n",
       "    .dataframe tbody tr th:only-of-type {\n",
       "        vertical-align: middle;\n",
       "    }\n",
       "\n",
       "    .dataframe tbody tr th {\n",
       "        vertical-align: top;\n",
       "    }\n",
       "\n",
       "    .dataframe thead th {\n",
       "        text-align: right;\n",
       "    }\n",
       "</style>\n",
       "<table border=\"1\" class=\"dataframe\">\n",
       "  <thead>\n",
       "    <tr style=\"text-align: right;\">\n",
       "      <th></th>\n",
       "      <th>Zone</th>\n",
       "      <th>total_amount</th>\n",
       "      <th>is_hour</th>\n",
       "      <th>week_day</th>\n",
       "      <th>is_public_holidays</th>\n",
       "      <th>is_extreme_cliamte</th>\n",
       "      <th>hour</th>\n",
       "      <th>CabRequest</th>\n",
       "    </tr>\n",
       "  </thead>\n",
       "  <tbody>\n",
       "    <tr>\n",
       "      <th>0</th>\n",
       "      <td>0</td>\n",
       "      <td>3432</td>\n",
       "      <td>4</td>\n",
       "      <td>3</td>\n",
       "      <td>0</td>\n",
       "      <td>1</td>\n",
       "      <td>11</td>\n",
       "      <td>1</td>\n",
       "    </tr>\n",
       "    <tr>\n",
       "      <th>1</th>\n",
       "      <td>0</td>\n",
       "      <td>1633</td>\n",
       "      <td>3</td>\n",
       "      <td>3</td>\n",
       "      <td>0</td>\n",
       "      <td>1</td>\n",
       "      <td>2</td>\n",
       "      <td>1</td>\n",
       "    </tr>\n",
       "    <tr>\n",
       "      <th>2</th>\n",
       "      <td>0</td>\n",
       "      <td>3732</td>\n",
       "      <td>1</td>\n",
       "      <td>3</td>\n",
       "      <td>0</td>\n",
       "      <td>1</td>\n",
       "      <td>8</td>\n",
       "      <td>1</td>\n",
       "    </tr>\n",
       "    <tr>\n",
       "      <th>3</th>\n",
       "      <td>0</td>\n",
       "      <td>6212</td>\n",
       "      <td>4</td>\n",
       "      <td>3</td>\n",
       "      <td>0</td>\n",
       "      <td>1</td>\n",
       "      <td>9</td>\n",
       "      <td>2</td>\n",
       "    </tr>\n",
       "    <tr>\n",
       "      <th>4</th>\n",
       "      <td>0</td>\n",
       "      <td>456</td>\n",
       "      <td>4</td>\n",
       "      <td>5</td>\n",
       "      <td>0</td>\n",
       "      <td>0</td>\n",
       "      <td>12</td>\n",
       "      <td>1</td>\n",
       "    </tr>\n",
       "  </tbody>\n",
       "</table>\n",
       "</div>"
      ],
      "text/plain": [
       "   Zone  total_amount  is_hour  week_day  is_public_holidays  \\\n",
       "0     0          3432        4         3                   0   \n",
       "1     0          1633        3         3                   0   \n",
       "2     0          3732        1         3                   0   \n",
       "3     0          6212        4         3                   0   \n",
       "4     0           456        4         5                   0   \n",
       "\n",
       "   is_extreme_cliamte hour  CabRequest  \n",
       "0                   1   11           1  \n",
       "1                   1    2           1  \n",
       "2                   1    8           1  \n",
       "3                   1    9           2  \n",
       "4                   0   12           1  "
      ]
     },
     "execution_count": 52,
     "metadata": {},
     "output_type": "execute_result"
    }
   ],
   "source": [
    "df_pool = pd.DataFrame({\"Zone\":df_Output['Zone'],\"total_amount\":df_Output['total_amount'],\"is_hour\":df_Output['is_hour'],\"week_day\":df_Output['week_day'],\"is_public_holidays\":df_Output['is_public_holidays'],\"is_extreme_cliamte\":df_Output['is_extreme_cliamte'],\"hour\":df_Output['hour'],\"CabRequest\":df_Output['CabRequest']})\n",
    "df_pool.head()"
   ]
  },
  {
   "cell_type": "markdown",
   "metadata": {},
   "source": [
    "#### Checking for the unique values present in a week"
   ]
  },
  {
   "cell_type": "code",
   "execution_count": 53,
   "metadata": {},
   "outputs": [
    {
     "data": {
      "text/plain": [
       "array([3, 5, 6, 4, 0, 1, 2])"
      ]
     },
     "execution_count": 53,
     "metadata": {},
     "output_type": "execute_result"
    }
   ],
   "source": [
    "df_pool.week_day.unique() "
   ]
  },
  {
   "cell_type": "markdown",
   "metadata": {},
   "source": [
    "3-SUNDAY\n",
    "5-MONDAY\n",
    "6-TUESDAY\n",
    "4-WEDNESDAY\n",
    "0-THURSDAY\n",
    "1-FRIDAY\n",
    "2-SATURDAY\n"
   ]
  },
  {
   "cell_type": "markdown",
   "metadata": {},
   "source": [
    "#### Plotting the elbow graph to determine the number of clusters to be used"
   ]
  },
  {
   "cell_type": "code",
   "execution_count": 27,
   "metadata": {},
   "outputs": [
    {
     "data": {
      "text/plain": [
       "Text(0, 0.5, 'wcss: sum of dist. of sample to their closest cluster center')"
      ]
     },
     "execution_count": 27,
     "metadata": {},
     "output_type": "execute_result"
    },
    {
     "data": {
      "image/png": "[encoded data removed]",
      "text/plain": [
       "<Figure size 432x288 with 1 Axes>"
      ]
     },
     "metadata": {
      "needs_background": "light"
     },
     "output_type": "display_data"
    }
   ],
   "source": [
    "pick_pos = df_pool[['Zone','total_amount','is_hour','week_day','is_public_holidays','is_extreme_cliamte','CabRequest']]\n",
    "wcss=[]\n",
    "for n_clusters in range(1,10):\n",
    "    kmeans=KMeans(n_clusters=n_clusters,init='k-means++',)\n",
    "    kmeans.fit(pick_pos)\n",
    "    wcss.append(kmeans.inertia_)\n",
    "    clusters = kmeans.predict(pick_pos)\n",
    "plt.plot(range(1,10),wcss)\n",
    "plt.title('Elbow Method')\n",
    "plt.xlabel('No. of cluster')\n",
    "plt.ylabel('wcss: sum of dist. of sample to their closest cluster center' )"
   ]
  },
  {
   "cell_type": "markdown",
   "metadata": {},
   "source": [
    "It is observed that number of cluster=2 is preferred"
   ]
  },
  {
   "cell_type": "markdown",
   "metadata": {},
   "source": [
    "#### Checking the average number of cab request based on extreme wearher condition"
   ]
  },
  {
   "cell_type": "code",
   "execution_count": 28,
   "metadata": {},
   "outputs": [
    {
     "data": {
      "text/html": [
       "<div>\n",
       "<style scoped>\n",
       "    .dataframe tbody tr th:only-of-type {\n",
       "        vertical-align: middle;\n",
       "    }\n",
       "\n",
       "    .dataframe tbody tr th {\n",
       "        vertical-align: top;\n",
       "    }\n",
       "\n",
       "    .dataframe thead th {\n",
       "        text-align: right;\n",
       "    }\n",
       "</style>\n",
       "<table border=\"1\" class=\"dataframe\">\n",
       "  <thead>\n",
       "    <tr style=\"text-align: right;\">\n",
       "      <th></th>\n",
       "      <th>is_extreme_cliamte</th>\n",
       "      <th>CabRequest</th>\n",
       "    </tr>\n",
       "  </thead>\n",
       "  <tbody>\n",
       "    <tr>\n",
       "      <th>1</th>\n",
       "      <td>1</td>\n",
       "      <td>95.571605</td>\n",
       "    </tr>\n",
       "    <tr>\n",
       "      <th>0</th>\n",
       "      <td>0</td>\n",
       "      <td>89.275586</td>\n",
       "    </tr>\n",
       "  </tbody>\n",
       "</table>\n",
       "</div>"
      ],
      "text/plain": [
       "   is_extreme_cliamte  CabRequest\n",
       "1                   1   95.571605\n",
       "0                   0   89.275586"
      ]
     },
     "execution_count": 28,
     "metadata": {},
     "output_type": "execute_result"
    }
   ],
   "source": [
    "df_pool[[\"is_extreme_cliamte\", \"CabRequest\"]].groupby(['is_extreme_cliamte'], as_index=False).mean().sort_values(by='CabRequest', ascending=False)"
   ]
  },
  {
   "cell_type": "markdown",
   "metadata": {},
   "source": [
    "We can observe that the cab request on days of extreme weather condition is greater than on the normal days"
   ]
  },
  {
   "cell_type": "markdown",
   "metadata": {},
   "source": [
    "#### Checking the average number of cab request based on public holidays"
   ]
  },
  {
   "cell_type": "code",
   "execution_count": 29,
   "metadata": {},
   "outputs": [
    {
     "data": {
      "text/html": [
       "<div>\n",
       "<style scoped>\n",
       "    .dataframe tbody tr th:only-of-type {\n",
       "        vertical-align: middle;\n",
       "    }\n",
       "\n",
       "    .dataframe tbody tr th {\n",
       "        vertical-align: top;\n",
       "    }\n",
       "\n",
       "    .dataframe thead th {\n",
       "        text-align: right;\n",
       "    }\n",
       "</style>\n",
       "<table border=\"1\" class=\"dataframe\">\n",
       "  <thead>\n",
       "    <tr style=\"text-align: right;\">\n",
       "      <th></th>\n",
       "      <th>is_public_holidays</th>\n",
       "      <th>CabRequest</th>\n",
       "    </tr>\n",
       "  </thead>\n",
       "  <tbody>\n",
       "    <tr>\n",
       "      <th>0</th>\n",
       "      <td>0</td>\n",
       "      <td>90.318380</td>\n",
       "    </tr>\n",
       "    <tr>\n",
       "      <th>1</th>\n",
       "      <td>1</td>\n",
       "      <td>75.751632</td>\n",
       "    </tr>\n",
       "  </tbody>\n",
       "</table>\n",
       "</div>"
      ],
      "text/plain": [
       "   is_public_holidays  CabRequest\n",
       "0                   0   90.318380\n",
       "1                   1   75.751632"
      ]
     },
     "execution_count": 29,
     "metadata": {},
     "output_type": "execute_result"
    }
   ],
   "source": [
    "df_pool[[\"is_public_holidays\", \"CabRequest\"]].groupby(['is_public_holidays'], as_index=False).mean().sort_values(by='CabRequest', ascending=False)"
   ]
  },
  {
   "cell_type": "markdown",
   "metadata": {},
   "source": [
    "We can observe that the cab request on days of public holidays is lesser than on the normal days"
   ]
  },
  {
   "cell_type": "markdown",
   "metadata": {},
   "source": [
    "#### Checking the average number of cab request based on week_day"
   ]
  },
  {
   "cell_type": "code",
   "execution_count": 30,
   "metadata": {},
   "outputs": [
    {
     "data": {
      "text/html": [
       "<div>\n",
       "<style scoped>\n",
       "    .dataframe tbody tr th:only-of-type {\n",
       "        vertical-align: middle;\n",
       "    }\n",
       "\n",
       "    .dataframe tbody tr th {\n",
       "        vertical-align: top;\n",
       "    }\n",
       "\n",
       "    .dataframe thead th {\n",
       "        text-align: right;\n",
       "    }\n",
       "</style>\n",
       "<table border=\"1\" class=\"dataframe\">\n",
       "  <thead>\n",
       "    <tr style=\"text-align: right;\">\n",
       "      <th></th>\n",
       "      <th>week_day</th>\n",
       "      <th>CabRequest</th>\n",
       "    </tr>\n",
       "  </thead>\n",
       "  <tbody>\n",
       "    <tr>\n",
       "      <th>4</th>\n",
       "      <td>4</td>\n",
       "      <td>95.234645</td>\n",
       "    </tr>\n",
       "    <tr>\n",
       "      <th>0</th>\n",
       "      <td>0</td>\n",
       "      <td>93.485939</td>\n",
       "    </tr>\n",
       "    <tr>\n",
       "      <th>6</th>\n",
       "      <td>6</td>\n",
       "      <td>93.394452</td>\n",
       "    </tr>\n",
       "    <tr>\n",
       "      <th>5</th>\n",
       "      <td>5</td>\n",
       "      <td>92.093746</td>\n",
       "    </tr>\n",
       "    <tr>\n",
       "      <th>2</th>\n",
       "      <td>2</td>\n",
       "      <td>90.661573</td>\n",
       "    </tr>\n",
       "    <tr>\n",
       "      <th>1</th>\n",
       "      <td>1</td>\n",
       "      <td>84.421841</td>\n",
       "    </tr>\n",
       "    <tr>\n",
       "      <th>3</th>\n",
       "      <td>3</td>\n",
       "      <td>78.141644</td>\n",
       "    </tr>\n",
       "  </tbody>\n",
       "</table>\n",
       "</div>"
      ],
      "text/plain": [
       "   week_day  CabRequest\n",
       "4         4   95.234645\n",
       "0         0   93.485939\n",
       "6         6   93.394452\n",
       "5         5   92.093746\n",
       "2         2   90.661573\n",
       "1         1   84.421841\n",
       "3         3   78.141644"
      ]
     },
     "execution_count": 30,
     "metadata": {},
     "output_type": "execute_result"
    }
   ],
   "source": [
    "df_pool[[\"week_day\", \"CabRequest\"]].groupby(['week_day'], as_index=False).mean().sort_values(by='CabRequest', ascending=False)"
   ]
  },
  {
   "cell_type": "markdown",
   "metadata": {},
   "source": [
    "We can observe that the cab request on wednesday is highest"
   ]
  },
  {
   "cell_type": "markdown",
   "metadata": {},
   "source": [
    "3-SUNDAY\n",
    "5-MONDAY\n",
    "6-TUESDAY\n",
    "4-WEDNESDAY\n",
    "0-THURSDAY\n",
    "1-FRIDAY\n",
    "2-SATURDAY\n"
   ]
  },
  {
   "cell_type": "markdown",
   "metadata": {},
   "source": [
    "#### Checking the average number of cab requests based on time intervals"
   ]
  },
  {
   "cell_type": "code",
   "execution_count": 31,
   "metadata": {},
   "outputs": [
    {
     "data": {
      "text/html": [
       "<div>\n",
       "<style scoped>\n",
       "    .dataframe tbody tr th:only-of-type {\n",
       "        vertical-align: middle;\n",
       "    }\n",
       "\n",
       "    .dataframe tbody tr th {\n",
       "        vertical-align: top;\n",
       "    }\n",
       "\n",
       "    .dataframe thead th {\n",
       "        text-align: right;\n",
       "    }\n",
       "</style>\n",
       "<table border=\"1\" class=\"dataframe\">\n",
       "  <thead>\n",
       "    <tr style=\"text-align: right;\">\n",
       "      <th></th>\n",
       "      <th>is_hour</th>\n",
       "      <th>CabRequest</th>\n",
       "    </tr>\n",
       "  </thead>\n",
       "  <tbody>\n",
       "    <tr>\n",
       "      <th>2</th>\n",
       "      <td>2</td>\n",
       "      <td>129.369737</td>\n",
       "    </tr>\n",
       "    <tr>\n",
       "      <th>5</th>\n",
       "      <td>5</td>\n",
       "      <td>111.442528</td>\n",
       "    </tr>\n",
       "    <tr>\n",
       "      <th>0</th>\n",
       "      <td>0</td>\n",
       "      <td>106.790813</td>\n",
       "    </tr>\n",
       "    <tr>\n",
       "      <th>4</th>\n",
       "      <td>4</td>\n",
       "      <td>97.210371</td>\n",
       "    </tr>\n",
       "    <tr>\n",
       "      <th>1</th>\n",
       "      <td>1</td>\n",
       "      <td>59.063270</td>\n",
       "    </tr>\n",
       "    <tr>\n",
       "      <th>3</th>\n",
       "      <td>3</td>\n",
       "      <td>43.794270</td>\n",
       "    </tr>\n",
       "  </tbody>\n",
       "</table>\n",
       "</div>"
      ],
      "text/plain": [
       "   is_hour  CabRequest\n",
       "2        2  129.369737\n",
       "5        5  111.442528\n",
       "0        0  106.790813\n",
       "4        4   97.210371\n",
       "1        1   59.063270\n",
       "3        3   43.794270"
      ]
     },
     "execution_count": 31,
     "metadata": {},
     "output_type": "execute_result"
    }
   ],
   "source": [
    "df_pool[[\"is_hour\", \"CabRequest\"]].groupby(['is_hour'], as_index=False).mean().sort_values(by='CabRequest', ascending=False)"
   ]
  },
  {
   "cell_type": "markdown",
   "metadata": {},
   "source": [
    "We can observe that the time interval between 8am to 12pm and 8pm to 12 am has the highest cab requests"
   ]
  },
  {
   "cell_type": "markdown",
   "metadata": {},
   "source": [
    "#### Defining a function to check the number of cab requests in a given time interval"
   ]
  },
  {
   "cell_type": "code",
   "execution_count": 32,
   "metadata": {},
   "outputs": [],
   "source": [
    "def fun(a):\n",
    "    if a>=15:\n",
    "      return 1\n",
    "    else:\n",
    "      return 0"
   ]
  },
  {
   "cell_type": "markdown",
   "metadata": {},
   "source": [
    "#### Applying the defined function to create a new column"
   ]
  },
  {
   "cell_type": "code",
   "execution_count": 33,
   "metadata": {},
   "outputs": [],
   "source": [
    "df_pool['Pool_Request'] = df_pool.CabRequest.apply(fun)"
   ]
  },
  {
   "cell_type": "code",
   "execution_count": 34,
   "metadata": {},
   "outputs": [
    {
     "data": {
      "text/html": [
       "<div>\n",
       "<style scoped>\n",
       "    .dataframe tbody tr th:only-of-type {\n",
       "        vertical-align: middle;\n",
       "    }\n",
       "\n",
       "    .dataframe tbody tr th {\n",
       "        vertical-align: top;\n",
       "    }\n",
       "\n",
       "    .dataframe thead th {\n",
       "        text-align: right;\n",
       "    }\n",
       "</style>\n",
       "<table border=\"1\" class=\"dataframe\">\n",
       "  <thead>\n",
       "    <tr style=\"text-align: right;\">\n",
       "      <th></th>\n",
       "      <th>Zone</th>\n",
       "      <th>total_amount</th>\n",
       "      <th>is_hour</th>\n",
       "      <th>week_day</th>\n",
       "      <th>is_public_holidays</th>\n",
       "      <th>is_extreme_cliamte</th>\n",
       "      <th>CabRequest</th>\n",
       "      <th>Pool_Request</th>\n",
       "    </tr>\n",
       "  </thead>\n",
       "  <tbody>\n",
       "    <tr>\n",
       "      <th>0</th>\n",
       "      <td>0</td>\n",
       "      <td>3432</td>\n",
       "      <td>4</td>\n",
       "      <td>3</td>\n",
       "      <td>0</td>\n",
       "      <td>1</td>\n",
       "      <td>1</td>\n",
       "      <td>0</td>\n",
       "    </tr>\n",
       "    <tr>\n",
       "      <th>1</th>\n",
       "      <td>0</td>\n",
       "      <td>1633</td>\n",
       "      <td>3</td>\n",
       "      <td>3</td>\n",
       "      <td>0</td>\n",
       "      <td>1</td>\n",
       "      <td>1</td>\n",
       "      <td>0</td>\n",
       "    </tr>\n",
       "    <tr>\n",
       "      <th>2</th>\n",
       "      <td>0</td>\n",
       "      <td>3732</td>\n",
       "      <td>1</td>\n",
       "      <td>3</td>\n",
       "      <td>0</td>\n",
       "      <td>1</td>\n",
       "      <td>1</td>\n",
       "      <td>0</td>\n",
       "    </tr>\n",
       "    <tr>\n",
       "      <th>3</th>\n",
       "      <td>0</td>\n",
       "      <td>6212</td>\n",
       "      <td>4</td>\n",
       "      <td>3</td>\n",
       "      <td>0</td>\n",
       "      <td>1</td>\n",
       "      <td>2</td>\n",
       "      <td>0</td>\n",
       "    </tr>\n",
       "    <tr>\n",
       "      <th>4</th>\n",
       "      <td>0</td>\n",
       "      <td>456</td>\n",
       "      <td>4</td>\n",
       "      <td>5</td>\n",
       "      <td>0</td>\n",
       "      <td>0</td>\n",
       "      <td>1</td>\n",
       "      <td>0</td>\n",
       "    </tr>\n",
       "  </tbody>\n",
       "</table>\n",
       "</div>"
      ],
      "text/plain": [
       "   Zone  total_amount  is_hour  week_day  is_public_holidays  \\\n",
       "0     0          3432        4         3                   0   \n",
       "1     0          1633        3         3                   0   \n",
       "2     0          3732        1         3                   0   \n",
       "3     0          6212        4         3                   0   \n",
       "4     0           456        4         5                   0   \n",
       "\n",
       "   is_extreme_cliamte  CabRequest  Pool_Request  \n",
       "0                   1           1             0  \n",
       "1                   1           1             0  \n",
       "2                   1           1             0  \n",
       "3                   1           2             0  \n",
       "4                   0           1             0  "
      ]
     },
     "execution_count": 34,
     "metadata": {},
     "output_type": "execute_result"
    }
   ],
   "source": [
    "df_pool.head()"
   ]
  },
  {
   "cell_type": "markdown",
   "metadata": {},
   "source": [
    "#### We can observe now that the values present in pool_request are 0 and 1\n",
    "0 represents the number of cab request is less than 15 in a given time interval"
   ]
  },
  {
   "cell_type": "code",
   "execution_count": 35,
   "metadata": {},
   "outputs": [
    {
     "data": {
      "text/plain": [
       "array([0, 1])"
      ]
     },
     "execution_count": 35,
     "metadata": {},
     "output_type": "execute_result"
    }
   ],
   "source": [
    "df_pool.Pool_Request.unique()"
   ]
  },
  {
   "cell_type": "markdown",
   "metadata": {},
   "source": [
    "We determined that car pooling request is 1 when cab request is greater than or equal to 15 is considered as a case of car pooling and when it is less than 15 it is not considered as shared cab and this data is defined on the basis of hourly bin,in which time interval we have maximum no of requests "
   ]
  },
  {
   "cell_type": "code",
   "execution_count": 36,
   "metadata": {},
   "outputs": [],
   "source": [
    "X = np.array(df_pool.drop(['Pool_Request'],axis=1))"
   ]
  },
  {
   "cell_type": "code",
   "execution_count": 37,
   "metadata": {},
   "outputs": [],
   "source": [
    "y = np.array(df_pool['Pool_Request'])"
   ]
  },
  {
   "cell_type": "markdown",
   "metadata": {},
   "source": [
    "### K-Means Clustering"
   ]
  },
  {
   "cell_type": "markdown",
   "metadata": {},
   "source": [
    "k-means clustering aims to partition n observations into k clusters in which each observation belongs to the cluster with the nearest mean, serving as a prototype of the cluster."
   ]
  },
  {
   "cell_type": "code",
   "execution_count": 38,
   "metadata": {},
   "outputs": [
    {
     "data": {
      "text/plain": [
       "KMeans(algorithm='auto', copy_x=True, init='k-means++', max_iter=300,\n",
       "    n_clusters=6, n_init=10, n_jobs=None, precompute_distances='auto',\n",
       "    random_state=None, tol=0.0001, verbose=0)"
      ]
     },
     "execution_count": 38,
     "metadata": {},
     "output_type": "execute_result"
    }
   ],
   "source": [
    "kmeans = KMeans(n_clusters=6) # You want cluster the total records : pool sharing or Not sharing\n",
    "kmeans.fit(pick_pos)"
   ]
  },
  {
   "cell_type": "markdown",
   "metadata": {},
   "source": [
    "With the help of KMeans clustering to solve the problem of unsupervised learning , we have described 6 clusters in order to get better prediction on the basis of various parameters like zone,hourly bin,weekday,bizzarde climate and on public holidays"
   ]
  },
  {
   "cell_type": "code",
   "execution_count": 39,
   "metadata": {},
   "outputs": [
    {
     "name": "stdout",
     "output_type": "stream",
     "text": [
      "0.6161189601865578\n"
     ]
    }
   ],
   "source": [
    "correct = 0\n",
    "for i in range(len(X)):\n",
    "    predict_me = np.array(X[i].astype(float))\n",
    "    predict_me = predict_me.reshape(-1, len(predict_me))\n",
    "    prediction = kmeans.predict(predict_me)\n",
    "    if prediction[0] == y[i]:\n",
    "        correct += 1\n",
    "\n",
    "print(correct/len(X))"
   ]
  },
  {
   "cell_type": "markdown",
   "metadata": {},
   "source": [
    "With the help of dependent and independent variables we can describe that our model was able to cluster 60% correctly"
   ]
  },
  {
   "cell_type": "code",
   "execution_count": 40,
   "metadata": {},
   "outputs": [
    {
     "data": {
      "text/plain": [
       "KMeans(algorithm='auto', copy_x=True, init='k-means++', max_iter=600,\n",
       "    n_clusters=2, n_init=10, n_jobs=None, precompute_distances='auto',\n",
       "    random_state=None, tol=0.0001, verbose=0)"
      ]
     },
     "execution_count": 40,
     "metadata": {},
     "output_type": "execute_result"
    }
   ],
   "source": [
    "kmeans = kmeans = KMeans(n_clusters=2, max_iter=600, algorithm = 'auto')\n",
    "kmeans.fit(X)"
   ]
  },
  {
   "cell_type": "markdown",
   "metadata": {},
   "source": [
    "In order to enhance the performance of model we tweak some parameters of the model ,changed \n",
    "the no of clusters to 2 as we figured it out from elbow graph , changed maximum iterations to 600"
   ]
  },
  {
   "cell_type": "code",
   "execution_count": 41,
   "metadata": {},
   "outputs": [
    {
     "name": "stdout",
     "output_type": "stream",
     "text": [
      "0.7917929460458129\n"
     ]
    }
   ],
   "source": [
    "correct = 0\n",
    "for i in range(len(X)):\n",
    "    predict_me = np.array(X[i].astype(float))\n",
    "    predict_me = predict_me.reshape(-1, len(predict_me))\n",
    "    prediction = kmeans.predict(predict_me)\n",
    "    if prediction[0] == y[i]:\n",
    "        correct += 1\n",
    "\n",
    "print(correct/len(X))"
   ]
  },
  {
   "cell_type": "markdown",
   "metadata": {},
   "source": [
    "It is observed that there is approximately 20% increase in the score.Therefore, small ourl model is 80% correctly clustered"
   ]
  },
  {
   "cell_type": "code",
   "execution_count": 56,
   "metadata": {},
   "outputs": [
    {
     "data": {
      "text/html": [
       "<div>\n",
       "<style scoped>\n",
       "    .dataframe tbody tr th:only-of-type {\n",
       "        vertical-align: middle;\n",
       "    }\n",
       "\n",
       "    .dataframe tbody tr th {\n",
       "        vertical-align: top;\n",
       "    }\n",
       "\n",
       "    .dataframe thead th {\n",
       "        text-align: right;\n",
       "    }\n",
       "</style>\n",
       "<table border=\"1\" class=\"dataframe\">\n",
       "  <thead>\n",
       "    <tr style=\"text-align: right;\">\n",
       "      <th></th>\n",
       "      <th>hour</th>\n",
       "      <th>Zone</th>\n",
       "      <th>CabRequest</th>\n",
       "    </tr>\n",
       "  </thead>\n",
       "  <tbody>\n",
       "    <tr>\n",
       "      <th>45</th>\n",
       "      <td>0</td>\n",
       "      <td>45</td>\n",
       "      <td>377</td>\n",
       "    </tr>\n",
       "    <tr>\n",
       "      <th>4135</th>\n",
       "      <td>23</td>\n",
       "      <td>45</td>\n",
       "      <td>377</td>\n",
       "    </tr>\n",
       "    <tr>\n",
       "      <th>4130</th>\n",
       "      <td>23</td>\n",
       "      <td>40</td>\n",
       "      <td>374</td>\n",
       "    </tr>\n",
       "    <tr>\n",
       "      <th>4137</th>\n",
       "      <td>23</td>\n",
       "      <td>47</td>\n",
       "      <td>374</td>\n",
       "    </tr>\n",
       "    <tr>\n",
       "      <th>3619</th>\n",
       "      <td>21</td>\n",
       "      <td>45</td>\n",
       "      <td>374</td>\n",
       "    </tr>\n",
       "    <tr>\n",
       "      <th>2605</th>\n",
       "      <td>18</td>\n",
       "      <td>45</td>\n",
       "      <td>372</td>\n",
       "    </tr>\n",
       "    <tr>\n",
       "      <th>4128</th>\n",
       "      <td>23</td>\n",
       "      <td>38</td>\n",
       "      <td>372</td>\n",
       "    </tr>\n",
       "    <tr>\n",
       "      <th>4132</th>\n",
       "      <td>23</td>\n",
       "      <td>42</td>\n",
       "      <td>372</td>\n",
       "    </tr>\n",
       "    <tr>\n",
       "      <th>3875</th>\n",
       "      <td>22</td>\n",
       "      <td>45</td>\n",
       "      <td>372</td>\n",
       "    </tr>\n",
       "    <tr>\n",
       "      <th>2348</th>\n",
       "      <td>17</td>\n",
       "      <td>45</td>\n",
       "      <td>372</td>\n",
       "    </tr>\n",
       "    <tr>\n",
       "      <th>4091</th>\n",
       "      <td>23</td>\n",
       "      <td>1</td>\n",
       "      <td>372</td>\n",
       "    </tr>\n",
       "    <tr>\n",
       "      <th>3363</th>\n",
       "      <td>20</td>\n",
       "      <td>45</td>\n",
       "      <td>371</td>\n",
       "    </tr>\n",
       "    <tr>\n",
       "      <th>4100</th>\n",
       "      <td>23</td>\n",
       "      <td>10</td>\n",
       "      <td>371</td>\n",
       "    </tr>\n",
       "    <tr>\n",
       "      <th>3615</th>\n",
       "      <td>21</td>\n",
       "      <td>40</td>\n",
       "      <td>370</td>\n",
       "    </tr>\n",
       "    <tr>\n",
       "      <th>5896</th>\n",
       "      <td>9</td>\n",
       "      <td>45</td>\n",
       "      <td>370</td>\n",
       "    </tr>\n",
       "    <tr>\n",
       "      <th>3359</th>\n",
       "      <td>20</td>\n",
       "      <td>40</td>\n",
       "      <td>370</td>\n",
       "    </tr>\n",
       "    <tr>\n",
       "      <th>40</th>\n",
       "      <td>0</td>\n",
       "      <td>40</td>\n",
       "      <td>370</td>\n",
       "    </tr>\n",
       "    <tr>\n",
       "      <th>4129</th>\n",
       "      <td>23</td>\n",
       "      <td>39</td>\n",
       "      <td>369</td>\n",
       "    </tr>\n",
       "    <tr>\n",
       "      <th>4094</th>\n",
       "      <td>23</td>\n",
       "      <td>4</td>\n",
       "      <td>369</td>\n",
       "    </tr>\n",
       "    <tr>\n",
       "      <th>806</th>\n",
       "      <td>11</td>\n",
       "      <td>40</td>\n",
       "      <td>369</td>\n",
       "    </tr>\n",
       "    <tr>\n",
       "      <th>299</th>\n",
       "      <td>1</td>\n",
       "      <td>45</td>\n",
       "      <td>369</td>\n",
       "    </tr>\n",
       "    <tr>\n",
       "      <th>2857</th>\n",
       "      <td>19</td>\n",
       "      <td>45</td>\n",
       "      <td>369</td>\n",
       "    </tr>\n",
       "    <tr>\n",
       "      <th>1837</th>\n",
       "      <td>15</td>\n",
       "      <td>45</td>\n",
       "      <td>369</td>\n",
       "    </tr>\n",
       "    <tr>\n",
       "      <th>2343</th>\n",
       "      <td>17</td>\n",
       "      <td>40</td>\n",
       "      <td>369</td>\n",
       "    </tr>\n",
       "    <tr>\n",
       "      <th>4894</th>\n",
       "      <td>5</td>\n",
       "      <td>45</td>\n",
       "      <td>369</td>\n",
       "    </tr>\n",
       "    <tr>\n",
       "      <th>2345</th>\n",
       "      <td>17</td>\n",
       "      <td>42</td>\n",
       "      <td>368</td>\n",
       "    </tr>\n",
       "    <tr>\n",
       "      <th>4112</th>\n",
       "      <td>23</td>\n",
       "      <td>22</td>\n",
       "      <td>368</td>\n",
       "    </tr>\n",
       "    <tr>\n",
       "      <th>42</th>\n",
       "      <td>0</td>\n",
       "      <td>42</td>\n",
       "      <td>368</td>\n",
       "    </tr>\n",
       "    <tr>\n",
       "      <th>2088</th>\n",
       "      <td>16</td>\n",
       "      <td>40</td>\n",
       "      <td>368</td>\n",
       "    </tr>\n",
       "    <tr>\n",
       "      <th>2093</th>\n",
       "      <td>16</td>\n",
       "      <td>45</td>\n",
       "      <td>368</td>\n",
       "    </tr>\n",
       "    <tr>\n",
       "      <th>...</th>\n",
       "      <td>...</td>\n",
       "      <td>...</td>\n",
       "      <td>...</td>\n",
       "    </tr>\n",
       "    <tr>\n",
       "      <th>4445</th>\n",
       "      <td>3</td>\n",
       "      <td>103</td>\n",
       "      <td>1</td>\n",
       "    </tr>\n",
       "    <tr>\n",
       "      <th>256</th>\n",
       "      <td>1</td>\n",
       "      <td>2</td>\n",
       "      <td>1</td>\n",
       "    </tr>\n",
       "    <tr>\n",
       "      <th>2089</th>\n",
       "      <td>16</td>\n",
       "      <td>41</td>\n",
       "      <td>1</td>\n",
       "    </tr>\n",
       "    <tr>\n",
       "      <th>5724</th>\n",
       "      <td>8</td>\n",
       "      <td>126</td>\n",
       "      <td>1</td>\n",
       "    </tr>\n",
       "    <tr>\n",
       "      <th>2800</th>\n",
       "      <td>18</td>\n",
       "      <td>247</td>\n",
       "      <td>1</td>\n",
       "    </tr>\n",
       "    <tr>\n",
       "      <th>281</th>\n",
       "      <td>1</td>\n",
       "      <td>27</td>\n",
       "      <td>1</td>\n",
       "    </tr>\n",
       "    <tr>\n",
       "      <th>6017</th>\n",
       "      <td>9</td>\n",
       "      <td>167</td>\n",
       "      <td>1</td>\n",
       "    </tr>\n",
       "    <tr>\n",
       "      <th>1963</th>\n",
       "      <td>15</td>\n",
       "      <td>172</td>\n",
       "      <td>1</td>\n",
       "    </tr>\n",
       "    <tr>\n",
       "      <th>295</th>\n",
       "      <td>1</td>\n",
       "      <td>41</td>\n",
       "      <td>1</td>\n",
       "    </tr>\n",
       "    <tr>\n",
       "      <th>5152</th>\n",
       "      <td>6</td>\n",
       "      <td>54</td>\n",
       "      <td>1</td>\n",
       "    </tr>\n",
       "    <tr>\n",
       "      <th>2840</th>\n",
       "      <td>19</td>\n",
       "      <td>27</td>\n",
       "      <td>1</td>\n",
       "    </tr>\n",
       "    <tr>\n",
       "      <th>4286</th>\n",
       "      <td>23</td>\n",
       "      <td>200</td>\n",
       "      <td>1</td>\n",
       "    </tr>\n",
       "    <tr>\n",
       "      <th>1872</th>\n",
       "      <td>15</td>\n",
       "      <td>80</td>\n",
       "      <td>1</td>\n",
       "    </tr>\n",
       "    <tr>\n",
       "      <th>349</th>\n",
       "      <td>1</td>\n",
       "      <td>95</td>\n",
       "      <td>1</td>\n",
       "    </tr>\n",
       "    <tr>\n",
       "      <th>5953</th>\n",
       "      <td>9</td>\n",
       "      <td>103</td>\n",
       "      <td>1</td>\n",
       "    </tr>\n",
       "    <tr>\n",
       "      <th>3925</th>\n",
       "      <td>22</td>\n",
       "      <td>95</td>\n",
       "      <td>1</td>\n",
       "    </tr>\n",
       "    <tr>\n",
       "      <th>1833</th>\n",
       "      <td>15</td>\n",
       "      <td>41</td>\n",
       "      <td>1</td>\n",
       "    </tr>\n",
       "    <tr>\n",
       "      <th>2892</th>\n",
       "      <td>19</td>\n",
       "      <td>80</td>\n",
       "      <td>1</td>\n",
       "    </tr>\n",
       "    <tr>\n",
       "      <th>3346</th>\n",
       "      <td>20</td>\n",
       "      <td>27</td>\n",
       "      <td>1</td>\n",
       "    </tr>\n",
       "    <tr>\n",
       "      <th>3934</th>\n",
       "      <td>22</td>\n",
       "      <td>104</td>\n",
       "      <td>1</td>\n",
       "    </tr>\n",
       "    <tr>\n",
       "      <th>424</th>\n",
       "      <td>1</td>\n",
       "      <td>172</td>\n",
       "      <td>1</td>\n",
       "    </tr>\n",
       "    <tr>\n",
       "      <th>2921</th>\n",
       "      <td>19</td>\n",
       "      <td>112</td>\n",
       "      <td>1</td>\n",
       "    </tr>\n",
       "    <tr>\n",
       "      <th>5449</th>\n",
       "      <td>7</td>\n",
       "      <td>104</td>\n",
       "      <td>1</td>\n",
       "    </tr>\n",
       "    <tr>\n",
       "      <th>447</th>\n",
       "      <td>1</td>\n",
       "      <td>195</td>\n",
       "      <td>1</td>\n",
       "    </tr>\n",
       "    <tr>\n",
       "      <th>5779</th>\n",
       "      <td>8</td>\n",
       "      <td>183</td>\n",
       "      <td>1</td>\n",
       "    </tr>\n",
       "    <tr>\n",
       "      <th>4703</th>\n",
       "      <td>4</td>\n",
       "      <td>109</td>\n",
       "      <td>1</td>\n",
       "    </tr>\n",
       "    <tr>\n",
       "      <th>2981</th>\n",
       "      <td>19</td>\n",
       "      <td>172</td>\n",
       "      <td>1</td>\n",
       "    </tr>\n",
       "    <tr>\n",
       "      <th>1639</th>\n",
       "      <td>14</td>\n",
       "      <td>103</td>\n",
       "      <td>1</td>\n",
       "    </tr>\n",
       "    <tr>\n",
       "      <th>5954</th>\n",
       "      <td>9</td>\n",
       "      <td>104</td>\n",
       "      <td>1</td>\n",
       "    </tr>\n",
       "    <tr>\n",
       "      <th>2428</th>\n",
       "      <td>17</td>\n",
       "      <td>126</td>\n",
       "      <td>1</td>\n",
       "    </tr>\n",
       "  </tbody>\n",
       "</table>\n",
       "<p>6108 rows × 3 columns</p>\n",
       "</div>"
      ],
      "text/plain": [
       "     hour  Zone  CabRequest\n",
       "45      0    45         377\n",
       "4135   23    45         377\n",
       "4130   23    40         374\n",
       "4137   23    47         374\n",
       "3619   21    45         374\n",
       "2605   18    45         372\n",
       "4128   23    38         372\n",
       "4132   23    42         372\n",
       "3875   22    45         372\n",
       "2348   17    45         372\n",
       "4091   23     1         372\n",
       "3363   20    45         371\n",
       "4100   23    10         371\n",
       "3615   21    40         370\n",
       "5896    9    45         370\n",
       "3359   20    40         370\n",
       "40      0    40         370\n",
       "4129   23    39         369\n",
       "4094   23     4         369\n",
       "806    11    40         369\n",
       "299     1    45         369\n",
       "2857   19    45         369\n",
       "1837   15    45         369\n",
       "2343   17    40         369\n",
       "4894    5    45         369\n",
       "2345   17    42         368\n",
       "4112   23    22         368\n",
       "42      0    42         368\n",
       "2088   16    40         368\n",
       "2093   16    45         368\n",
       "...   ...   ...         ...\n",
       "4445    3   103           1\n",
       "256     1     2           1\n",
       "2089   16    41           1\n",
       "5724    8   126           1\n",
       "2800   18   247           1\n",
       "281     1    27           1\n",
       "6017    9   167           1\n",
       "1963   15   172           1\n",
       "295     1    41           1\n",
       "5152    6    54           1\n",
       "2840   19    27           1\n",
       "4286   23   200           1\n",
       "1872   15    80           1\n",
       "349     1    95           1\n",
       "5953    9   103           1\n",
       "3925   22    95           1\n",
       "1833   15    41           1\n",
       "2892   19    80           1\n",
       "3346   20    27           1\n",
       "3934   22   104           1\n",
       "424     1   172           1\n",
       "2921   19   112           1\n",
       "5449    7   104           1\n",
       "447     1   195           1\n",
       "5779    8   183           1\n",
       "4703    4   109           1\n",
       "2981   19   172           1\n",
       "1639   14   103           1\n",
       "5954    9   104           1\n",
       "2428   17   126           1\n",
       "\n",
       "[6108 rows x 3 columns]"
      ]
     },
     "execution_count": 56,
     "metadata": {},
     "output_type": "execute_result"
    }
   ],
   "source": [
    "df_pool[[\"hour\", \"CabRequest\",\"Zone\"]].groupby(['hour',\"Zone\"], as_index=False).count().sort_values(by='CabRequest', ascending=False)"
   ]
  },
  {
   "cell_type": "code",
   "execution_count": 60,
   "metadata": {},
   "outputs": [],
   "source": [
    "def pool(CabRequest):\n",
    "    if CabRequest>15:\n",
    "        return df.Zone.values\n",
    "    else:\n",
    "        return 'nothing'"
   ]
  },
  {
   "cell_type": "code",
   "execution_count": 61,
   "metadata": {},
   "outputs": [
    {
     "data": {
      "text/html": [
       "<div>\n",
       "<style scoped>\n",
       "    .dataframe tbody tr th:only-of-type {\n",
       "        vertical-align: middle;\n",
       "    }\n",
       "\n",
       "    .dataframe tbody tr th {\n",
       "        vertical-align: top;\n",
       "    }\n",
       "\n",
       "    .dataframe thead th {\n",
       "        text-align: right;\n",
       "    }\n",
       "</style>\n",
       "<table border=\"1\" class=\"dataframe\">\n",
       "  <thead>\n",
       "    <tr style=\"text-align: right;\">\n",
       "      <th></th>\n",
       "      <th>Zone</th>\n",
       "      <th>total_amount</th>\n",
       "      <th>is_hour</th>\n",
       "      <th>week_day</th>\n",
       "      <th>is_public_holidays</th>\n",
       "      <th>is_extreme_cliamte</th>\n",
       "      <th>hour</th>\n",
       "      <th>CabRequest</th>\n",
       "      <th>ZONe_request</th>\n",
       "    </tr>\n",
       "  </thead>\n",
       "  <tbody>\n",
       "    <tr>\n",
       "      <th>0</th>\n",
       "      <td>0</td>\n",
       "      <td>3432</td>\n",
       "      <td>4</td>\n",
       "      <td>3</td>\n",
       "      <td>0</td>\n",
       "      <td>1</td>\n",
       "      <td>11</td>\n",
       "      <td>1</td>\n",
       "      <td>nothing</td>\n",
       "    </tr>\n",
       "    <tr>\n",
       "      <th>1</th>\n",
       "      <td>0</td>\n",
       "      <td>1633</td>\n",
       "      <td>3</td>\n",
       "      <td>3</td>\n",
       "      <td>0</td>\n",
       "      <td>1</td>\n",
       "      <td>2</td>\n",
       "      <td>1</td>\n",
       "      <td>nothing</td>\n",
       "    </tr>\n",
       "    <tr>\n",
       "      <th>2</th>\n",
       "      <td>0</td>\n",
       "      <td>3732</td>\n",
       "      <td>1</td>\n",
       "      <td>3</td>\n",
       "      <td>0</td>\n",
       "      <td>1</td>\n",
       "      <td>8</td>\n",
       "      <td>1</td>\n",
       "      <td>nothing</td>\n",
       "    </tr>\n",
       "    <tr>\n",
       "      <th>3</th>\n",
       "      <td>0</td>\n",
       "      <td>6212</td>\n",
       "      <td>4</td>\n",
       "      <td>3</td>\n",
       "      <td>0</td>\n",
       "      <td>1</td>\n",
       "      <td>9</td>\n",
       "      <td>2</td>\n",
       "      <td>nothing</td>\n",
       "    </tr>\n",
       "    <tr>\n",
       "      <th>4</th>\n",
       "      <td>0</td>\n",
       "      <td>456</td>\n",
       "      <td>4</td>\n",
       "      <td>5</td>\n",
       "      <td>0</td>\n",
       "      <td>0</td>\n",
       "      <td>12</td>\n",
       "      <td>1</td>\n",
       "      <td>nothing</td>\n",
       "    </tr>\n",
       "  </tbody>\n",
       "</table>\n",
       "</div>"
      ],
      "text/plain": [
       "   Zone  total_amount  is_hour  week_day  is_public_holidays  \\\n",
       "0     0          3432        4         3                   0   \n",
       "1     0          1633        3         3                   0   \n",
       "2     0          3732        1         3                   0   \n",
       "3     0          6212        4         3                   0   \n",
       "4     0           456        4         5                   0   \n",
       "\n",
       "   is_extreme_cliamte hour  CabRequest ZONe_request  \n",
       "0                   1   11           1      nothing  \n",
       "1                   1    2           1      nothing  \n",
       "2                   1    8           1      nothing  \n",
       "3                   1    9           2      nothing  \n",
       "4                   0   12           1      nothing  "
      ]
     },
     "execution_count": 61,
     "metadata": {},
     "output_type": "execute_result"
    }
   ],
   "source": [
    "df_pool['ZONe_request'] = df_pool.Zone.apply(pool)\n",
    "df_pool.head()"
   ]
  },
  {
   "cell_type": "code",
   "execution_count": 81,
   "metadata": {},
   "outputs": [
    {
     "data": {
      "text/plain": [
       "array(['nothing', 'nothing', 'nothing', ...,\n",
       "       array(['Allerton/Pelham Gardens', 'Allerton/Pelham Gardens',\n",
       "       'Allerton/Pelham Gardens', ..., 'Cobble Hill', 'Cobble Hill',\n",
       "       'Cobble Hill'], dtype=object),\n",
       "       array(['Allerton/Pelham Gardens', 'Allerton/Pelham Gardens',\n",
       "       'Allerton/Pelham Gardens', ..., 'Cobble Hill', 'Cobble Hill',\n",
       "       'Cobble Hill'], dtype=object),\n",
       "       array(['Allerton/Pelham Gardens', 'Allerton/Pelham Gardens',\n",
       "       'Allerton/Pelham Gardens', ..., 'Cobble Hill', 'Cobble Hill',\n",
       "       'Cobble Hill'], dtype=object)], dtype=object)"
      ]
     },
     "execution_count": 81,
     "metadata": {},
     "output_type": "execute_result"
    }
   ],
   "source": [
    "df_pool['ZONe_request'].values"
   ]
  },
  {
   "cell_type": "markdown",
   "metadata": {},
   "source": [
    "## Summary"
   ]
  },
  {
   "cell_type": "markdown",
   "metadata": {},
   "source": [
    "Data analysis has been implemented to uncover interesting insights from the data. Data transformation was carried out for better analysis. Elbow graph is being plotted to determine the number of clusters to be used in the model. K-means clustering is performed for clustering. Clustering with k=2 and k=6 is performed. K=2 given a better prediction than k=6. Hence k=2 is chosen"
   ]
  },
  {
   "cell_type": "markdown",
   "metadata": {},
   "source": [
    "# Conclusion"
   ]
  },
  {
   "cell_type": "markdown",
   "metadata": {},
   "source": [
    "### Revenue forecasting"
   ]
  },
  {
   "cell_type": "markdown",
   "metadata": {},
   "source": [
    "ARIMA model is used for time series forecasting. ARIMA with (p,d,q) = (2,2,1) is chosen as the AIC value for is better than other models.\n",
    "\n",
    "Linear regression, decision tree regressor and random forest regressor are the algorithms used. Comparing these three models, random forest regressor is giving a better result as the rmse and msle value for them is least. Hence, random forest regressor is preferred"
   ]
  },
  {
   "cell_type": "markdown",
   "metadata": {},
   "source": [
    "### Demand forecasting"
   ]
  },
  {
   "cell_type": "markdown",
   "metadata": {},
   "source": [
    "Linear regression and decision tree regressor are the algorithms used. Decision tree regressor is overfitting the model. Linear regression has a better rmse and msle model when compared to decision tree regressor. Hence, linear regression is preferred"
   ]
  },
  {
   "cell_type": "markdown",
   "metadata": {},
   "source": [
    "### Cab pooling"
   ]
  },
  {
   "cell_type": "markdown",
   "metadata": {},
   "source": [
    "K-Means clustering with K=2 and K=6 was performed. The model with K=2 is giving better prediction than K=6. Hence, the model with k=2 is chosen"
   ]
  },
  {
   "cell_type": "markdown",
   "metadata": {},
   "source": [
    "# Contribution"
   ]
  },
  {
   "cell_type": "markdown",
   "metadata": {},
   "source": [
    "Source: https://www1.nyc.gov/site/tlc/about/tlc-trip-record-data.page\n",
    "\n",
    "Twelve months cab trip data of year 2018 was chosen as our dataset. The data cleaning was done and analysis on the variables was made. Each months data was merged with lookup table. Twelve month's dataset was merged to form a single dataset.\n",
    "\n",
    "1. Demand forecasting: Mahesh Kandukuri\n",
    "2. Revenue forecasting: Kelvin Julka\n",
    "3. Cab pooling: Vinay Ramesh Kangokar\n",
    "\n",
    "60% code from online resources\n",
    "40% code by team"
   ]
  },
  {
   "cell_type": "markdown",
   "metadata": {},
   "source": [
    "# Citation"
   ]
  },
  {
   "cell_type": "markdown",
   "metadata": {},
   "source": [
    "1. Datacamp: https://www.datacamp.com/community/tutorials/k-means-clustering-python\n",
    "2. github: https://www.kaggle.com/vinothkumarsubbiah/new-york-city-taxi-fare-prediction\n",
    "3. kaggle:https://www.kaggle.com/monthepp/new-york-city-taxi-fare-prediction\n",
    "4. Stackoverflow: https://stackoverflow.com/questions/15604647/k-means-clustering-algorithm"
   ]
  },
  {
   "cell_type": "markdown",
   "metadata": {},
   "source": [
    "# License"
   ]
  },
  {
   "cell_type": "markdown",
   "metadata": {},
   "source": [
    "Copyright 2019 Kelvin Julka, Mahesh kandukuri, Vinay Ramesh Kangokar\n",
    "\n",
    "Permission is hereby granted, free of charge, to any person obtaining a copy of this software and associated documentation files (the \"Software\"), to deal in the Software without restriction, including without limitation the rights to use, copy, modify, merge, publish, distribute, sublicense, and/or sell copies of the Software, and to permit persons to whom the Software is furnished to do so, subject to the following conditions:\n",
    "\n",
    "The above copyright notice and this permission notice shall be included in all copies or substantial portions of the Software.\n",
    "\n",
    "THE SOFTWARE IS PROVIDED \"AS IS\", WITHOUT WARRANTY OF ANY KIND, EXPRESS OR IMPLIED, INCLUDING BUT NOT LIMITED TO THE WARRANTIES OF MERCHANTABILITY, FITNESS FOR A PARTICULAR PURPOSE AND NONINFRINGEMENT. IN NO EVENT SHALL THE AUTHORS OR COPYRIGHT HOLDERS BE LIABLE FOR ANY CLAIM, DAMAGES OR OTHER LIABILITY, WHETHER IN AN ACTION OF CONTRACT, TORT OR OTHERWISE, ARISING FROM, OUT OF OR IN CONNECTION WITH THE SOFTWARE OR THE USE OR OTHER DEALINGS IN THE SOFTWARE."
   ]
  },
  {
   "cell_type": "markdown",
   "metadata": {},
   "source": [
    "## Thank you!"
   ]
  },
  {
   "cell_type": "markdown",
   "metadata": {},
   "source": [
    "#### By:\n",
    "##### Kelvin julka\n",
    "##### Mahesh Kandukuri\n",
    "##### Vinay Ramesh Kangokar"
   ]
  }
 ],
 "metadata": {
  "kernelspec": {
   "display_name": "Python 3",
   "language": "python",
   "name": "python3"
  },
  "language_info": {
   "codemirror_mode": {
    "name": "ipython",
    "version": 3
   },
   "file_extension": ".py",
   "mimetype": "text/x-python",
   "name": "python",
   "nbconvert_exporter": "python",
   "pygments_lexer": "ipython3",
   "version": "3.7.1"
  }
 },
 "nbformat": 4,
 "nbformat_minor": 2
}
